{
 "cells": [
  {
   "cell_type": "markdown",
   "id": "3b577c84",
   "metadata": {},
   "source": [
    "### Importing relevant modules"
   ]
  },
  {
   "cell_type": "code",
   "execution_count": null,
   "id": "c96b7f4a",
   "metadata": {},
   "outputs": [],
   "source": [
    "import os\n",
    "import nltk\n",
    "from nltk import*\n"
   ]
  },
  {
   "cell_type": "markdown",
   "id": "68b21fa8",
   "metadata": {},
   "source": [
    "### Testing in built data sets"
   ]
  },
  {
   "cell_type": "code",
   "execution_count": 2,
   "id": "0034565c",
   "metadata": {},
   "outputs": [
    {
     "data": {
      "text/plain": [
       "['The', 'Fulton', 'County', 'Grand', 'Jury', 'said', ...]"
      ]
     },
     "execution_count": 2,
     "metadata": {},
     "output_type": "execute_result"
    }
   ],
   "source": [
    "from nltk.corpus import brown\n",
    "brown.words()"
   ]
  },
  {
   "cell_type": "code",
   "execution_count": 41,
   "id": "3fc36c88",
   "metadata": {},
   "outputs": [
    {
     "name": "stderr",
     "output_type": "stream",
     "text": [
      "[nltk_data] Downloading package brown to\n",
      "[nltk_data]     C:\\Users\\Willow\\AppData\\Roaming\\nltk_data...\n",
      "[nltk_data]   Unzipping corpora\\brown.zip.\n"
     ]
    },
    {
     "data": {
      "text/plain": [
       "True"
      ]
     },
     "execution_count": 41,
     "metadata": {},
     "output_type": "execute_result"
    }
   ],
   "source": [
    "nltk.download('brown')"
   ]
  },
  {
   "cell_type": "code",
   "execution_count": 5,
   "id": "ce8474b6",
   "metadata": {},
   "outputs": [
    {
     "name": "stderr",
     "output_type": "stream",
     "text": [
      "[nltk_data] Error loading gutenberg: <urlopen error [Errno 11001]\n",
      "[nltk_data]     getaddrinfo failed>\n"
     ]
    },
    {
     "data": {
      "text/plain": [
       "False"
      ]
     },
     "execution_count": 5,
     "metadata": {},
     "output_type": "execute_result"
    }
   ],
   "source": [
    "nltk.download('gutenberg')"
   ]
  },
  {
   "cell_type": "code",
   "execution_count": 6,
   "id": "4bf06618",
   "metadata": {},
   "outputs": [
    {
     "data": {
      "text/plain": [
       "['austen-emma.txt',\n",
       " 'austen-persuasion.txt',\n",
       " 'austen-sense.txt',\n",
       " 'bible-kjv.txt',\n",
       " 'blake-poems.txt',\n",
       " 'bryant-stories.txt',\n",
       " 'burgess-busterbrown.txt',\n",
       " 'carroll-alice.txt',\n",
       " 'chesterton-ball.txt',\n",
       " 'chesterton-brown.txt',\n",
       " 'chesterton-thursday.txt',\n",
       " 'edgeworth-parents.txt',\n",
       " 'melville-moby_dick.txt',\n",
       " 'milton-paradise.txt',\n",
       " 'shakespeare-caesar.txt',\n",
       " 'shakespeare-hamlet.txt',\n",
       " 'shakespeare-macbeth.txt',\n",
       " 'whitman-leaves.txt']"
      ]
     },
     "execution_count": 6,
     "metadata": {},
     "output_type": "execute_result"
    }
   ],
   "source": [
    "nltk.corpus.gutenberg.fileids()"
   ]
  },
  {
   "cell_type": "code",
   "execution_count": 47,
   "id": "b1617b8e",
   "metadata": {},
   "outputs": [
    {
     "name": "stdout",
     "output_type": "stream",
     "text": [
      "Requirement already satisfied: nltk in c:\\users\\willow\\anaconda3\\lib\\site-packages (3.7)\n",
      "Requirement already satisfied: click in c:\\users\\willow\\anaconda3\\lib\\site-packages (from nltk) (8.1.3)\n",
      "Requirement already satisfied: joblib in c:\\users\\willow\\anaconda3\\lib\\site-packages (from nltk) (1.1.1)\n",
      "Requirement already satisfied: regex>=2021.8.3 in c:\\users\\willow\\anaconda3\\lib\\site-packages (from nltk) (2022.7.9)\n",
      "Requirement already satisfied: tqdm in c:\\users\\willow\\anaconda3\\lib\\site-packages (from nltk) (4.64.1)\n",
      "Requirement already satisfied: colorama in c:\\users\\willow\\anaconda3\\lib\\site-packages (from click->nltk) (0.4.6)\n"
     ]
    }
   ],
   "source": [
    "!pip3 install nltk"
   ]
  },
  {
   "cell_type": "code",
   "execution_count": 7,
   "id": "e1776847",
   "metadata": {
    "scrolled": true
   },
   "outputs": [
    {
     "name": "stdout",
     "output_type": "stream",
     "text": [
      "[ The Tragedie of Hamlet by William Shakespeare 1599 ] Actus Primus . Scoena Prima . Enter Barnardo and Francisco two Centinels . Barnardo . Who ' s there ? Fran . Nay answer me : Stand & vnfold your selfe Bar . Long liue the King Fran . Barnardo ? Bar . He Fran . You come most carefully vpon your houre Bar . ' Tis now strook twelue , get thee to bed Francisco Fran . For this releefe much thankes : ' Tis bitter cold , And I am sicke at heart Barn . Haue you had quiet Guard ? Fran . Not a Mouse stirring Barn . Well , goodnight . If you do meet Horatio and Marcellus , the Riuals of my Watch , bid them make hast . Enter Horatio and Marcellus . Fran . I thinke I heare them . Stand : who ' s there ? Hor . Friends to this ground Mar . And Leige - men to the Dane Fran . Giue you good night Mar . O farwel honest Soldier , who hath relieu ' d you ? Fra . Barnardo ha ' s my place : giue you goodnight . Exit Fran . Mar . Holla Barnardo Bar . Say , what is Horatio there ? Hor . A peece of him Bar . Welcome Horatio , welcome good Marcellus Mar . What , ha ' s this thing appear ' d againe to night Bar . I haue seene nothing Mar . Horatio saies , ' tis but our Fantasie , And will not let beleefe take hold of him Touching this dreaded sight , twice seene of vs , Therefore I haue intreated him along With vs , to watch the minutes of this Night , That if againe this Apparition come , He may approue our eyes , and speake to it Hor . Tush , tush , ' twill not appeare Bar . Sit downe a - while , And let vs once againe assaile your eares , That are so fortified against our Story , What we two Nights haue seene Hor . Well , sit we downe , And let vs heare Barnardo speake of this Barn . Last night of all , When yond same Starre that ' s Westward from the Pole Had made his course t ' illume that part of Heauen Where now it burnes , Marcellus and my selfe , The Bell then beating one Mar . Peace , breake thee of : Enter the Ghost . Looke where it comes againe Barn . In the same figure , like the King that ' s dead Mar . Thou art a Scholler ; speake to it Horatio Barn . Lookes it not like the King ? Marke it Horatio Hora . Most like : It harrowes me with fear & wonder Barn . It would be spoke too Mar . Question it Horatio Hor . What art thou that vsurp ' st this time of night , Together with that Faire and Warlike forme In which the Maiesty of buried Denmarke Did sometimes march : By Heauen I charge thee speake Mar . It is offended Barn . See , it stalkes away Hor . Stay : speake ; speake : I Charge thee , speake . Exit the Ghost . Mar . ' Tis gone , and will not answer Barn . How now Horatio ? You tremble & look pale : Is not this something more then Fantasie ? What thinke you on ' t ? Hor . Before my God , I might not this beleeue Without the sensible and true auouch Of mine owne eyes Mar . Is it not like the King ? Hor . As thou art to thy selfe , Such was the very Armour he had on , When th ' Ambitious Norwey combatted : So frown ' d he once , when in an angry parle He smot the sledded Pollax on the Ice . ' Tis strange Mar . Thus twice before , and iust at this dead houre , With Martiall stalke , hath he gone by our Watch Hor . In what particular thought to work , I know not : But in the grosse and scope of my Opinion , This boades some strange erruption to our State Mar . Good now sit downe , & tell me he that knowes Why this same strict and most obseruant Watch , So nightly toyles the subiect of the Land , And why such dayly Cast of Brazon Cannon And Forraigne Mart for Implements of warre : Why such impresse of Ship - wrights , whose sore Taske Do ' s not diuide the Sunday from the weeke , What might be toward , that this sweaty hast Doth make the Night ioynt - Labourer with the day : Who is ' t that can informe me ? Hor . That can I , At least the whisper goes so : Our last King , Whose Image euen but now appear ' d to vs , Was ( as you know ) by Fortinbras of Norway , ( Thereto prick ' d on by a most emulate Pride ) Dar ' d to the Combate . In which , our Valiant Hamlet , ( For so this side of our knowne world esteem ' d him ) Did slay this Fortinbras : who by a Seal ' d Compact , Well ratified by Law , and Heraldrie , Did forfeite ( with his life ) all those his Lands Which he stood seiz ' d on , to the Conqueror : Against the which , a Moity competent Was gaged by our King : which had return ' d To the Inheritance of Fortinbras , Had he bin Vanquisher , as by the same Cou ' nant And carriage of the Article designe , His fell "
     ]
    }
   ],
   "source": [
    "hamlet=nltk.corpus.gutenberg.words('shakespeare-hamlet.txt')\n",
    "for word in hamlet[:1000]:\n",
    "    print(word,sep=' ',end=' ')"
   ]
  },
  {
   "cell_type": "markdown",
   "id": "b07095ee",
   "metadata": {},
   "source": [
    "### Frequency distinction"
   ]
  },
  {
   "cell_type": "code",
   "execution_count": 8,
   "id": "486921b5",
   "metadata": {},
   "outputs": [],
   "source": [
    "f_dist=FreqDist()"
   ]
  },
  {
   "cell_type": "code",
   "execution_count": 9,
   "id": "32fb14ed",
   "metadata": {},
   "outputs": [
    {
     "data": {
      "text/plain": [
       "FreqDist({',': 2892, '.': 1886, 'the': 993, 'and': 863, \"'\": 729, 'to': 685, 'of': 610, 'i': 574, ':': 565, 'you': 527, ...})"
      ]
     },
     "execution_count": 9,
     "metadata": {},
     "output_type": "execute_result"
    }
   ],
   "source": [
    "for word in hamlet:\n",
    "    f_dist[word.lower()]+=1\n",
    "f_dist"
   ]
  },
  {
   "cell_type": "code",
   "execution_count": 14,
   "id": "c3f535c3",
   "metadata": {},
   "outputs": [
    {
     "data": {
      "text/plain": [
       "993"
      ]
     },
     "execution_count": 14,
     "metadata": {},
     "output_type": "execute_result"
    }
   ],
   "source": [
    "f_dist['the'] #frequency of the word the"
   ]
  },
  {
   "cell_type": "code",
   "execution_count": 17,
   "id": "be12e879",
   "metadata": {},
   "outputs": [
    {
     "data": {
      "text/plain": [
       "[(',', 2892),\n",
       " ('.', 1886),\n",
       " ('the', 993),\n",
       " ('and', 863),\n",
       " (\"'\", 729),\n",
       " ('to', 685),\n",
       " ('of', 610),\n",
       " ('i', 574),\n",
       " (':', 565),\n",
       " ('you', 527)]"
      ]
     },
     "execution_count": 17,
     "metadata": {},
     "output_type": "execute_result"
    }
   ],
   "source": [
    "f_dist.most_common(10)"
   ]
  },
  {
   "cell_type": "code",
   "execution_count": 31,
   "id": "fe724cba",
   "metadata": {},
   "outputs": [],
   "source": [
    "ham=''\n",
    "for word in hamlet:\n",
    "    if word != '[' and word !=']':\n",
    "        ham+=word+' '"
   ]
  },
  {
   "cell_type": "markdown",
   "id": "6405c095",
   "metadata": {},
   "source": [
    "### Tokenizing"
   ]
  },
  {
   "cell_type": "code",
   "execution_count": 36,
   "id": "44531b6a",
   "metadata": {},
   "outputs": [
    {
     "data": {
      "text/plain": [
       "1"
      ]
     },
     "execution_count": 36,
     "metadata": {},
     "output_type": "execute_result"
    }
   ],
   "source": [
    "from nltk.tokenize import blankline_tokenize\n",
    "halet_blank=blankline_tokenize(ham)\n",
    "len(halet_blank)"
   ]
  },
  {
   "cell_type": "code",
   "execution_count": 46,
   "id": "90f25f16",
   "metadata": {},
   "outputs": [
    {
     "data": {
      "text/plain": [
       "['I',\n",
       " 'thinke',\n",
       " 'I',\n",
       " 'heare',\n",
       " 'them',\n",
       " '.',\n",
       " 'Stand',\n",
       " ':',\n",
       " 'who',\n",
       " \"'\",\n",
       " 's',\n",
       " 'there',\n",
       " '?']"
      ]
     },
     "execution_count": 46,
     "metadata": {},
     "output_type": "execute_result"
    }
   ],
   "source": [
    "from nltk.util import*\n",
    "string=\"I thinke I heare them . Stand : who ' s there ?\"\n",
    "quotes_token=nltk.word_tokenize(string)\n",
    "quotes_token"
   ]
  },
  {
   "cell_type": "code",
   "execution_count": 51,
   "id": "1517684e",
   "metadata": {},
   "outputs": [
    {
     "data": {
      "text/plain": [
       "[('I', 'thinke'),\n",
       " ('thinke', 'I'),\n",
       " ('I', 'heare'),\n",
       " ('heare', 'them'),\n",
       " ('them', '.'),\n",
       " ('.', 'Stand'),\n",
       " ('Stand', ':'),\n",
       " (':', 'who'),\n",
       " ('who', \"'\"),\n",
       " (\"'\", 's'),\n",
       " ('s', 'there'),\n",
       " ('there', '?')]"
      ]
     },
     "execution_count": 51,
     "metadata": {},
     "output_type": "execute_result"
    }
   ],
   "source": [
    "quotes_bigram=list(bigrams(quotes_token))\n",
    "quotes_bigram"
   ]
  },
  {
   "cell_type": "code",
   "execution_count": 50,
   "id": "cca3d4f6",
   "metadata": {},
   "outputs": [
    {
     "name": "stdout",
     "output_type": "stream",
     "text": [
      "showing info https://raw.githubusercontent.com/nltk/nltk_data/gh-pages/index.xml\n"
     ]
    },
    {
     "name": "stderr",
     "output_type": "stream",
     "text": [
      "Exception in Tkinter callback\n",
      "Traceback (most recent call last):\n",
      "  File \"C:\\Users\\Willow\\anaconda3\\lib\\tkinter\\__init__.py\", line 1921, in __call__\n",
      "    return self.func(*args)\n",
      "  File \"C:\\Users\\Willow\\anaconda3\\lib\\site-packages\\nltk\\downloader.py\", line 1783, in _download\n",
      "    return self._download_threaded(*e)\n",
      "  File \"C:\\Users\\Willow\\anaconda3\\lib\\site-packages\\nltk\\downloader.py\", line 2069, in _download_threaded\n",
      "    assert self._download_msg_queue == []\n",
      "AssertionError\n"
     ]
    },
    {
     "data": {
      "text/plain": [
       "True"
      ]
     },
     "execution_count": 50,
     "metadata": {},
     "output_type": "execute_result"
    }
   ],
   "source": [
    "nltk.download()"
   ]
  }
 ],
 "metadata": {
  "kernelspec": {
   "display_name": "Python 3 (ipykernel)",
   "language": "python",
   "name": "python3"
  },
  "language_info": {
   "codemirror_mode": {
    "name": "ipython",
    "version": 3
   },
   "file_extension": ".py",
   "mimetype": "text/x-python",
   "name": "python",
   "nbconvert_exporter": "python",
   "pygments_lexer": "ipython3",
   "version": "3.10.9"
  }
 },
 "nbformat": 4,
 "nbformat_minor": 5
}
