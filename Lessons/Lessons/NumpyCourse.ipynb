{
 "cells": [
  {
   "cell_type": "code",
   "execution_count": 1,
   "id": "f51566ea",
   "metadata": {},
   "outputs": [],
   "source": [
    "\n",
    "import numpy as np\n"
   ]
  },
  {
   "cell_type": "markdown",
   "id": "7b2f80da",
   "metadata": {},
   "source": [
    "### Basics"
   ]
  },
  {
   "cell_type": "code",
   "execution_count": 3,
   "id": "6a004d90",
   "metadata": {},
   "outputs": [
    {
     "name": "stderr",
     "output_type": "stream",
     "text": [
      "C:\\Users\\Willow\\AppData\\Local\\Temp\\ipykernel_9084\\1404258136.py:13: DeprecationWarning: `np.complex` is a deprecated alias for the builtin `complex`. To silence this warning, use `complex` by itself. Doing this will not modify any behavior and is safe. If you specifically wanted the numpy scalar type, use `np.complex128` here.\n",
      "Deprecated in NumPy 1.20; for more details and guidance: https://numpy.org/devdocs/release/1.20.0-notes.html#deprecations\n",
      "  z = np.array([[1,2,3],[4,5,6]], dtype=np.complex)\n"
     ]
    },
    {
     "data": {
      "text/plain": [
       "6"
      ]
     },
     "execution_count": 3,
     "metadata": {},
     "output_type": "execute_result"
    }
   ],
   "source": [
    "# Multiplying items in an array\n",
    "a = np.array([1,2,3])\n",
    "b = np.array([[2,6,9],[2,4,3]])\n",
    "# j = a*b\n",
    "# Getting dimensions of np arrays\n",
    "b.ndim\n",
    "# Getting shape\n",
    "a.shape\n",
    "# Get type\n",
    "a.dtype\n",
    "# Changing inttype\n",
    "a = np.array([1,2,3], dtype='int16')\n",
    "z = np.array([[1,2,3],[4,5,6]], dtype=np.complex)\n",
    "# Get size\n",
    "a.itemsize\n",
    "# Getting total size\n",
    "# a.size*a.itemsize\n",
    "# OR\n",
    "a.nbytes"
   ]
  },
  {
   "cell_type": "markdown",
   "id": "605f3a59",
   "metadata": {},
   "source": [
    "### Accessing/Changing specific element, rows, columns and Slicing"
   ]
  },
  {
   "cell_type": "code",
   "execution_count": 64,
   "id": "31eb501e",
   "metadata": {},
   "outputs": [
    {
     "data": {
      "text/plain": [
       "array([2, 4, 6])"
      ]
     },
     "execution_count": 64,
     "metadata": {},
     "output_type": "execute_result"
    }
   ],
   "source": [
    "a = np.array([[1,2,3,4,5,6,7],[8,9,10,11,12,13,14]])\n",
    "\n",
    "# Getting specific element [r, c]\n",
    "a[0, 0]\n",
    "# Geting specific row\n",
    "a[0, :]\n",
    "# Getting specific column\n",
    "a[:,2]\n",
    "# obtaining custom values\n",
    "a[0,1:-1:3]\n",
    "\n",
    "\n",
    "o = np.ones((1,6))\n",
    "z = np.zeros((1,6))\n",
    "zo = np.vstack([o,z,o,z,o,z])\n",
    "# Getting alternating rows starting with the first row\n",
    "zo[::2]\n",
    "# Getting alternating rows starting with the second row\n",
    "zo[1::2]\n",
    "\n",
    "# Getting alternating columns starting with first column\n",
    "zo[:,::2]\n",
    "# Getting alternating columns starting with second column\n",
    "zo[:,1::2]\n",
    "s = slice(1,8,2)\n",
    "a[0][s]"
   ]
  },
  {
   "cell_type": "markdown",
   "id": "d103bb5d",
   "metadata": {},
   "source": [
    "### Changing elements"
   ]
  },
  {
   "cell_type": "code",
   "execution_count": 29,
   "id": "1226fec9",
   "metadata": {},
   "outputs": [
    {
     "name": "stdout",
     "output_type": "stream",
     "text": [
      "[[ 1  2  3  4  5  6  7]\n",
      " [ 8  9 10 11 12 20 14]]\n",
      "[[ 1  2  1  4  5  6  7]\n",
      " [ 8  9  2 11 12 20 14]]\n"
     ]
    }
   ],
   "source": [
    "a[1,5]=20\n",
    "print(a)\n",
    "a[:,2]=[1,2]\n",
    "print(a)"
   ]
  },
  {
   "cell_type": "code",
   "execution_count": 30,
   "id": "1e342c00",
   "metadata": {},
   "outputs": [
    {
     "data": {
      "text/plain": [
       "array([[[1, 2],\n",
       "        [3, 4]],\n",
       "\n",
       "       [[5, 6],\n",
       "        [7, 8]]])"
      ]
     },
     "execution_count": 30,
     "metadata": {},
     "output_type": "execute_result"
    }
   ],
   "source": [
    "# 3D\n",
    "b = np.array([[[1,2],[3,4]],[[5,6],[7,8]]])\n",
    "b"
   ]
  },
  {
   "cell_type": "code",
   "execution_count": 31,
   "id": "33c68a4f",
   "metadata": {},
   "outputs": [
    {
     "data": {
      "text/plain": [
       "array([[3, 4],\n",
       "       [7, 8]])"
      ]
     },
     "execution_count": 31,
     "metadata": {},
     "output_type": "execute_result"
    }
   ],
   "source": [
    "# Getting specific elements(working outside in)\n",
    "b[:,1]"
   ]
  },
  {
   "cell_type": "markdown",
   "id": "7b52ad99",
   "metadata": {},
   "source": [
    "### Initializing different types of arrays"
   ]
  },
  {
   "cell_type": "code",
   "execution_count": 33,
   "id": "49c5fe94",
   "metadata": {},
   "outputs": [
    {
     "data": {
      "text/plain": [
       "array([[4, 4, 4, 4, 4, 4, 4],\n",
       "       [4, 4, 4, 4, 4, 4, 4]])"
      ]
     },
     "execution_count": 33,
     "metadata": {},
     "output_type": "execute_result"
    }
   ],
   "source": [
    "# All 0s matrix\n",
    "np.zeros((2,3,4))\n",
    "# All ones matrix\n",
    "np.ones((2,3,4))\n",
    "# Any other numbers\n",
    "np.full((2,3),7)\n",
    "# Any other number(full_like)-imiates an already defined array\n",
    "np.full_like(a,4)\n"
   ]
  },
  {
   "cell_type": "code",
   "execution_count": 4,
   "id": "2ec5b2e8",
   "metadata": {},
   "outputs": [
    {
     "data": {
      "text/plain": [
       "array([[1., 0., 0., 0., 0.],\n",
       "       [0., 1., 0., 0., 0.],\n",
       "       [0., 0., 1., 0., 0.],\n",
       "       [0., 0., 0., 1., 0.],\n",
       "       [0., 0., 0., 0., 1.]])"
      ]
     },
     "execution_count": 4,
     "metadata": {},
     "output_type": "execute_result"
    }
   ],
   "source": [
    "# Random decimal number\n",
    "np.random.rand(4,2,3)\n",
    "np.random.random_sample(a.shape)\n",
    "# Random integers\n",
    "np.random.randint(1,5, size=(4,3))\n",
    "# Identity matrix\n",
    "np.identity(5)\n"
   ]
  },
  {
   "cell_type": "code",
   "execution_count": 5,
   "id": "67cfeff1",
   "metadata": {},
   "outputs": [
    {
     "data": {
      "text/plain": [
       "array([[1, 2, 3],\n",
       "       [1, 2, 3],\n",
       "       [1, 2, 3],\n",
       "       [1, 2, 3],\n",
       "       [1, 2, 3]])"
      ]
     },
     "execution_count": 5,
     "metadata": {},
     "output_type": "execute_result"
    }
   ],
   "source": [
    "# Repeating an array\n",
    "arr = np.array([[1,2,3]])\n",
    "r1 = np.repeat(arr,5,axis=0)\n",
    "r1"
   ]
  },
  {
   "cell_type": "code",
   "execution_count": 14,
   "id": "e417f1a8",
   "metadata": {},
   "outputs": [
    {
     "ename": "TypeError",
     "evalue": "'numpy.ndarray' object is not callable",
     "output_type": "error",
     "traceback": [
      "\u001b[1;31m---------------------------------------------------------------------------\u001b[0m",
      "\u001b[1;31mTypeError\u001b[0m                                 Traceback (most recent call last)",
      "Cell \u001b[1;32mIn[14], line 1\u001b[0m\n\u001b[1;32m----> 1\u001b[0m np\u001b[38;5;241m.\u001b[39msplit(\u001b[43marr\u001b[49m\u001b[43m(\u001b[49m\u001b[38;5;241;43m2\u001b[39;49m\u001b[43m,\u001b[49m\u001b[38;5;241;43m3\u001b[39;49m\u001b[43m)\u001b[49m)\n",
      "\u001b[1;31mTypeError\u001b[0m: 'numpy.ndarray' object is not callable"
     ]
    }
   ],
   "source": [
    "np.split(arr(2,3))"
   ]
  },
  {
   "cell_type": "code",
   "execution_count": 10,
   "id": "80a8f25e",
   "metadata": {},
   "outputs": [
    {
     "data": {
      "text/plain": [
       "array([[1., 1., 1., 1., 1.],\n",
       "       [1., 0., 0., 0., 1.],\n",
       "       [1., 0., 9., 0., 1.],\n",
       "       [1., 0., 0., 0., 1.],\n",
       "       [1., 1., 1., 1., 1.]])"
      ]
     },
     "execution_count": 10,
     "metadata": {},
     "output_type": "execute_result"
    }
   ],
   "source": [
    "# j =np.ones((5,5))\n",
    "# j[:,1]=[1,0,0,0,1]\n",
    "# j[:,2]=[1,0,9,0,1]\n",
    "# j[:,3] = j[:,1]\n",
    "# j\n",
    "# OR\n",
    "output = np.ones((5,5))\n",
    "z = np.zeros((3,3))\n",
    "z[1,1]=9\n",
    "output[1:-1,1:-1]=z\n",
    "output"
   ]
  },
  {
   "cell_type": "markdown",
   "id": "91e6629a",
   "metadata": {},
   "source": [
    "### Copying arrays without affecting contents of original array when changes are made to the duplicate"
   ]
  },
  {
   "cell_type": "code",
   "execution_count": 15,
   "id": "3cd7a283",
   "metadata": {},
   "outputs": [
    {
     "data": {
      "text/plain": [
       "array([1, 2, 3])"
      ]
     },
     "execution_count": 15,
     "metadata": {},
     "output_type": "execute_result"
    }
   ],
   "source": [
    "a  =np.array([1,2,3])\n",
    "b = a.copy()\n",
    "b[0]=100\n",
    "a"
   ]
  },
  {
   "cell_type": "code",
   "execution_count": 13,
   "id": "4b8990b9",
   "metadata": {},
   "outputs": [
    {
     "data": {
      "text/plain": [
       "array([[1., 0., 0.],\n",
       "       [0., 1., 0.],\n",
       "       [0., 0., 1.]])"
      ]
     },
     "execution_count": 13,
     "metadata": {},
     "output_type": "execute_result"
    }
   ],
   "source": [
    "# Linear algebra\n",
    "# np.matmul()-multiplication of matrices\n",
    "a = np.ones((2,3))\n",
    "b = np.full((3,2),2)\n",
    "np.matmul(a,b)\n",
    "# Getting determinant\n",
    "# np.linalg.det()\n",
    "c = np.identity(3)\n",
    "# Getting inverse matrix\n",
    "np.linalg.inv(c)\n"
   ]
  },
  {
   "cell_type": "markdown",
   "id": "ac7cdaee",
   "metadata": {},
   "source": [
    "### Statistics"
   ]
  },
  {
   "cell_type": "code",
   "execution_count": 14,
   "id": "6eb8eb39",
   "metadata": {},
   "outputs": [
    {
     "data": {
      "text/plain": [
       "array([[0.        , 1.        , 1.5849625 ],\n",
       "       [2.        , 2.32192809, 2.5849625 ]])"
      ]
     },
     "execution_count": 14,
     "metadata": {},
     "output_type": "execute_result"
    }
   ],
   "source": [
    "stats = np.array([[1,2,3],[4,5,6]],dtype='int64')\n",
    "# minimum value\n",
    "np.min(stats,axis=0)\n",
    "# Maximum value\n",
    "np.max(stats)\n",
    "# Sum\n",
    "np.sum(stats,axis=0)\n",
    "# Squareroot\n",
    "np.sqrt(stats)\n",
    "# Standard deviation\n",
    "np.std(stats)\n",
    "# log to base 10\n",
    "np.log(stats)\n",
    "# Log to base 2\n",
    "np.log2(stats)"
   ]
  },
  {
   "cell_type": "code",
   "execution_count": 3,
   "id": "e08a08aa",
   "metadata": {},
   "outputs": [
    {
     "data": {
      "text/plain": [
       "array([1, 2, 3, 3, 4, 5])"
      ]
     },
     "execution_count": 3,
     "metadata": {},
     "output_type": "execute_result"
    }
   ],
   "source": [
    "# Ravel function\n",
    "f= np.array([[1,2,3],[3,4,5]])\n",
    "f.ravel()"
   ]
  },
  {
   "cell_type": "markdown",
   "id": "f0a5e8df",
   "metadata": {},
   "source": [
    "### Reorganizing arrays"
   ]
  },
  {
   "cell_type": "code",
   "execution_count": 18,
   "id": "24fc2218",
   "metadata": {},
   "outputs": [
    {
     "ename": "SyntaxError",
     "evalue": "invalid syntax. Perhaps you forgot a comma? (911558004.py, line 5)",
     "output_type": "error",
     "traceback": [
      "\u001b[1;36m  Cell \u001b[1;32mIn[18], line 5\u001b[1;36m\u001b[0m\n\u001b[1;33m    b.flatten(order='C' OR 'F' OR 'A')\u001b[0m\n\u001b[1;37m                    ^\u001b[0m\n\u001b[1;31mSyntaxError\u001b[0m\u001b[1;31m:\u001b[0m invalid syntax. Perhaps you forgot a comma?\n"
     ]
    }
   ],
   "source": [
    "# Reshaping\n",
    "# Ensure that product of row(s) and column(s) remain constant\n",
    "b = stats.reshape((3,2,1))\n",
    " # .flatten() - converts a multidimension array to 1 by 1 dimension\n",
    "b.flatten(order='C' OR 'F' OR 'A')\n",
    "# Vertically stacking\n",
    "v1=stats[0]\n",
    "v2=stats[1]\n",
    "np.vstack([v1,v2,v1,v2])\n",
    "# Horizontal stacking\n",
    "h1 = np.zeros((2,2))\n",
    "h2 = np.ones((2,4))\n",
    "np.hstack([h2,h1])"
   ]
  },
  {
   "cell_type": "markdown",
   "id": "9eb1f794",
   "metadata": {},
   "source": [
    "### Miscellanous \n",
    "\n",
    "#### Loading data from file"
   ]
  },
  {
   "cell_type": "code",
   "execution_count": null,
   "id": "fa384312",
   "metadata": {},
   "outputs": [],
   "source": [
    "# Reading txt file\n",
    "# data = np.genfromtxt('name of txt file.txt, delimeter='what separates elements of the data')\n",
    "\n",
    "# Converting data type of elements of a data set\n",
    "# data.astype('int32')\n"
   ]
  },
  {
   "cell_type": "markdown",
   "id": "1527dab9",
   "metadata": {},
   "source": [
    "#### Boolean masking and advanced indexing"
   ]
  },
  {
   "cell_type": "code",
   "execution_count": 16,
   "id": "79330ad6",
   "metadata": {},
   "outputs": [
    {
     "data": {
      "text/plain": [
       "True"
      ]
     },
     "execution_count": 16,
     "metadata": {},
     "output_type": "execute_result"
    }
   ],
   "source": [
    "# data[data > 50]-displays all values greater than 50\n",
    "\n",
    "# Indexing using a list in NumPY\n",
    "a = np.array([1,2,2,3,4,45,86])\n",
    "a[[1,2,6]]\n",
    "\n",
    "# Finding out any value greater than a specific vale\n",
    "np.any(a>40)"
   ]
  },
  {
   "cell_type": "markdown",
   "id": "34e8659c",
   "metadata": {},
   "source": [
    "#### Customising strings\n"
   ]
  },
  {
   "cell_type": "code",
   "execution_count": 7,
   "id": "dc9cf6ba",
   "metadata": {},
   "outputs": [
    {
     "data": {
      "text/plain": [
       "array(['helloAshley', 'hiSamantha'], dtype='<U13')"
      ]
     },
     "execution_count": 7,
     "metadata": {},
     "output_type": "execute_result"
    }
   ],
   "source": [
    "np.char.add(['hello','hi'],['Ashley','Samantha'])"
   ]
  },
  {
   "cell_type": "code",
   "execution_count": 8,
   "id": "41312ca9",
   "metadata": {},
   "outputs": [
    {
     "data": {
      "text/plain": [
       "array(['YohYohYoh'], dtype='<U9')"
      ]
     },
     "execution_count": 8,
     "metadata": {},
     "output_type": "execute_result"
    }
   ],
   "source": [
    "np.char.multiply(['Yoh'],3)"
   ]
  },
  {
   "cell_type": "code",
   "execution_count": 9,
   "id": "0a59e57c",
   "metadata": {},
   "outputs": [
    {
     "data": {
      "text/plain": [
       "array('*******hello********', dtype='<U20')"
      ]
     },
     "execution_count": 9,
     "metadata": {},
     "output_type": "execute_result"
    }
   ],
   "source": [
    "np.char.center('hello',20,fillchar='*')"
   ]
  },
  {
   "cell_type": "code",
   "execution_count": 10,
   "id": "03b73128",
   "metadata": {},
   "outputs": [
    {
     "data": {
      "text/plain": [
       "array('Hello world', dtype='<U11')"
      ]
     },
     "execution_count": 10,
     "metadata": {},
     "output_type": "execute_result"
    }
   ],
   "source": [
    "np.char.capitalize('hello world')"
   ]
  },
  {
   "cell_type": "code",
   "execution_count": 11,
   "id": "21c1d31f",
   "metadata": {},
   "outputs": [
    {
     "data": {
      "text/plain": [
       "array('What Up', dtype='<U7')"
      ]
     },
     "execution_count": 11,
     "metadata": {},
     "output_type": "execute_result"
    }
   ],
   "source": [
    "np.char.title('what up')"
   ]
  },
  {
   "cell_type": "code",
   "execution_count": 12,
   "id": "8c3083c5",
   "metadata": {},
   "outputs": [
    {
     "data": {
      "text/plain": [
       "array('HOW ARE YOU?', dtype='<U12')"
      ]
     },
     "execution_count": 12,
     "metadata": {},
     "output_type": "execute_result"
    }
   ],
   "source": [
    "np.char.upper('how are you?')"
   ]
  },
  {
   "cell_type": "code",
   "execution_count": 13,
   "id": "5dfe4424",
   "metadata": {},
   "outputs": [
    {
     "data": {
      "text/plain": [
       "array('what are you doing?', dtype='<U19')"
      ]
     },
     "execution_count": 13,
     "metadata": {},
     "output_type": "execute_result"
    }
   ],
   "source": [
    "np.char.lower('WHAT ARE YOU DOING?')"
   ]
  },
  {
   "cell_type": "code",
   "execution_count": 15,
   "id": "556d6b95",
   "metadata": {},
   "outputs": [
    {
     "data": {
      "text/plain": [
       "array(list(['what', 'is', 'going', 'on?']), dtype=object)"
      ]
     },
     "execution_count": 15,
     "metadata": {},
     "output_type": "execute_result"
    }
   ],
   "source": [
    "np.char.split('what is going on?')"
   ]
  },
  {
   "cell_type": "code",
   "execution_count": 18,
   "id": "76c3166c",
   "metadata": {},
   "outputs": [
    {
     "data": {
      "text/plain": [
       "array(list(['the doctor', 'psychiatrist is coming']), dtype=object)"
      ]
     },
     "execution_count": 18,
     "metadata": {},
     "output_type": "execute_result"
    }
   ],
   "source": [
    "np.char.splitlines('the doctor\\npsychiatrist is coming')"
   ]
  },
  {
   "cell_type": "code",
   "execution_count": 9,
   "id": "322472b4",
   "metadata": {},
   "outputs": [
    {
     "data": {
      "text/plain": [
       "array(['Y', 'L', 'range'], dtype='<U6')"
      ]
     },
     "execution_count": 9,
     "metadata": {},
     "output_type": "execute_result"
    }
   ],
   "source": [
    "np.char.strip(['YOO','LOO','Orange'], 'O')\n",
    "# Remove first and  last consecutive described letter"
   ]
  },
  {
   "cell_type": "code",
   "execution_count": 26,
   "id": "94a6fa49",
   "metadata": {},
   "outputs": [
    {
     "data": {
      "text/plain": [
       "array(['t:i:m:e', 'd-a-t-e'], dtype='<U7')"
      ]
     },
     "execution_count": 26,
     "metadata": {},
     "output_type": "execute_result"
    }
   ],
   "source": [
    "np.char.join([\":\",\"-\"],['time','date'])"
   ]
  },
  {
   "cell_type": "code",
   "execution_count": 27,
   "id": "f0efc66c",
   "metadata": {},
   "outputs": [
    {
     "data": {
      "text/plain": [
       "array('He was a good dancer', dtype='<U20')"
      ]
     },
     "execution_count": 27,
     "metadata": {},
     "output_type": "execute_result"
    }
   ],
   "source": [
    "np.char.replace('He is a good dancer','is','was')"
   ]
  },
  {
   "cell_type": "code",
   "execution_count": 6,
   "id": "25e1d025",
   "metadata": {},
   "outputs": [
    {
     "data": {
      "text/plain": [
       "array([[ 0,  3,  6,  9],\n",
       "       [ 1,  4,  7, 10],\n",
       "       [ 2,  5,  8, 11]])"
      ]
     },
     "execution_count": 6,
     "metadata": {},
     "output_type": "execute_result"
    }
   ],
   "source": [
    "# Transpose\n",
    "a = np.arange(12).reshape(4,3)\n",
    "np.transpose(a)"
   ]
  },
  {
   "cell_type": "code",
   "execution_count": 37,
   "id": "bad0b73d",
   "metadata": {},
   "outputs": [
    {
     "name": "stdout",
     "output_type": "stream",
     "text": [
      "[[[0 1]\n",
      "  [2 3]]\n",
      "\n",
      " [[4 5]\n",
      "  [6 7]]]\n"
     ]
    },
    {
     "data": {
      "text/plain": [
       "array([[[0, 2],\n",
       "        [1, 3]],\n",
       "\n",
       "       [[4, 6],\n",
       "        [5, 7]]])"
      ]
     },
     "execution_count": 37,
     "metadata": {},
     "output_type": "execute_result"
    }
   ],
   "source": [
    "# Rolling axis\n",
    "c = np.arange(8).reshape(2,2,2)\n",
    "print(c)\n",
    "d = np.rollaxis(c,2,1)\n",
    "d"
   ]
  },
  {
   "cell_type": "code",
   "execution_count": 36,
   "id": "dab1b0ed",
   "metadata": {
    "scrolled": true
   },
   "outputs": [
    {
     "data": {
      "text/plain": [
       "array([[[0, 1],\n",
       "        [2, 3]],\n",
       "\n",
       "       [[4, 5],\n",
       "        [6, 7]]])"
      ]
     },
     "execution_count": 36,
     "metadata": {},
     "output_type": "execute_result"
    }
   ],
   "source": [
    "# Swaping axes\n",
    "np.swapaxes(c,2,2)"
   ]
  },
  {
   "cell_type": "markdown",
   "id": "4d6d1360",
   "metadata": {},
   "source": [
    "### Numeric operations"
   ]
  },
  {
   "cell_type": "code",
   "execution_count": 10,
   "id": "9a3f568c",
   "metadata": {},
   "outputs": [
    {
     "data": {
      "text/plain": [
       "array([[0.        , 0.1       , 0.14285714],\n",
       "       [0.25      , 0.4       , 0.35714286],\n",
       "       [0.5       , 0.7       , 0.57142857]])"
      ]
     },
     "execution_count": 10,
     "metadata": {},
     "output_type": "execute_result"
    }
   ],
   "source": [
    "# Add\n",
    "a = np.arange(9).reshape(3,3)\n",
    "b = np.array([12,10,14])\n",
    "np.add(a,b)\n",
    "# Subtract\n",
    "np.subtract(a,b)\n",
    "# Multiply\n",
    "np.multiply(a,b)\n",
    "# Divide\n",
    "np.divide(a,b)"
   ]
  },
  {
   "cell_type": "markdown",
   "id": "27fdfc0e",
   "metadata": {},
   "source": [
    "### Iterating over an array"
   ]
  },
  {
   "cell_type": "code",
   "execution_count": 34,
   "id": "85e008d8",
   "metadata": {},
   "outputs": [
    {
     "name": "stdout",
     "output_type": "stream",
     "text": [
      "0\n",
      "5\n",
      "10\n",
      "15\n",
      "20\n",
      "25\n",
      "30\n",
      "35\n",
      "40\n"
     ]
    }
   ],
   "source": [
    "# np.nditer\n",
    "w=np.arange(0,45,5).reshape(3,3)\n",
    "for x in np.nditer(w):\n",
    "    print(x)\n",
    "\n"
   ]
  },
  {
   "cell_type": "markdown",
   "id": "0a4ad239",
   "metadata": {},
   "source": [
    "### Iteration order 'C' and 'F' order"
   ]
  },
  {
   "cell_type": "code",
   "execution_count": 76,
   "id": "a52ad8e3",
   "metadata": {},
   "outputs": [
    {
     "name": "stdout",
     "output_type": "stream",
     "text": [
      "0\n",
      "5\n",
      "10\n",
      "15\n",
      "20\n",
      "25\n",
      "30\n",
      "35\n",
      "40\n",
      "0\n",
      "15\n",
      "30\n",
      "5\n",
      "20\n",
      "35\n",
      "10\n",
      "25\n",
      "40\n"
     ]
    }
   ],
   "source": [
    "for x in np.nditer(w,order='C'):\n",
    "    print(x)\n",
    "for x in np.nditer(w,order='F'):\n",
    "    print(x)"
   ]
  },
  {
   "cell_type": "code",
   "execution_count": 9,
   "id": "15fa9dc1",
   "metadata": {},
   "outputs": [
    {
     "data": {
      "text/plain": [
       "array([[1, 2, 5, 6],\n",
       "       [3, 4, 7, 8]])"
      ]
     },
     "execution_count": 9,
     "metadata": {},
     "output_type": "execute_result"
    }
   ],
   "source": [
    "# Concatenating arrays\n",
    "y= np.array([[1,2],[3,4]])\n",
    "z = np.array([[5,6],[7,8]])\n",
    "np.concatenate((y,z),axis=1)"
   ]
  },
  {
   "cell_type": "markdown",
   "id": "89592f22",
   "metadata": {},
   "source": [
    "### Spliting array"
   ]
  },
  {
   "cell_type": "code",
   "execution_count": 79,
   "id": "8c8d32c5",
   "metadata": {},
   "outputs": [
    {
     "data": {
      "text/plain": [
       "array([0, 1, 2, 3, 4, 5, 6, 7, 8])"
      ]
     },
     "execution_count": 79,
     "metadata": {},
     "output_type": "execute_result"
    }
   ],
   "source": [
    "a"
   ]
  },
  {
   "cell_type": "code",
   "execution_count": 78,
   "id": "91a7a66d",
   "metadata": {},
   "outputs": [
    {
     "data": {
      "text/plain": [
       "[array([0, 1]), array([2]), array([3, 4, 5, 6, 7, 8])]"
      ]
     },
     "execution_count": 78,
     "metadata": {},
     "output_type": "execute_result"
    }
   ],
   "source": [
    "a = np.arange(9)\n",
    "np.split(a,3)\n",
    "# np.split(x,[y,z]) - returns arrays; the first array having the first y components y exclusive and the last array \n",
    "#starting with z\n",
    "np.split(a,[2,3])"
   ]
  },
  {
   "cell_type": "markdown",
   "id": "52775991",
   "metadata": {},
   "source": [
    "### Resizing an array"
   ]
  },
  {
   "cell_type": "code",
   "execution_count": 12,
   "id": "ac5a7fab",
   "metadata": {},
   "outputs": [
    {
     "name": "stdout",
     "output_type": "stream",
     "text": [
      "[[1 2 3]\n",
      " [4 5 6]]\n"
     ]
    },
    {
     "data": {
      "text/plain": [
       "array([[1, 2, 3, 4, 5, 6, 1, 2],\n",
       "       [3, 4, 5, 6, 1, 2, 3, 4],\n",
       "       [5, 6, 1, 2, 3, 4, 5, 6],\n",
       "       [1, 2, 3, 4, 5, 6, 1, 2]])"
      ]
     },
     "execution_count": 12,
     "metadata": {},
     "output_type": "execute_result"
    }
   ],
   "source": [
    "q=np.array([[1,2,3],[4,5,6]])\n",
    "print(q)\n",
    "resized_q=np.resize(q,(4,8))\n",
    "resized_q"
   ]
  },
  {
   "cell_type": "markdown",
   "id": "fbe808cf",
   "metadata": {},
   "source": [
    "### Histogram"
   ]
  },
  {
   "cell_type": "code",
   "execution_count": 80,
   "id": "4cd8dd4a",
   "metadata": {
    "scrolled": true
   },
   "outputs": [
    {
     "data": {
      "image/png": "[encoded data removed]",
      "text/plain": [
       "<Figure size 640x480 with 1 Axes>"
      ]
     },
     "metadata": {},
     "output_type": "display_data"
    }
   ],
   "source": [
    "from matplotlib import pyplot as plt\n",
    "s = np.array([20,87,4,40,53,74,56,51,11,20,40,15,79,25,27])\n",
    "plt.hist(s,bins=np.arange(0,100,20).flatten())\n",
    "plt.show()"
   ]
  },
  {
   "cell_type": "code",
   "execution_count": 17,
   "id": "76a39f96",
   "metadata": {},
   "outputs": [
    {
     "data": {
      "image/png": "[encoded data removed]",
      "text/plain": [
       "<Figure size 640x480 with 1 Axes>"
      ]
     },
     "metadata": {},
     "output_type": "display_data"
    }
   ],
   "source": [
    "# Numpy Practise Example\n",
    "# Plotting a sine curve\n",
    "x = np.arange(0,3*np.pi,0.1)\n",
    "y= np.sin(x)\n",
    "plt.plot(x,y)\n",
    "plt.show()"
   ]
  },
  {
   "cell_type": "code",
   "execution_count": 106,
   "id": "6d6d479d",
   "metadata": {},
   "outputs": [
    {
     "data": {
      "text/plain": [
       "array([[0, 1, 0, 1, 0, 1],\n",
       "       [1, 0, 1, 0, 1, 0],\n",
       "       [0, 1, 0, 1, 0, 1],\n",
       "       [1, 0, 1, 0, 1, 0],\n",
       "       [0, 1, 0, 1, 0, 1],\n",
       "       [1, 0, 1, 0, 1, 0]])"
      ]
     },
     "execution_count": 106,
     "metadata": {},
     "output_type": "execute_result"
    }
   ],
   "source": [
    "# Creating a 6 by 6 2-dimensional array and let 1 and 0 placed alternatively across the diagonals\n",
    "fir = np.array([0,1,0,1,0,1]).reshape(6,1)\n",
    "sec = np.array([1,0,1,0,1,0]).reshape(6,1)\n",
    "np.hstack([fir,sec,fir,sec,fir,sec])\n"
   ]
  },
  {
   "cell_type": "code",
   "execution_count": 22,
   "id": "0934a462",
   "metadata": {},
   "outputs": [
    {
     "data": {
      "text/plain": [
       "array([[0., 1., 0., 1., 0., 1.],\n",
       "       [1., 0., 1., 0., 1., 0.],\n",
       "       [0., 1., 0., 1., 0., 1.],\n",
       "       [1., 0., 1., 0., 1., 0.],\n",
       "       [0., 1., 0., 1., 0., 1.],\n",
       "       [1., 0., 1., 0., 1., 0.]])"
      ]
     },
     "execution_count": 22,
     "metadata": {},
     "output_type": "execute_result"
    }
   ],
   "source": [
    "# OR MUCH MORE SIMPLER\n",
    "z = np.zeros((6,6))\n",
    "z[1::2,::2] = 1\n",
    "z[::2,1::2] = 1\n",
    "z"
   ]
  },
  {
   "cell_type": "code",
   "execution_count": 42,
   "id": "dc7c9c96",
   "metadata": {},
   "outputs": [],
   "source": [
    "# Finding total of number and locations of missing values in an array\n",
    "g = np.random.rand(10,10)\n",
    "# Creating an array of nans within the array\n",
    "g[np.random.randint(10, size=5), np.random.randint(10, size=5)] = np.nan\n",
    "# Finding number of nan(s)\n",
    "np.isnan(g).sum()\n",
    "# Finding location of the nan(s) by indexing\n",
    "np.argwhere(np.isnan(g))\n",
    "# Replacing nan(s) with values\n",
    "inds = np.argwhere(np.isnan(g))\n",
    "g[inds] = 0\n"
   ]
  },
  {
   "cell_type": "code",
   "execution_count": 23,
   "id": "2c4afd03",
   "metadata": {
    "scrolled": true
   },
   "outputs": [
    {
     "data": {
      "text/plain": [
       "array([1, 1, 2, 2, 3, 3, 4, 5], dtype=int64)"
      ]
     },
     "execution_count": 23,
     "metadata": {},
     "output_type": "execute_result"
    }
   ],
   "source": [
    "np.linspace(1,5,8,dtype='int64')"
   ]
  },
  {
   "cell_type": "code",
   "execution_count": 3,
   "id": "a7b09007",
   "metadata": {},
   "outputs": [
    {
     "data": {
      "text/plain": [
       "array([10, 15, 20, 25, 30, 35, 40, 45, 50, 55, 60, 65])"
      ]
     },
     "execution_count": 3,
     "metadata": {},
     "output_type": "execute_result"
    }
   ],
   "source": [
    "np.arange(10,70,5)"
   ]
  },
  {
   "cell_type": "code",
   "execution_count": 4,
   "id": "58414103",
   "metadata": {},
   "outputs": [
    {
     "data": {
      "text/plain": [
       "array([1.  , 1.75, 2.5 , 3.25, 4.  ])"
      ]
     },
     "execution_count": 4,
     "metadata": {},
     "output_type": "execute_result"
    }
   ],
   "source": [
    "import numpy as np\n",
    "np.linspace(1,4,5)\n"
   ]
  },
  {
   "cell_type": "code",
   "execution_count": 29,
   "id": "5413b583",
   "metadata": {},
   "outputs": [
    {
     "data": {
      "text/plain": [
       "array([10,  9,  8,  7,  6,  5])"
      ]
     },
     "execution_count": 29,
     "metadata": {},
     "output_type": "execute_result"
    }
   ],
   "source": [
    "np.arange(10,4,-1)"
   ]
  }
 ],
 "metadata": {
  "kernelspec": {
   "display_name": "Python 3 (ipykernel)",
   "language": "python",
   "name": "python3"
  },
  "language_info": {
   "codemirror_mode": {
    "name": "ipython",
    "version": 3
   },
   "file_extension": ".py",
   "mimetype": "text/x-python",
   "name": "python",
   "nbconvert_exporter": "python",
   "pygments_lexer": "ipython3",
   "version": "3.10.9"
  }
 },
 "nbformat": 4,
 "nbformat_minor": 5
}
