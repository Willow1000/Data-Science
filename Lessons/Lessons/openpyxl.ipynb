{
 "cells": [
  {
   "cell_type": "markdown",
   "id": "bc075c9e",
   "metadata": {},
   "source": [
    "### Importing necessary libraries"
   ]
  },
  {
   "cell_type": "code",
   "execution_count": 1,
   "id": "6a15dd75",
   "metadata": {},
   "outputs": [],
   "source": [
    "import openpyxl as xl\n",
    "from openpyxl import Workbook\n",
    "from openpyxl.chart import BarChart,Reference\n",
    "from openpyxl.utils import get_column_letter\n",
    "from openpyxl.styles import Font"
   ]
  },
  {
   "cell_type": "markdown",
   "id": "9c4e9156",
   "metadata": {},
   "source": [
    "#### Loading excel workbooks ans sheets and creating new ones"
   ]
  },
  {
   "cell_type": "code",
   "execution_count": 65,
   "id": "c2e5721c",
   "metadata": {},
   "outputs": [
    {
     "data": {
      "text/plain": [
       "['Sheet1']"
      ]
     },
     "execution_count": 65,
     "metadata": {},
     "output_type": "execute_result"
    }
   ],
   "source": [
    "wb=xl.load_workbook('C:\\\\Users\\\\Willow\\\\Desktop\\\\Jupyter files\\\\Results.xlsx')\n",
    "ws=wb.active\n",
    "# OR\n",
    "sheet=wb['Sheet1']\n",
    "# obtaining sheet names\n",
    "wb.sheetnames\n",
    "\n",
    "# Creating a new workbook\n",
    "#wb1=Workbook()\n",
    "# changing title of sheets\n",
    "#wb1.title='#name of sheet'\n",
    "\n",
    "\n",
    "# creating a sheet\n",
    "#wb.create_sheet('#name of sheet')\n"
   ]
  },
  {
   "cell_type": "code",
   "execution_count": 20,
   "id": "6a08bdab",
   "metadata": {},
   "outputs": [
    {
     "data": {
      "text/plain": [
       "9"
      ]
     },
     "execution_count": 20,
     "metadata": {},
     "output_type": "execute_result"
    }
   ],
   "source": [
    "# Getting number of rows and columns\n",
    "# Rows\n",
    "sheet.max_row\n",
    "# columns\n",
    "sheet.max_column"
   ]
  },
  {
   "cell_type": "code",
   "execution_count": 23,
   "id": "15fe214e",
   "metadata": {},
   "outputs": [
    {
     "data": {
      "text/plain": [
       "'MATH'"
      ]
     },
     "execution_count": 23,
     "metadata": {},
     "output_type": "execute_result"
    }
   ],
   "source": [
    "# Locating cells and obtaining values\n",
    "sheet.cell(1,2).value\n",
    "# OR\n",
    "ws['B1'].value\n",
    "# Using get_column_letter in iterating through cells\n",
    "for col in range(26): #26 is the limit for get_column_letter function\n",
    "    for i row in range(7): #enter number of desired rows\n",
    "        ws[get_column_letter(col) + f'{row}']"
   ]
  },
  {
   "cell_type": "code",
   "execution_count": null,
   "id": "13a17a8e",
   "metadata": {},
   "outputs": [],
   "source": [
    "# merging cells\n",
    "ws.merge_cells(#range of cells)\n",
    "# unmerging cell\n",
    "ws.unmerge(#range of cells)    "
   ]
  },
  {
   "cell_type": "code",
   "execution_count": null,
   "id": "319d1055",
   "metadata": {},
   "outputs": [],
   "source": [
    "# inserting rows and columns\n",
    "ws.insert_rows(7)#adds an empty row 7\n",
    "ws.insert_cols(7)\n",
    "\n",
    "# deleting rows and columns\n",
    "ws.delete_rows(7)\n",
    "ws.delete_cols(7)"
   ]
  },
  {
   "cell_type": "code",
   "execution_count": null,
   "id": "cb0dc178",
   "metadata": {},
   "outputs": [],
   "source": [
    "# copying and moving cells\n",
    "ws.move_range(\"C2:E2\",rows=2,column=3) #negative in rows results to upward movement while in columns movement to left side"
   ]
  },
  {
   "cell_type": "code",
   "execution_count": null,
   "id": "51fb9f0d",
   "metadata": {},
   "outputs": [],
   "source": [
    "# Appending values\n",
    "wb.append([#list]) #append values horintally"
   ]
  },
  {
   "cell_type": "code",
   "execution_count": 54,
   "id": "73f034cc",
   "metadata": {},
   "outputs": [],
   "source": [
    "# summation formula\n",
    "wb['A9']='=SUM(#range of cells to be added)'"
   ]
  },
  {
   "cell_type": "code",
   "execution_count": 76,
   "id": "7b797262",
   "metadata": {},
   "outputs": [],
   "source": [
    "# styling values\n",
    "for col in range(1,sheet.max_column+1):\n",
    "    sheet.cell(1,col).font=Font(bold=True)\n",
    "wb.save('new_.xlsx')    "
   ]
  },
  {
   "cell_type": "code",
   "execution_count": null,
   "id": "f35731f1",
   "metadata": {},
   "outputs": [],
   "source": [
    "import openpyxl as xl\n",
    "wb=xl.load_workbook('transactions.xlsx')\n",
    "sheet=wb['Sheet1']\n",
    "for row in range(2,sheet.max_row +1):\n",
    "    cell=sheet.cell(row,3)\n",
    "    corrected_value=round(cell.value*.9)\n",
    "    corrected_values_column=sheet.cell(row,4)\n",
    "    corrected_values_column.value=corrected_value\n",
    "    \n",
    "sheet.cell(1,4).value='corrected_values_column'\n",
    "values=Reference(sheet,min_row=2,max_row=sheet.max_row,min_col=4,max_col=4)\n",
    "chart=BarChart()\n",
    "chart.add_data(values)\n",
    "sheet.add_chart(chart,'f2')\n",
    "wb.save('Transactions3.xlsx')"
   ]
  }
 ],
 "metadata": {
  "kernelspec": {
   "display_name": "Python 3 (ipykernel)",
   "language": "python",
   "name": "python3"
  },
  "language_info": {
   "codemirror_mode": {
    "name": "ipython",
    "version": 3
   },
   "file_extension": ".py",
   "mimetype": "text/x-python",
   "name": "python",
   "nbconvert_exporter": "python",
   "pygments_lexer": "ipython3",
   "version": "3.10.9"
  }
 },
 "nbformat": 4,
 "nbformat_minor": 5
}
