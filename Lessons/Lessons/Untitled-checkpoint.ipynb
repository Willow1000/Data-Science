{
 "cells": [
  {
   "cell_type": "code",
   "execution_count": 1,
   "id": "585e697e",
   "metadata": {},
   "outputs": [],
   "source": [
    "import pandas as pd\n",
    "import numpy as np \n",
    "import seaborn as sbn\n",
    "import matplotlib.pyplot as plt\n",
    "import os\n"
   ]
  },
  {
   "cell_type": "code",
   "execution_count": 93,
   "id": "af7b5813",
   "metadata": {},
   "outputs": [],
   "source": [
    "import sklearn\n",
    "from sklearn import metrics\n",
    "from sklearn.utils import shuffle"
   ]
  },
  {
   "cell_type": "code",
   "execution_count": 134,
   "id": "159475e2",
   "metadata": {},
   "outputs": [],
   "source": [
    "df=shuffle(pd.read_csv('Housing_data.csv')).sample(1000)\n",
    "df.drop(columns=['id','date'],inplace=True)"
   ]
  },
  {
   "cell_type": "code",
   "execution_count": 175,
   "id": "842a0f44",
   "metadata": {},
   "outputs": [],
   "source": [
    "x=np.array(df.drop('price',axis=1))\n",
    "y=np.array(df['price'])"
   ]
  },
  {
   "cell_type": "code",
   "execution_count": 176,
   "id": "2af1a102",
   "metadata": {},
   "outputs": [],
   "source": [
    "x_train,x_test,y_train,y_test=sklearn.model_selection.train_test_split(x,y,test_size=.1)"
   ]
  },
  {
   "cell_type": "code",
   "execution_count": 178,
   "id": "2fd63c1a",
   "metadata": {},
   "outputs": [
    {
     "data": {
      "text/plain": [
       "array([[ 3.00000e+00,  3.50000e+00,  4.38000e+03, ..., -1.22368e+02,\n",
       "         1.83000e+03,  6.35000e+03],\n",
       "       [ 3.00000e+00,  1.00000e+00,  1.41000e+03, ..., -1.22100e+02,\n",
       "         1.57000e+03,  4.05000e+04],\n",
       "       [ 4.00000e+00,  2.50000e+00,  3.20000e+03, ..., -1.22286e+02,\n",
       "         3.03000e+03,  7.29000e+03],\n",
       "       ...,\n",
       "       [ 4.00000e+00,  3.50000e+00,  4.46000e+03, ..., -1.21970e+02,\n",
       "         4.54000e+03,  1.71220e+04],\n",
       "       [ 3.00000e+00,  1.50000e+00,  1.36000e+03, ..., -1.22384e+02,\n",
       "         1.36000e+03,  1.57300e+03],\n",
       "       [ 3.00000e+00,  2.50000e+00,  2.33000e+03, ..., -1.21723e+02,\n",
       "         2.27000e+03,  3.50000e+04]])"
      ]
     },
     "execution_count": 178,
     "metadata": {},
     "output_type": "execute_result"
    }
   ],
   "source": [
    "x_train"
   ]
  },
  {
   "cell_type": "markdown",
   "id": "6ebd9416",
   "metadata": {},
   "source": [
    "### Linear model"
   ]
  },
  {
   "cell_type": "code",
   "execution_count": 109,
   "id": "d5a678f5",
   "metadata": {},
   "outputs": [],
   "source": [
    "from sklearn.linear_model import LinearRegression"
   ]
  },
  {
   "cell_type": "code",
   "execution_count": 181,
   "id": "b426355f",
   "metadata": {},
   "outputs": [
    {
     "data": {
      "text/plain": [
       "0.7778410966905289"
      ]
     },
     "execution_count": 181,
     "metadata": {},
     "output_type": "execute_result"
    }
   ],
   "source": [
    "lm=LinearRegression()\n",
    "lm.fit(x_train,y_train)\n",
    "\n",
    "lm.score(x_test,y_test)"
   ]
  },
  {
   "cell_type": "markdown",
   "id": "d1af8958",
   "metadata": {},
   "source": [
    "### Kn"
   ]
  },
  {
   "cell_type": "code",
   "execution_count": 120,
   "id": "70685a50",
   "metadata": {},
   "outputs": [],
   "source": [
    "from sklearn.neighbors import KNeighborsClassifier"
   ]
  },
  {
   "cell_type": "code",
   "execution_count": 182,
   "id": "e4fba070",
   "metadata": {},
   "outputs": [
    {
     "data": {
      "text/plain": [
       "0.0"
      ]
     },
     "execution_count": 182,
     "metadata": {},
     "output_type": "execute_result"
    }
   ],
   "source": [
    "nm=KNeighborsClassifier(n_neighbors=13)\n",
    "nm.fit(x_train,y_train)\n",
    "\n",
    "nm.score(x_test,y_test)"
   ]
  },
  {
   "cell_type": "markdown",
   "id": "a71b0252",
   "metadata": {},
   "source": [
    "### K means"
   ]
  },
  {
   "cell_type": "code",
   "execution_count": 183,
   "id": "5fa0bb02",
   "metadata": {},
   "outputs": [],
   "source": [
    "from sklearn.cluster import KMeans"
   ]
  },
  {
   "cell_type": "code",
   "execution_count": 144,
   "id": "a503764e",
   "metadata": {},
   "outputs": [],
   "source": [
    "k=len(np.unique(y))"
   ]
  },
  {
   "cell_type": "code",
   "execution_count": 139,
   "id": "33b53929",
   "metadata": {},
   "outputs": [],
   "source": [
    "def bench_k_means(estimator, name, data):\n",
    "    estimator.fit(data)\n",
    "    print('%-9s\\t%i\\t%.3f\\t%.3f\\t%.3f\\t%.3f\\t%.3f\\t%.3f'\n",
    "          % (name, estimator.inertia_,\n",
    "             metrics.homogeneity_score(y, estimator.labels_),\n",
    "             metrics.completeness_score(y, estimator.labels_),\n",
    "             metrics.v_measure_score(y, estimator.labels_),\n",
    "             metrics.adjusted_rand_score(y, estimator.labels_),\n",
    "             metrics.adjusted_mutual_info_score(y,  estimator.labels_),\n",
    "             metrics.silhouette_score(data, estimator.labels_,\n",
    "                                      metric='euclidean')))"
   ]
  },
  {
   "cell_type": "code",
   "execution_count": 142,
   "id": "69007629",
   "metadata": {},
   "outputs": [
    {
     "data": {
      "text/plain": [
       "900"
      ]
     },
     "execution_count": 142,
     "metadata": {},
     "output_type": "execute_result"
    }
   ],
   "source": [
    "len(x_train)"
   ]
  },
  {
   "cell_type": "code",
   "execution_count": 184,
   "id": "df642f05",
   "metadata": {},
   "outputs": [
    {
     "name": "stdout",
     "output_type": "stream",
     "text": [
      "1        \t1655090780\t0.922\t0.910\t0.916\t0.246\t0.337\t0.242\n"
     ]
    }
   ],
   "source": [
    "kmm=KMeans(n_clusters=k,init='k-means++',n_init=10)\n",
    "bench_k_means(kmm,'1',df)"
   ]
  },
  {
   "cell_type": "markdown",
   "id": "c4e02921",
   "metadata": {},
   "source": [
    "### SVM"
   ]
  },
  {
   "cell_type": "code",
   "execution_count": 146,
   "id": "6203c0d2",
   "metadata": {},
   "outputs": [],
   "source": [
    "from sklearn.svm import SVC"
   ]
  },
  {
   "cell_type": "code",
   "execution_count": 185,
   "id": "42a03f31",
   "metadata": {},
   "outputs": [
    {
     "name": "stdout",
     "output_type": "stream",
     "text": [
      "0.01\n"
     ]
    }
   ],
   "source": [
    "st=SVC(kernel='linear')\n",
    "st=st.fit(x_train,y_train)\n",
    "pred_st=st.predict(x_test)\n",
    "acc=metrics.accuracy_score(y_test,pred_st)\n",
    "print(acc)\n",
    "\n",
    "\n"
   ]
  },
  {
   "cell_type": "code",
   "execution_count": 152,
   "id": "32c2d974",
   "metadata": {},
   "outputs": [],
   "source": [
    "import keras"
   ]
  },
  {
   "cell_type": "code",
   "execution_count": 188,
   "id": "e6d0817e",
   "metadata": {},
   "outputs": [],
   "source": [
    "n_m=keras.Sequential([\n",
    "    keras.layers.Flatten(input_shape=(18,18)),\n",
    "    keras.layers.Dense(128,activation='relu'), #hidden layer\n",
    "    keras.layers.Dense(10,activation='softmax') #output layer\n",
    "    \n",
    "])\n",
    "n_m.compile(optimizer='adam',loss='sparse_categorical_crossentropy',metrics=['accuracy'])"
   ]
  },
  {
   "cell_type": "code",
   "execution_count": 187,
   "id": "7c440443",
   "metadata": {},
   "outputs": [
    {
     "data": {
      "text/plain": [
       "(900, 18)"
      ]
     },
     "execution_count": 187,
     "metadata": {},
     "output_type": "execute_result"
    }
   ],
   "source": [
    "x_train.shape"
   ]
  },
  {
   "cell_type": "code",
   "execution_count": 189,
   "id": "00b2e9b2",
   "metadata": {},
   "outputs": [
    {
     "ename": "ValueError",
     "evalue": "in user code:\n\n    File \"C:\\Users\\Willow\\anaconda3\\lib\\site-packages\\keras\\engine\\training.py\", line 1284, in train_function  *\n        return step_function(self, iterator)\n    File \"C:\\Users\\Willow\\anaconda3\\lib\\site-packages\\keras\\engine\\training.py\", line 1268, in step_function  **\n        outputs = model.distribute_strategy.run(run_step, args=(data,))\n    File \"C:\\Users\\Willow\\anaconda3\\lib\\site-packages\\keras\\engine\\training.py\", line 1249, in run_step  **\n        outputs = model.train_step(data)\n    File \"C:\\Users\\Willow\\anaconda3\\lib\\site-packages\\keras\\engine\\training.py\", line 1050, in train_step\n        y_pred = self(x, training=True)\n    File \"C:\\Users\\Willow\\anaconda3\\lib\\site-packages\\keras\\utils\\traceback_utils.py\", line 70, in error_handler\n        raise e.with_traceback(filtered_tb) from None\n    File \"C:\\Users\\Willow\\anaconda3\\lib\\site-packages\\keras\\engine\\input_spec.py\", line 280, in assert_input_compatibility\n        raise ValueError(\n\n    ValueError: Exception encountered when calling layer 'sequential_7' (type Sequential).\n    \n    Input 0 of layer \"dense_14\" is incompatible with the layer: expected axis -1 of input shape to have value 324, but received input with shape (None, 18)\n    \n    Call arguments received by layer 'sequential_7' (type Sequential):\n      • inputs=tf.Tensor(shape=(None, 18), dtype=float32)\n      • training=True\n      • mask=None\n",
     "output_type": "error",
     "traceback": [
      "\u001b[1;31m---------------------------------------------------------------------------\u001b[0m",
      "\u001b[1;31mValueError\u001b[0m                                Traceback (most recent call last)",
      "Cell \u001b[1;32mIn[189], line 1\u001b[0m\n\u001b[1;32m----> 1\u001b[0m \u001b[43mn_m\u001b[49m\u001b[38;5;241;43m.\u001b[39;49m\u001b[43mfit\u001b[49m\u001b[43m(\u001b[49m\u001b[43mx_train\u001b[49m\u001b[43m,\u001b[49m\u001b[43my_train\u001b[49m\u001b[43m)\u001b[49m\n",
      "File \u001b[1;32m~\\anaconda3\\lib\\site-packages\\keras\\utils\\traceback_utils.py:70\u001b[0m, in \u001b[0;36mfilter_traceback.<locals>.error_handler\u001b[1;34m(*args, **kwargs)\u001b[0m\n\u001b[0;32m     67\u001b[0m     filtered_tb \u001b[38;5;241m=\u001b[39m _process_traceback_frames(e\u001b[38;5;241m.\u001b[39m__traceback__)\n\u001b[0;32m     68\u001b[0m     \u001b[38;5;66;03m# To get the full stack trace, call:\u001b[39;00m\n\u001b[0;32m     69\u001b[0m     \u001b[38;5;66;03m# `tf.debugging.disable_traceback_filtering()`\u001b[39;00m\n\u001b[1;32m---> 70\u001b[0m     \u001b[38;5;28;01mraise\u001b[39;00m e\u001b[38;5;241m.\u001b[39mwith_traceback(filtered_tb) \u001b[38;5;28;01mfrom\u001b[39;00m \u001b[38;5;28;01mNone\u001b[39;00m\n\u001b[0;32m     71\u001b[0m \u001b[38;5;28;01mfinally\u001b[39;00m:\n\u001b[0;32m     72\u001b[0m     \u001b[38;5;28;01mdel\u001b[39;00m filtered_tb\n",
      "File \u001b[1;32m~\\AppData\\Local\\Temp\\__autograph_generated_fileejsv9gzb.py:15\u001b[0m, in \u001b[0;36mouter_factory.<locals>.inner_factory.<locals>.tf__train_function\u001b[1;34m(iterator)\u001b[0m\n\u001b[0;32m     13\u001b[0m \u001b[38;5;28;01mtry\u001b[39;00m:\n\u001b[0;32m     14\u001b[0m     do_return \u001b[38;5;241m=\u001b[39m \u001b[38;5;28;01mTrue\u001b[39;00m\n\u001b[1;32m---> 15\u001b[0m     retval_ \u001b[38;5;241m=\u001b[39m ag__\u001b[38;5;241m.\u001b[39mconverted_call(ag__\u001b[38;5;241m.\u001b[39mld(step_function), (ag__\u001b[38;5;241m.\u001b[39mld(\u001b[38;5;28mself\u001b[39m), ag__\u001b[38;5;241m.\u001b[39mld(iterator)), \u001b[38;5;28;01mNone\u001b[39;00m, fscope)\n\u001b[0;32m     16\u001b[0m \u001b[38;5;28;01mexcept\u001b[39;00m:\n\u001b[0;32m     17\u001b[0m     do_return \u001b[38;5;241m=\u001b[39m \u001b[38;5;28;01mFalse\u001b[39;00m\n",
      "\u001b[1;31mValueError\u001b[0m: in user code:\n\n    File \"C:\\Users\\Willow\\anaconda3\\lib\\site-packages\\keras\\engine\\training.py\", line 1284, in train_function  *\n        return step_function(self, iterator)\n    File \"C:\\Users\\Willow\\anaconda3\\lib\\site-packages\\keras\\engine\\training.py\", line 1268, in step_function  **\n        outputs = model.distribute_strategy.run(run_step, args=(data,))\n    File \"C:\\Users\\Willow\\anaconda3\\lib\\site-packages\\keras\\engine\\training.py\", line 1249, in run_step  **\n        outputs = model.train_step(data)\n    File \"C:\\Users\\Willow\\anaconda3\\lib\\site-packages\\keras\\engine\\training.py\", line 1050, in train_step\n        y_pred = self(x, training=True)\n    File \"C:\\Users\\Willow\\anaconda3\\lib\\site-packages\\keras\\utils\\traceback_utils.py\", line 70, in error_handler\n        raise e.with_traceback(filtered_tb) from None\n    File \"C:\\Users\\Willow\\anaconda3\\lib\\site-packages\\keras\\engine\\input_spec.py\", line 280, in assert_input_compatibility\n        raise ValueError(\n\n    ValueError: Exception encountered when calling layer 'sequential_7' (type Sequential).\n    \n    Input 0 of layer \"dense_14\" is incompatible with the layer: expected axis -1 of input shape to have value 324, but received input with shape (None, 18)\n    \n    Call arguments received by layer 'sequential_7' (type Sequential):\n      • inputs=tf.Tensor(shape=(None, 18), dtype=float32)\n      • training=True\n      • mask=None\n"
     ]
    }
   ],
   "source": [
    "n_m.fit(x_train,y_train)"
   ]
  },
  {
   "cell_type": "code",
   "execution_count": 5,
   "id": "b9661bd5",
   "metadata": {},
   "outputs": [],
   "source": [
    "import json"
   ]
  },
  {
   "cell_type": "code",
   "execution_count": 2,
   "id": "c8d95f78",
   "metadata": {},
   "outputs": [],
   "source": [
    "with open('Books_small_10000.json','r') as f:\n",
    "    s=f.read()\n",
    "    with open('Books_small_10000.txt','w') as f:\n",
    "        f.write(s)\n",
    "    "
   ]
  },
  {
   "cell_type": "code",
   "execution_count": 3,
   "id": "bd5b265a",
   "metadata": {},
   "outputs": [],
   "source": [
    "with open('Books_small_10000.txt','r') as f:\n",
    "    t=f.read()\n",
    "    t=t.split('\\n')"
   ]
  },
  {
   "cell_type": "code",
   "execution_count": 6,
   "id": "b2693301",
   "metadata": {},
   "outputs": [],
   "source": [
    "r=[]\n",
    "for i in range(10000):\n",
    "    j=json.loads(t[i])\n",
    "    j=j.get('reviewText')\n",
    "    r.append(j)\n",
    "s=[]\n",
    "for i in range(10000):\n",
    "    j=json.loads(t[i])\n",
    "    j=j.get('overall')\n",
    "    s.append(j)    "
   ]
  },
  {
   "cell_type": "code",
   "execution_count": 7,
   "id": "bc5379fc",
   "metadata": {},
   "outputs": [],
   "source": [
    "b=[]    \n",
    "for i in s:\n",
    "    f=np.array(i).reshape((1,))\n",
    "    b.append(f)"
   ]
  },
  {
   "cell_type": "code",
   "execution_count": 12,
   "id": "84bec340",
   "metadata": {},
   "outputs": [],
   "source": [
    "from keras.datasets import imdb\n",
    "import tensorflow"
   ]
  },
  {
   "cell_type": "code",
   "execution_count": 19,
   "id": "2967348c",
   "metadata": {},
   "outputs": [],
   "source": [
    "word_index=imdb.get_word_index()"
   ]
  },
  {
   "cell_type": "code",
   "execution_count": 14,
   "id": "a2e95de5",
   "metadata": {},
   "outputs": [],
   "source": [
    "word_index={k:c for c,k in word_index.items()}"
   ]
  },
  {
   "cell_type": "code",
   "execution_count": 26,
   "id": "251c6bd2",
   "metadata": {},
   "outputs": [],
   "source": [
    "n=len(word_index)+1\n",
    "for i in range(len(r)):\n",
    "    for word in r[i]:\n",
    "        if word in word_index.keys():\n",
    "            continue\n",
    "        else:\n",
    "            word_index.update({word:n})\n",
    "            n+=1"
   ]
  },
  {
   "cell_type": "code",
   "execution_count": 27,
   "id": "9b3dd63d",
   "metadata": {},
   "outputs": [
    {
     "data": {
      "text/plain": [
       "88641"
      ]
     },
     "execution_count": 27,
     "metadata": {},
     "output_type": "execute_result"
    }
   ],
   "source": [
    "len(word_index)"
   ]
  },
  {
   "cell_type": "code",
   "execution_count": 28,
   "id": "6295122d",
   "metadata": {},
   "outputs": [],
   "source": [
    "p=[]\n",
    "for i in range(len(r)):\n",
    "    d=[word_index.get(letter) for letter in r[i]]\n",
    "    p.append(d)"
   ]
  },
  {
   "cell_type": "code",
   "execution_count": 30,
   "id": "9bba15c9",
   "metadata": {},
   "outputs": [],
   "source": [
    "j=[]    \n",
    "for i in p:\n",
    "    f=np.array(i).reshape((len(i),))\n",
    "    j.append(f)"
   ]
  },
  {
   "cell_type": "code",
   "execution_count": 37,
   "id": "fb250888",
   "metadata": {},
   "outputs": [
    {
     "name": "stderr",
     "output_type": "stream",
     "text": [
      "C:\\Users\\Willow\\AppData\\Local\\Temp\\ipykernel_7160\\1863761171.py:1: VisibleDeprecationWarning: Creating an ndarray from ragged nested sequences (which is a list-or-tuple of lists-or-tuples-or ndarrays with different lengths or shapes) is deprecated. If you meant to do this, you must specify 'dtype=object' when creating the ndarray.\n",
      "  j=np.array(j)\n"
     ]
    }
   ],
   "source": [
    "j=np.array(j)"
   ]
  },
  {
   "cell_type": "code",
   "execution_count": 38,
   "id": "2e8a7721",
   "metadata": {},
   "outputs": [
    {
     "data": {
      "text/plain": [
       "numpy.ndarray"
      ]
     },
     "execution_count": 38,
     "metadata": {},
     "output_type": "execute_result"
    }
   ],
   "source": [
    "type(j)"
   ]
  },
  {
   "cell_type": "code",
   "execution_count": 58,
   "id": "2d1cc138",
   "metadata": {},
   "outputs": [],
   "source": [
    "s=np.array(s)"
   ]
  },
  {
   "cell_type": "code",
   "execution_count": 35,
   "id": "5e5c7b90",
   "metadata": {},
   "outputs": [],
   "source": [
    "from sklearn import model_selection"
   ]
  },
  {
   "cell_type": "code",
   "execution_count": 64,
   "id": "0d648dcd",
   "metadata": {},
   "outputs": [],
   "source": [
    "x_train,x_test,y_train,y_test=model_selection.train_test_split(p,s,test_size=.1)"
   ]
  },
  {
   "cell_type": "code",
   "execution_count": 42,
   "id": "ea45e31f",
   "metadata": {},
   "outputs": [],
   "source": [
    "from sklearn.linear_model import LinearRegression"
   ]
  },
  {
   "cell_type": "code",
   "execution_count": 74,
   "id": "13b5ce28",
   "metadata": {
    "scrolled": true
   },
   "outputs": [
    {
     "ename": "ValueError",
     "evalue": "setting an array element with a sequence.",
     "output_type": "error",
     "traceback": [
      "\u001b[1;31m---------------------------------------------------------------------------\u001b[0m",
      "\u001b[1;31mTypeError\u001b[0m                                 Traceback (most recent call last)",
      "\u001b[1;31mTypeError\u001b[0m: float() argument must be a string or a real number, not 'list'",
      "\nThe above exception was the direct cause of the following exception:\n",
      "\u001b[1;31mValueError\u001b[0m                                Traceback (most recent call last)",
      "Cell \u001b[1;32mIn[74], line 2\u001b[0m\n\u001b[0;32m      1\u001b[0m lt\u001b[38;5;241m=\u001b[39mLinearRegression()\n\u001b[1;32m----> 2\u001b[0m \u001b[43mlt\u001b[49m\u001b[38;5;241;43m.\u001b[39;49m\u001b[43mfit\u001b[49m\u001b[43m(\u001b[49m\u001b[43mx_train\u001b[49m\u001b[43m,\u001b[49m\u001b[43my_train\u001b[49m\u001b[43m)\u001b[49m\n",
      "File \u001b[1;32m~\\anaconda3\\lib\\site-packages\\sklearn\\linear_model\\_base.py:648\u001b[0m, in \u001b[0;36mLinearRegression.fit\u001b[1;34m(self, X, y, sample_weight)\u001b[0m\n\u001b[0;32m    644\u001b[0m n_jobs_ \u001b[38;5;241m=\u001b[39m \u001b[38;5;28mself\u001b[39m\u001b[38;5;241m.\u001b[39mn_jobs\n\u001b[0;32m    646\u001b[0m accept_sparse \u001b[38;5;241m=\u001b[39m \u001b[38;5;28;01mFalse\u001b[39;00m \u001b[38;5;28;01mif\u001b[39;00m \u001b[38;5;28mself\u001b[39m\u001b[38;5;241m.\u001b[39mpositive \u001b[38;5;28;01melse\u001b[39;00m [\u001b[38;5;124m\"\u001b[39m\u001b[38;5;124mcsr\u001b[39m\u001b[38;5;124m\"\u001b[39m, \u001b[38;5;124m\"\u001b[39m\u001b[38;5;124mcsc\u001b[39m\u001b[38;5;124m\"\u001b[39m, \u001b[38;5;124m\"\u001b[39m\u001b[38;5;124mcoo\u001b[39m\u001b[38;5;124m\"\u001b[39m]\n\u001b[1;32m--> 648\u001b[0m X, y \u001b[38;5;241m=\u001b[39m \u001b[38;5;28;43mself\u001b[39;49m\u001b[38;5;241;43m.\u001b[39;49m\u001b[43m_validate_data\u001b[49m\u001b[43m(\u001b[49m\n\u001b[0;32m    649\u001b[0m \u001b[43m    \u001b[49m\u001b[43mX\u001b[49m\u001b[43m,\u001b[49m\u001b[43m \u001b[49m\u001b[43my\u001b[49m\u001b[43m,\u001b[49m\u001b[43m \u001b[49m\u001b[43maccept_sparse\u001b[49m\u001b[38;5;241;43m=\u001b[39;49m\u001b[43maccept_sparse\u001b[49m\u001b[43m,\u001b[49m\u001b[43m \u001b[49m\u001b[43my_numeric\u001b[49m\u001b[38;5;241;43m=\u001b[39;49m\u001b[38;5;28;43;01mTrue\u001b[39;49;00m\u001b[43m,\u001b[49m\u001b[43m \u001b[49m\u001b[43mmulti_output\u001b[49m\u001b[38;5;241;43m=\u001b[39;49m\u001b[38;5;28;43;01mTrue\u001b[39;49;00m\n\u001b[0;32m    650\u001b[0m \u001b[43m\u001b[49m\u001b[43m)\u001b[49m\n\u001b[0;32m    652\u001b[0m sample_weight \u001b[38;5;241m=\u001b[39m _check_sample_weight(\n\u001b[0;32m    653\u001b[0m     sample_weight, X, dtype\u001b[38;5;241m=\u001b[39mX\u001b[38;5;241m.\u001b[39mdtype, only_non_negative\u001b[38;5;241m=\u001b[39m\u001b[38;5;28;01mTrue\u001b[39;00m\n\u001b[0;32m    654\u001b[0m )\n\u001b[0;32m    656\u001b[0m X, y, X_offset, y_offset, X_scale \u001b[38;5;241m=\u001b[39m _preprocess_data(\n\u001b[0;32m    657\u001b[0m     X,\n\u001b[0;32m    658\u001b[0m     y,\n\u001b[1;32m   (...)\u001b[0m\n\u001b[0;32m    661\u001b[0m     sample_weight\u001b[38;5;241m=\u001b[39msample_weight,\n\u001b[0;32m    662\u001b[0m )\n",
      "File \u001b[1;32m~\\anaconda3\\lib\\site-packages\\sklearn\\base.py:565\u001b[0m, in \u001b[0;36mBaseEstimator._validate_data\u001b[1;34m(self, X, y, reset, validate_separately, **check_params)\u001b[0m\n\u001b[0;32m    563\u001b[0m         y \u001b[38;5;241m=\u001b[39m check_array(y, input_name\u001b[38;5;241m=\u001b[39m\u001b[38;5;124m\"\u001b[39m\u001b[38;5;124my\u001b[39m\u001b[38;5;124m\"\u001b[39m, \u001b[38;5;241m*\u001b[39m\u001b[38;5;241m*\u001b[39mcheck_y_params)\n\u001b[0;32m    564\u001b[0m     \u001b[38;5;28;01melse\u001b[39;00m:\n\u001b[1;32m--> 565\u001b[0m         X, y \u001b[38;5;241m=\u001b[39m check_X_y(X, y, \u001b[38;5;241m*\u001b[39m\u001b[38;5;241m*\u001b[39mcheck_params)\n\u001b[0;32m    566\u001b[0m     out \u001b[38;5;241m=\u001b[39m X, y\n\u001b[0;32m    568\u001b[0m \u001b[38;5;28;01mif\u001b[39;00m \u001b[38;5;129;01mnot\u001b[39;00m no_val_X \u001b[38;5;129;01mand\u001b[39;00m check_params\u001b[38;5;241m.\u001b[39mget(\u001b[38;5;124m\"\u001b[39m\u001b[38;5;124mensure_2d\u001b[39m\u001b[38;5;124m\"\u001b[39m, \u001b[38;5;28;01mTrue\u001b[39;00m):\n",
      "File \u001b[1;32m~\\anaconda3\\lib\\site-packages\\sklearn\\utils\\validation.py:1106\u001b[0m, in \u001b[0;36mcheck_X_y\u001b[1;34m(X, y, accept_sparse, accept_large_sparse, dtype, order, copy, force_all_finite, ensure_2d, allow_nd, multi_output, ensure_min_samples, ensure_min_features, y_numeric, estimator)\u001b[0m\n\u001b[0;32m   1101\u001b[0m         estimator_name \u001b[38;5;241m=\u001b[39m _check_estimator_name(estimator)\n\u001b[0;32m   1102\u001b[0m     \u001b[38;5;28;01mraise\u001b[39;00m \u001b[38;5;167;01mValueError\u001b[39;00m(\n\u001b[0;32m   1103\u001b[0m         \u001b[38;5;124mf\u001b[39m\u001b[38;5;124m\"\u001b[39m\u001b[38;5;132;01m{\u001b[39;00mestimator_name\u001b[38;5;132;01m}\u001b[39;00m\u001b[38;5;124m requires y to be passed, but the target y is None\u001b[39m\u001b[38;5;124m\"\u001b[39m\n\u001b[0;32m   1104\u001b[0m     )\n\u001b[1;32m-> 1106\u001b[0m X \u001b[38;5;241m=\u001b[39m \u001b[43mcheck_array\u001b[49m\u001b[43m(\u001b[49m\n\u001b[0;32m   1107\u001b[0m \u001b[43m    \u001b[49m\u001b[43mX\u001b[49m\u001b[43m,\u001b[49m\n\u001b[0;32m   1108\u001b[0m \u001b[43m    \u001b[49m\u001b[43maccept_sparse\u001b[49m\u001b[38;5;241;43m=\u001b[39;49m\u001b[43maccept_sparse\u001b[49m\u001b[43m,\u001b[49m\n\u001b[0;32m   1109\u001b[0m \u001b[43m    \u001b[49m\u001b[43maccept_large_sparse\u001b[49m\u001b[38;5;241;43m=\u001b[39;49m\u001b[43maccept_large_sparse\u001b[49m\u001b[43m,\u001b[49m\n\u001b[0;32m   1110\u001b[0m \u001b[43m    \u001b[49m\u001b[43mdtype\u001b[49m\u001b[38;5;241;43m=\u001b[39;49m\u001b[43mdtype\u001b[49m\u001b[43m,\u001b[49m\n\u001b[0;32m   1111\u001b[0m \u001b[43m    \u001b[49m\u001b[43morder\u001b[49m\u001b[38;5;241;43m=\u001b[39;49m\u001b[43morder\u001b[49m\u001b[43m,\u001b[49m\n\u001b[0;32m   1112\u001b[0m \u001b[43m    \u001b[49m\u001b[43mcopy\u001b[49m\u001b[38;5;241;43m=\u001b[39;49m\u001b[43mcopy\u001b[49m\u001b[43m,\u001b[49m\n\u001b[0;32m   1113\u001b[0m \u001b[43m    \u001b[49m\u001b[43mforce_all_finite\u001b[49m\u001b[38;5;241;43m=\u001b[39;49m\u001b[43mforce_all_finite\u001b[49m\u001b[43m,\u001b[49m\n\u001b[0;32m   1114\u001b[0m \u001b[43m    \u001b[49m\u001b[43mensure_2d\u001b[49m\u001b[38;5;241;43m=\u001b[39;49m\u001b[43mensure_2d\u001b[49m\u001b[43m,\u001b[49m\n\u001b[0;32m   1115\u001b[0m \u001b[43m    \u001b[49m\u001b[43mallow_nd\u001b[49m\u001b[38;5;241;43m=\u001b[39;49m\u001b[43mallow_nd\u001b[49m\u001b[43m,\u001b[49m\n\u001b[0;32m   1116\u001b[0m \u001b[43m    \u001b[49m\u001b[43mensure_min_samples\u001b[49m\u001b[38;5;241;43m=\u001b[39;49m\u001b[43mensure_min_samples\u001b[49m\u001b[43m,\u001b[49m\n\u001b[0;32m   1117\u001b[0m \u001b[43m    \u001b[49m\u001b[43mensure_min_features\u001b[49m\u001b[38;5;241;43m=\u001b[39;49m\u001b[43mensure_min_features\u001b[49m\u001b[43m,\u001b[49m\n\u001b[0;32m   1118\u001b[0m \u001b[43m    \u001b[49m\u001b[43mestimator\u001b[49m\u001b[38;5;241;43m=\u001b[39;49m\u001b[43mestimator\u001b[49m\u001b[43m,\u001b[49m\n\u001b[0;32m   1119\u001b[0m \u001b[43m    \u001b[49m\u001b[43minput_name\u001b[49m\u001b[38;5;241;43m=\u001b[39;49m\u001b[38;5;124;43m\"\u001b[39;49m\u001b[38;5;124;43mX\u001b[39;49m\u001b[38;5;124;43m\"\u001b[39;49m\u001b[43m,\u001b[49m\n\u001b[0;32m   1120\u001b[0m \u001b[43m\u001b[49m\u001b[43m)\u001b[49m\n\u001b[0;32m   1122\u001b[0m y \u001b[38;5;241m=\u001b[39m _check_y(y, multi_output\u001b[38;5;241m=\u001b[39mmulti_output, y_numeric\u001b[38;5;241m=\u001b[39my_numeric, estimator\u001b[38;5;241m=\u001b[39mestimator)\n\u001b[0;32m   1124\u001b[0m check_consistent_length(X, y)\n",
      "File \u001b[1;32m~\\anaconda3\\lib\\site-packages\\sklearn\\utils\\validation.py:879\u001b[0m, in \u001b[0;36mcheck_array\u001b[1;34m(array, accept_sparse, accept_large_sparse, dtype, order, copy, force_all_finite, ensure_2d, allow_nd, ensure_min_samples, ensure_min_features, estimator, input_name)\u001b[0m\n\u001b[0;32m    877\u001b[0m         array \u001b[38;5;241m=\u001b[39m xp\u001b[38;5;241m.\u001b[39mastype(array, dtype, copy\u001b[38;5;241m=\u001b[39m\u001b[38;5;28;01mFalse\u001b[39;00m)\n\u001b[0;32m    878\u001b[0m     \u001b[38;5;28;01melse\u001b[39;00m:\n\u001b[1;32m--> 879\u001b[0m         array \u001b[38;5;241m=\u001b[39m \u001b[43m_asarray_with_order\u001b[49m\u001b[43m(\u001b[49m\u001b[43marray\u001b[49m\u001b[43m,\u001b[49m\u001b[43m \u001b[49m\u001b[43morder\u001b[49m\u001b[38;5;241;43m=\u001b[39;49m\u001b[43morder\u001b[49m\u001b[43m,\u001b[49m\u001b[43m \u001b[49m\u001b[43mdtype\u001b[49m\u001b[38;5;241;43m=\u001b[39;49m\u001b[43mdtype\u001b[49m\u001b[43m,\u001b[49m\u001b[43m \u001b[49m\u001b[43mxp\u001b[49m\u001b[38;5;241;43m=\u001b[39;49m\u001b[43mxp\u001b[49m\u001b[43m)\u001b[49m\n\u001b[0;32m    880\u001b[0m \u001b[38;5;28;01mexcept\u001b[39;00m ComplexWarning \u001b[38;5;28;01mas\u001b[39;00m complex_warning:\n\u001b[0;32m    881\u001b[0m     \u001b[38;5;28;01mraise\u001b[39;00m \u001b[38;5;167;01mValueError\u001b[39;00m(\n\u001b[0;32m    882\u001b[0m         \u001b[38;5;124m\"\u001b[39m\u001b[38;5;124mComplex data not supported\u001b[39m\u001b[38;5;130;01m\\n\u001b[39;00m\u001b[38;5;132;01m{}\u001b[39;00m\u001b[38;5;130;01m\\n\u001b[39;00m\u001b[38;5;124m\"\u001b[39m\u001b[38;5;241m.\u001b[39mformat(array)\n\u001b[0;32m    883\u001b[0m     ) \u001b[38;5;28;01mfrom\u001b[39;00m \u001b[38;5;21;01mcomplex_warning\u001b[39;00m\n",
      "File \u001b[1;32m~\\anaconda3\\lib\\site-packages\\sklearn\\utils\\_array_api.py:185\u001b[0m, in \u001b[0;36m_asarray_with_order\u001b[1;34m(array, dtype, order, copy, xp)\u001b[0m\n\u001b[0;32m    182\u001b[0m     xp, _ \u001b[38;5;241m=\u001b[39m get_namespace(array)\n\u001b[0;32m    183\u001b[0m \u001b[38;5;28;01mif\u001b[39;00m xp\u001b[38;5;241m.\u001b[39m\u001b[38;5;18m__name__\u001b[39m \u001b[38;5;129;01min\u001b[39;00m {\u001b[38;5;124m\"\u001b[39m\u001b[38;5;124mnumpy\u001b[39m\u001b[38;5;124m\"\u001b[39m, \u001b[38;5;124m\"\u001b[39m\u001b[38;5;124mnumpy.array_api\u001b[39m\u001b[38;5;124m\"\u001b[39m}:\n\u001b[0;32m    184\u001b[0m     \u001b[38;5;66;03m# Use NumPy API to support order\u001b[39;00m\n\u001b[1;32m--> 185\u001b[0m     array \u001b[38;5;241m=\u001b[39m \u001b[43mnumpy\u001b[49m\u001b[38;5;241;43m.\u001b[39;49m\u001b[43masarray\u001b[49m\u001b[43m(\u001b[49m\u001b[43marray\u001b[49m\u001b[43m,\u001b[49m\u001b[43m \u001b[49m\u001b[43morder\u001b[49m\u001b[38;5;241;43m=\u001b[39;49m\u001b[43morder\u001b[49m\u001b[43m,\u001b[49m\u001b[43m \u001b[49m\u001b[43mdtype\u001b[49m\u001b[38;5;241;43m=\u001b[39;49m\u001b[43mdtype\u001b[49m\u001b[43m)\u001b[49m\n\u001b[0;32m    186\u001b[0m     \u001b[38;5;28;01mreturn\u001b[39;00m xp\u001b[38;5;241m.\u001b[39masarray(array, copy\u001b[38;5;241m=\u001b[39mcopy)\n\u001b[0;32m    187\u001b[0m \u001b[38;5;28;01melse\u001b[39;00m:\n",
      "\u001b[1;31mValueError\u001b[0m: setting an array element with a sequence."
     ]
    }
   ],
   "source": [
    "lt=LinearRegression()\n",
    "lt.fit(x_train,y_train)"
   ]
  },
  {
   "cell_type": "code",
   "execution_count": 71,
   "id": "35366283",
   "metadata": {},
   "outputs": [
    {
     "data": {
      "text/plain": [
       "array([list([88610, 2020, 3, 827, 88586, 3, 88586, 1328, 1476, 960, 3, 827, 88586, 1476, 960, 3, 1092, 88587, 88586, 3, 3360, 1092, 88586, 587, 1601, 88586, 10, 3360, 1206, 1601, 1476, 1980, 3, 827, 10, 1961, 960, 88586, 827, 1601, 1601, 88589, 88586, 88585, 827, 755, 587, 88586, 1476, 3, 1476, 960, 88586, 827, 2020, 3, 827, 88586, 587, 1601, 1980, 960, 1601, 3360, 960, 88586, 1601, 1206, 88586, 88605, 960, 1476, 1476, 960, 10, 1476, 3, 755, 587, 88586, 827, 960, 1145, 2020, 3360, 10, 1145, 3, 2011, 88586, 1145, 3, 2011, 10, 500, 960, 1476, 88586, 88614, 2020, 960, 755, 587, 88586, 3, 88586, 1654, 1476, 1601, 1206, 960, 587, 587, 1601, 1476, 88586, 1601, 1206, 88586, 3, 587, 827, 1476, 1601, 1654, 2020, 5132, 587, 10, 1145, 587, 88586, 3, 827, 88586, 827, 2020, 960, 88586, 1654, 1476, 960, 587, 827, 10, 1328, 10, 1601, 1203, 587, 88586, 88616, 3360, 10, 1961, 960, 1476, 587, 10, 827, 5132, 88586, 1601, 1206, 88586, 88609, 1742, 1206, 1601, 1476, 1092, 88615, 88586, 1145, 3, 3360, 88586, 3, 2011, 587, 1601, 88586, 1989, 1476, 10, 827, 960, 88586, 1989, 960, 2011, 2011, 88589, 88586, 88598, 1601, 827, 960, 88586, 827, 2020, 3, 827, 88587, 88586, 3, 827, 88586, 827, 2020, 960, 88586, 827, 10, 1980, 960, 88586, 1601, 1206, 88586, 827, 2020, 10, 587, 88586, 1476, 960, 1961, 10, 960, 1989, 88587, 88586, 2020, 960, 88586, 2020, 3, 587, 88586, 1601, 1961, 960, 1476, 88586, 339, 1083, 2238, 88586, 1654, 1203, 500, 2011, 10, 587, 2020, 960, 1092, 88586, 10, 827, 960, 1980, 587, 88586, 88614, 960, 88589, 1328, 88589, 88587, 88586, 3, 1476, 827, 10, 1145, 2011, 960, 587, 88587, 88586, 500, 1601, 1601, 2292, 587, 88615, 88586, 3, 3360, 1092, 88586, 2020, 960, 88586, 10, 587, 88586, 1145, 10, 827, 960, 1092, 88586, 1601, 1961, 960, 1476, 88586, 297, 339, 2238, 2238, 88586, 827, 10, 1980, 960, 587, 88586, 10, 3360, 88586, 1601, 827, 2020, 960, 1476, 88586, 1989, 1601, 1476, 2292, 587, 88589, 88586, 88598, 1601, 1989, 2020, 960, 1476, 960, 88586, 1092, 1601, 960, 587, 88586, 2020, 960, 88586, 1203, 587, 960, 88586, 827, 2020, 960, 88586, 827, 10, 827, 2011, 960, 88586, 88599, 88600, 339, 467, 88601, 88603, 1601, 1145, 827, 1601, 1476, 88587, 88599, 88600, 339, 467, 88601, 88586, 3, 3360, 1092, 88586, 88585, 88586, 1145, 1601, 1203, 2011, 1092, 3360, 755, 827, 88586, 1206, 10, 3360, 1092, 88586, 3, 3360, 5132, 88586, 1476, 960, 1206, 960, 1476, 960, 3360, 1145, 960, 88586, 827, 2020, 960, 1476, 960, 1601, 1206, 88589, 88586, 88597, 1203, 827, 88586, 10, 3360, 88586, 827, 1476, 5132, 10, 3360, 1328, 88586, 827, 1601, 88586, 1206, 10, 3360, 1092, 88586, 10, 827, 88587, 88586, 88585, 88586, 1989, 3, 587, 88586, 1092, 1203, 2011, 5132, 88586, 10, 1980, 1654, 1476, 960, 587, 587, 960, 1092, 88586, 1989, 10, 827, 2020, 88586, 2020, 10, 587, 88586, 1145, 1476, 960, 1092, 960, 3360, 827, 10, 3, 2011, 587, 88586, 1601, 827, 2020, 960, 1476, 1989, 10, 587, 960, 88589, 88586, 88593, 3, 5132, 500, 960, 88586, 827, 2020, 3, 827, 755, 587, 88586, 1989, 2020, 5132, 88586, 2020, 960, 755, 587, 88586, 3, 88586, 1654, 1476, 1601, 1206, 960, 587, 587, 1601, 1476, 88586, 3, 827, 88586, 3, 88586, 1980, 3, 1465, 1601, 1476, 88586, 1203, 3360, 10, 1961, 960, 1476, 587, 10, 827, 5132, 88586, 960, 1961, 960, 3360, 88586, 10, 1206, 88586, 88614, 3, 3360, 1092, 88586, 827, 2020, 3, 827, 755, 587, 88586, 3360, 1601, 827, 88586, 1145, 960, 1476, 827, 3, 10, 3360, 88615, 88586, 2020, 960, 88586, 1092, 1601, 960, 587, 3360, 755, 827, 88586, 2020, 3, 1961, 960, 88586, 3, 88586, 88594, 2020, 88603, 88586, 88614, 2020, 960, 88586, 1980, 10, 1328, 2020, 827, 88587, 88586, 88585, 88586, 1465, 1203, 587, 827, 88586, 1145, 3, 3360, 755, 827, 88586, 1961, 960, 1476, 10, 1206, 5132, 88586, 827, 2020, 3, 827, 88615, 88589, 88602, 10, 587, 88586, 1989, 1476, 10, 827, 10, 3360, 1328, 88586, 10, 587, 88586, 960, 1742, 1145, 960, 2011, 2011, 960, 3360, 827, 88587, 88586, 500, 1601, 827, 2020, 88586, 10, 3360, 88586, 587, 827, 5132, 2011, 960, 88586, 3, 3360, 1092, 88586, 10, 3360, 88586, 827, 960, 1145, 2020, 3360, 10, 1145, 3, 2011, 88586, 1980, 960, 1476, 10, 827, 88586, 88614, 827, 2020, 3, 827, 88586, 10, 587, 88587, 88586, 2020, 10, 587, 88586, 1328, 1476, 3, 1980, 1980, 3, 827, 10, 1145, 3, 2011, 88586, 1145, 1601, 1980, 1654, 960, 827, 960, 3360, 1145, 960, 88586, 10, 587, 88586, 2020, 10, 1328, 2020, 88615, 88589, 88586, 88597, 960, 1145, 3, 1203, 587, 960, 88586, 1601, 1206, 88586, 827, 2020, 10, 587, 88587, 88586, 827, 2020, 960, 88586, 500, 1601, 1601, 2292, 88586, 10, 587, 88586, 3888, 1203, 10, 827, 960, 88586, 3, 1145, 1145, 960, 587, 587, 10, 500, 2011, 960, 88586, 827, 1601, 88586, 827, 2020, 960, 88586, 2011, 3, 5132, 88586, 1476, 960, 3, 1092, 960, 1476, 88586, 1989, 10, 827, 2020, 88586, 3, 3360, 88586, 10, 3360, 827, 960, 1476, 960, 587, 827, 88586, 10, 3360, 88586, 587, 1601, 1980, 960, 827, 2020, 10, 3360, 1328, 88586, 3, 587, 88586, 1980, 10, 3360, 1092, 88588, 500, 1601, 1328, 1328, 2011, 10, 3360, 1328, 88586, 3, 587, 88586, 827, 2020, 960, 88586, 88596, 2020, 960, 1601, 1476, 5132, 88586, 1601, 1206, 88586, 88621, 960, 3360, 960, 1476, 3, 2011, 88586, 88590, 960, 2011, 3, 827, 10, 1961, 10, 827, 5132, 88589, 88586, 88590, 3, 827, 2020, 960, 1476, 88586, 827, 2020, 3, 3360, 88586, 827, 1476, 1203, 1092, 1328, 10, 3360, 1328, 88586, 827, 2020, 1476, 1601, 1203, 1328, 2020, 88586, 1092, 960, 3360, 587, 960, 88586, 827, 960, 1742, 827, 88586, 3, 3360, 1092, 88586, 827, 1476, 5132, 10, 3360, 1328, 88586, 827, 1601, 88586, 1206, 10, 1328, 1203, 1476, 960, 88586, 1601, 1203, 827, 88586, 1989, 2020, 3, 827, 88586, 827, 2020, 960, 88586, 3, 1203, 827, 2020, 1601, 1476, 88586, 10, 587, 88586, 587, 3, 5132, 10, 3360, 1328, 88587, 88586, 1476, 960, 3, 1092, 960, 1476, 587, 88586, 1601, 1206, 88586, 827, 2020, 10, 587, 88586, 500, 1601, 1601, 2292, 88586, 1145, 3, 3360, 88586, 960, 3360, 1465, 1601, 5132, 88586, 3, 88586, 3360, 10, 1145, 960, 2011, 5132, 88586, 3360, 3, 1476, 1476, 3, 827, 960, 1092, 88586, 960, 1742, 1654, 2011, 3, 3360, 3, 827, 10, 1601, 3360, 88586, 1601, 1206, 88586, 1989, 2020, 3, 827, 88586, 2020, 3, 587, 88586, 1328, 1601, 3360, 960, 88586, 1601, 3360, 88586, 1989, 10, 827, 2020, 88586, 827, 2020, 960, 88586, 88596, 2020, 960, 1601, 1476, 5132, 88586, 1601, 1206, 88586, 88621, 960, 3360, 960, 1476, 3, 2011, 88586, 88590, 960, 2011, 3, 827, 10, 1961, 10, 827, 5132, 88586, 1206, 1476, 1601, 1980, 88586, 10, 827, 587, 88586, 10, 3360, 1145, 960, 1654, 827, 10, 1601, 3360, 88586, 827, 1601, 88586, 1989, 2020, 960, 1476, 960, 88586, 10, 827, 88586, 10, 587, 88586, 827, 1601, 1092, 3, 5132, 88589, 88585, 3360, 88586, 827, 2020, 10, 587, 88586, 1476, 960, 1961, 10, 960, 1989, 88587, 88586, 88585, 88586, 1989, 1601, 3360, 755, 827, 88586, 960, 1742, 1654, 2011, 3, 10, 3360, 88586, 3, 3360, 5132, 827, 2020, 10, 3360, 1328, 88586, 3, 500, 1601, 1203, 827, 88586, 827, 2020, 10, 587, 88586, 1961, 960, 1476, 5132, 88586, 1206, 3, 1980, 1601, 1203, 587, 88586, 827, 2020, 960, 1601, 1476, 5132, 88589, 88586, 88585, 88586, 3, 587, 587, 1203, 1980, 960, 88586, 827, 2020, 960, 88586, 1476, 960, 3, 1092, 960, 1476, 88586, 1601, 1206, 88586, 827, 2020, 10, 587, 88586, 1476, 960, 1961, 10, 960, 1989, 88586, 2020, 3, 587, 88586, 3360, 1601, 827, 88586, 500, 960, 960, 3360, 88586, 1601, 3360, 88586, 3, 88586, 1092, 960, 587, 960, 1476, 827, 960, 1092, 88586, 10, 587, 2011, 3, 3360, 1092, 88586, 587, 10, 3360, 1145, 960, 88586, 297, 787, 2238, 454, 88586, 3, 3360, 1092, 88586, 827, 2020, 1203, 587, 88586, 2020, 3, 587, 88586, 500, 960, 960, 3360, 88586, 3, 1980, 1654, 2011, 5132, 88586, 960, 1742, 1654, 1601, 587, 960, 1092, 88586, 827, 1601, 88586, 10, 827, 88586, 827, 2020, 1476, 1601, 1203, 1328, 2020, 88586, 3, 827, 88586, 2011, 960, 3, 587, 827, 88586, 587, 1601, 1980, 960, 88586, 1601, 1206, 88586, 827, 2020, 960, 88586, 1654, 1601, 1654, 88586, 1145, 1203, 2011, 827, 1203, 1476, 960, 88587, 88586, 827, 2020, 1601, 1203, 587, 3, 3360, 1092, 587, 88586, 1601, 1206, 88586, 3, 1476, 827, 10, 1145, 2011, 960, 587, 88587, 88586, 1145, 1601, 1980, 1980, 1601, 3360, 88586, 1980, 960, 3360, 827, 10, 1601, 3360, 587, 88587, 88586, 3, 3360, 1092, 88586, 960, 1961, 960, 3360, 88586, 1980, 1601, 1961, 10, 960, 587, 88586, 827, 2020, 3, 827, 88586, 2020, 3, 1961, 960, 88586, 960, 1742, 1654, 2011, 3, 10, 3360, 960, 1092, 88587, 88586, 3, 1980, 1654, 2011, 10, 1206, 10, 960, 1092, 88587, 88586, 1601, 1476, 88586, 960, 1961, 960, 3360, 88586, 1980, 10, 587, 1476, 960, 1654, 1476, 960, 587, 960, 3360, 827, 960, 1092, 88586, 10, 827, 88586, 587, 10, 3360, 1145, 960, 88586, 827, 2020, 3, 827, 88586, 827, 10, 1980, 960, 88589, 88586, 88585, 1206, 88586, 5132, 1601, 1203, 88586, 1989, 960, 1476, 960, 88586, 587, 827, 1476, 3, 3360, 1092, 960, 1092, 88586, 1601, 3360, 88586, 3, 88586, 1092, 960, 587, 960, 1476, 827, 960, 1092, 88586, 10, 587, 2011, 3, 3360, 1092, 88586, 3, 2011, 2011, 88586, 827, 2020, 10, 587, 88586, 827, 10, 1980, 960, 88587, 88586, 1654, 2011, 960, 3, 587, 960, 88586, 3, 1145, 1145, 960, 1654, 827, 88586, 1980, 5132, 88586, 3, 1654, 1601, 2011, 1601, 1328, 10, 960, 587, 88601, 88586, 88585, 88586, 1092, 10, 1092, 88586, 3360, 1601, 827, 88586, 1980, 960, 3, 3360, 88586, 827, 1601, 88586, 587, 2011, 10, 1328, 2020, 827, 88586, 5132, 1601, 1203, 88589, 88596, 2020, 10, 587, 88586, 500, 1601, 1601, 2292, 88586, 10, 587, 3360, 755, 827, 88586, 3, 88586, 827, 1203, 827, 1601, 1476, 10, 3, 2011, 88586, 1601, 3360, 88586, 827, 2020, 960, 88586, 88596, 2020, 960, 1601, 1476, 5132, 88586, 1601, 1206, 88586, 88621, 960, 3360, 960, 1476, 3, 2011, 88586, 88590, 960, 2011, 3, 827, 10, 1961, 10, 827, 5132, 88589, 88586, 88610, 2020, 3, 827, 960, 1961, 960, 1476, 88586, 5132, 1601, 1203, 88586, 2292, 3360, 1601, 1989, 88586, 1601, 1206, 88586, 10, 827, 88586, 1206, 1476, 1601, 1980, 88586, 827, 2020, 960, 88586, 1654, 1601, 1654, 1203, 2011, 3, 1476, 88586, 1145, 1203, 2011, 827, 1203, 1476, 960, 88586, 1601, 1476, 88586, 827, 2020, 960, 88586, 1476, 960, 3, 1092, 10, 3360, 1328, 88586, 1601, 1206, 88586, 1476, 960, 2011, 960, 1961, 3, 3360, 827, 88586, 500, 1601, 1601, 2292, 587, 88586, 1206, 1601, 1476, 88586, 827, 2020, 960, 88586, 2011, 3, 5132, 1654, 960, 1476, 587, 1601, 3360, 88586, 10, 587, 88586, 587, 1203, 1206, 1206, 10, 1145, 10, 960, 3360, 827, 88586, 500, 3, 1145, 2292, 1328, 1476, 1601, 1203, 3360, 1092, 88586, 1206, 1601, 1476, 88586, 1476, 960, 3, 1092, 10, 3360, 1328, 88586, 827, 2020, 10, 587, 88586, 500, 1601, 1601, 2292, 88589, 88586, 88585, 827, 755, 587, 88586, 1476, 960, 3, 2011, 2011, 5132, 88586, 3, 500, 1601, 1203, 827, 88586, 827, 2020, 960, 88586, 2020, 1203, 1980, 3, 3360, 88586, 1092, 1476, 3, 1980, 3, 88586, 827, 2020, 3, 827, 88586, 827, 2020, 10, 587, 88586, 827, 2020, 960, 1601, 1476, 5132, 88586, 960, 1961, 1601, 2292, 960, 1092, 88589, 88586, 88595, 3360, 1092, 88586, 827, 2020, 3, 827, 88586, 10, 587, 88586, 3888, 1203, 10, 827, 960, 88586, 3, 88586, 587, 827, 1601, 1476, 5132, 88589, 88586, 88595, 587, 88586, 88605, 960, 1476, 1476, 960, 10, 1476, 3, 88586, 827, 960, 2011, 2011, 587, 88586, 1203, 587, 88586, 10, 3360, 88586, 827, 2020, 960, 88586, 88594, 1476, 1601, 2011, 1601, 1328, 1203, 960, 88586, 3, 3360, 1092, 88586, 827, 2020, 960, 3360, 88586, 587, 2020, 1601, 1989, 587, 88586, 1203, 587, 88586, 827, 2020, 1476, 1601, 1203, 1328, 2020, 88586, 2020, 10, 587, 88586, 1989, 1476, 10, 827, 10, 3360, 1328, 88587, 88586, 827, 2020, 960, 88586, 88596, 2020, 960, 1601, 1476, 5132, 88586, 1601, 1206, 88586, 88621, 960, 3360, 960, 1476, 3, 2011, 88586, 88590, 960, 2011, 3, 827, 10, 1961, 10, 827, 5132, 88586, 2020, 3, 587, 88586, 827, 3, 2292, 960, 3360, 88586, 1601, 3360, 88586, 3, 88586, 2011, 10, 1206, 960, 88586, 1601, 1206, 88586, 10, 827, 587, 88586, 1601, 1989, 3360, 88589, 88586, 88585, 827, 88586, 1601, 1145, 1145, 1203, 1654, 10, 960, 1092, 88587, 88586, 1601, 1476, 88586, 1654, 960, 1476, 2020, 3, 1654, 587, 88586, 1145, 1601, 3360, 587, 1203, 1980, 960, 1092, 88587, 88586, 1980, 3, 3360, 5132, 88586, 1601, 1206, 88586, 827, 2020, 960, 88586, 1980, 1601, 587, 827, 88586, 500, 1476, 10, 2011, 2011, 10, 3, 3360, 827, 88586, 1980, 10, 3360, 1092, 587, 88586, 1601, 1206, 88586, 827, 2020, 960, 88586, 827, 1989, 960, 3360, 827, 10, 960, 827, 2020, 88586, 1145, 960, 3360, 827, 1203, 1476, 5132, 88589, 88586, 88595, 3360, 1092, 88586, 10, 827, 88586, 10, 587, 88586, 3, 88586, 1145, 3, 1476, 960, 960, 1476, 88586, 827, 1601, 1654, 10, 1145, 88586, 1206, 1601, 1476, 88586, 1980, 3, 3360, 5132, 88586, 500, 1476, 10, 2011, 2011, 10, 3, 3360, 827, 88586, 1980, 10, 3360, 1092, 587, 88586, 10, 3360, 88586, 827, 2020, 10, 587, 88586, 1145, 960, 3360, 827, 1203, 1476, 5132, 88589, 88585, 3360, 88586, 827, 960, 2011, 2011, 10, 3360, 1328, 88586, 827, 2020, 10, 587, 88586, 587, 827, 1601, 1476, 5132, 88587, 88586, 88605, 960, 1476, 1476, 960, 10, 1476, 3, 88586, 1092, 960, 2011, 1961, 960, 587, 88586, 10, 3360, 827, 1601, 88586, 2020, 1601, 1989, 88586, 587, 1145, 10, 960, 3360, 1145, 960, 88586, 3, 3360, 1092, 88586, 1145, 1203, 2011, 827, 1203, 1476, 960, 88586, 2020, 3, 1961, 960, 88586, 1476, 960, 587, 1654, 1601, 3360, 1092, 960, 1092, 88586, 827, 1601, 88586, 827, 2020, 960, 88586, 88596, 2020, 960, 1601, 1476, 5132, 88586, 1601, 1206, 88586, 88621, 960, 3360, 960, 1476, 3, 2011, 88586, 88590, 960, 2011, 3, 827, 10, 1961, 10, 827, 5132, 88589, 88586, 88597, 1203, 827, 88586, 2020, 10, 587, 88586, 1206, 1601, 1145, 1203, 587, 88586, 10, 587, 88586, 1980, 1601, 587, 827, 2011, 5132, 88586, 1601, 3360, 88586, 827, 2020, 960, 88586, 587, 1145, 10, 960, 3360, 827, 10, 587, 827, 587, 88587, 88586, 1989, 10, 827, 2020, 88586, 827, 2020, 960, 10, 1476, 88586, 1145, 2011, 10, 3888, 1203, 960, 587, 88587, 88586, 500, 3, 827, 827, 2011, 960, 587, 88586, 1601, 1206, 88586, 10, 1092, 960, 3, 587, 88587, 88586, 3, 3360, 1092, 88586, 1654, 960, 1476, 587, 1601, 3360, 3, 2011, 88586, 1206, 960, 1203, 1092, 587, 88589, 88586, 88596, 2020, 960, 88586, 10, 3360, 827, 1476, 10, 1328, 1203, 960, 587, 88586, 3, 3360, 1092, 88586, 500, 3, 1145, 2292, 587, 827, 3, 500, 500, 10, 3360, 1328, 88586, 2020, 3, 1961, 960, 88586, 1980, 1203, 1145, 2020, 88586, 10, 3360, 88586, 1145, 1601, 1980, 1980, 1601, 3360, 88586, 1989, 10, 827, 2020, 88586, 3, 88586, 587, 960, 3, 587, 1601, 3360, 88586, 1601, 1206, 88586, 827, 2020, 960, 88586, 706, 2238, 755, 587, 88586, 827, 960, 2011, 960, 1961, 10, 587, 10, 1601, 3360, 88586, 587, 2020, 1601, 1989, 88586, 88603, 3, 2011, 2011, 3, 587, 88589, 88586, 88594, 960, 1601, 1654, 2011, 960, 88586, 1989, 2020, 1601, 88586, 1145, 2020, 3, 2011, 2011, 960, 3360, 1328, 960, 1092, 88586, 827, 2020, 960, 88586, 1601, 1476, 827, 2020, 1601, 1092, 1601, 1742, 5132, 88586, 1601, 1476, 88586, 827, 2020, 960, 88586, 88599, 88600, 339, 467, 88601, 1654, 1601, 1989, 960, 1476, 587, 88586, 827, 2020, 3, 827, 88586, 500, 960, 88599, 88600, 339, 467, 88601, 88586, 587, 1601, 1980, 960, 827, 10, 1980, 960, 587, 88586, 1206, 1601, 1203, 3360, 1092, 88586, 827, 2020, 960, 10, 1476, 88586, 2011, 10, 1961, 960, 587, 88586, 1092, 960, 587, 827, 1476, 1601, 5132, 960, 1092, 88586, 88614, 960, 1961, 960, 3360, 88586, 827, 2020, 1601, 1203, 1328, 2020, 88586, 827, 2020, 960, 5132, 88586, 1989, 960, 1476, 960, 88586, 1476, 10, 1328, 2020, 827, 88615, 88589, 88610, 2020, 3, 827, 88586, 1980, 3, 3360, 5132, 88586, 1654, 960, 1601, 1654, 2011, 960, 88586, 1092, 1601, 3360, 755, 827, 88586, 2292, 3360, 1601, 1989, 88586, 10, 587, 88586, 827, 2020, 960, 88586, 88596, 2020, 960, 1601, 1476, 5132, 88586, 1601, 1206, 88586, 88621, 960, 3360, 960, 1476, 3, 2011, 88586, 88590, 960, 2011, 3, 827, 10, 1961, 10, 827, 5132, 88586, 3, 1145, 827, 1203, 3, 2011, 2011, 5132, 88586, 1206, 960, 2011, 2011, 88586, 500, 5132, 88586, 827, 2020, 960, 88586, 1989, 3, 5132, 587, 10, 1092, 960, 88586, 10, 3360, 88586, 827, 2020, 960, 88586, 2011, 3, 1476, 1328, 960, 1476, 88586, 1654, 2020, 5132, 587, 10, 1145, 587, 88586, 1145, 1601, 1980, 1980, 1203, 3360, 10, 827, 5132, 88587, 88586, 3, 3360, 1092, 88586, 587, 827, 3, 5132, 960, 1092, 88586, 10, 3360, 88586, 827, 2020, 960, 88586, 1092, 10, 827, 1145, 2020, 88586, 1206, 1601, 1476, 88586, 1980, 3, 3360, 5132, 88586, 5132, 960, 3, 1476, 587, 88589, 88586, 88596, 2020, 960, 3360, 88586, 587, 1203, 1092, 1092, 960, 3360, 2011, 5132, 88587, 88586, 10, 827, 88586, 1980, 3, 1092, 960, 88586, 3, 88586, 500, 10, 1328, 88586, 1145, 1601, 1980, 960, 500, 3, 1145, 2292, 88589, 88586, 88585, 827, 755, 587, 88586, 3360, 1601, 1989, 88586, 1145, 960, 3360, 827, 1476, 3, 2011, 88586, 827, 1601, 88586, 960, 1980, 960, 1476, 1328, 10, 3360, 1328, 88586, 587, 1145, 10, 960, 3360, 1145, 960, 88589, 88586, 88595, 587, 88586, 88605, 960, 1476, 1476, 960, 10, 1476, 3, 88586, 587, 1601, 88586, 1092, 960, 1206, 827, 2011, 5132, 88586, 587, 2020, 1601, 1989, 587, 88586, 1203, 587, 88587, 88586, 827, 2020, 960, 88586, 88596, 2020, 960, 1601, 1476, 5132, 88586, 1601, 1206, 88586, 88621, 960, 3360, 960, 1476, 3, 2011, 88586, 88590, 960, 2011, 3, 827, 10, 1961, 10, 827, 5132, 88586, 2020, 3, 587, 88586, 1961, 3, 2011, 1203, 960, 88586, 10, 3360, 88586, 827, 3, 2292, 10, 3360, 1328, 88586, 1203, 587, 88586, 1206, 1203, 1476, 827, 2020, 960, 1476, 88586, 10, 3360, 88586, 500, 1601, 827, 2020, 88586, 1654, 2020, 5132, 587, 10, 1145, 587, 88586, 3, 3360, 1092, 88586, 1145, 1601, 587, 1980, 1601, 2011, 1601, 1328, 5132, 88589, 88610, 2020, 960, 3360, 88586, 827, 2020, 960, 88586, 827, 1601, 1654, 10, 1145, 88586, 1601, 1206, 88586, 3, 88586, 500, 1601, 1601, 2292, 88586, 10, 587, 88586, 827, 2020, 960, 88586, 88596, 2020, 960, 1601, 1476, 5132, 88586, 1601, 1206, 88586, 88621, 960, 3360, 960, 1476, 3, 2011, 88586, 88590, 960, 2011, 3, 827, 10, 1961, 10, 827, 5132, 88587, 88586, 1654, 960, 1476, 2020, 3, 1654, 587, 88586, 827, 2020, 960, 88586, 1980, 1601, 587, 827, 88586, 1476, 960, 2011, 960, 1961, 3, 3360, 827, 88586, 3888, 1203, 960, 587, 827, 10, 1601, 3360, 88586, 3, 88586, 1476, 960, 1961, 10, 960, 1989, 960, 1476, 88586, 1145, 3, 3360, 88586, 3, 3360, 587, 1989, 960, 1476, 88586, 10, 587, 88587, 88586, 88599, 88600, 339, 467, 88601, 88610, 2020, 3, 827, 88586, 3, 500, 1601, 1203, 827, 88586, 827, 2020, 960, 88586, 1980, 3, 827, 2020, 88618, 88599, 88600, 339, 467, 88601, 88586, 88597, 960, 10, 3360, 1328, 88586, 3, 88586, 3888, 1203, 3, 3360, 827, 88586, 1980, 5132, 587, 960, 2011, 1206, 88586, 88614, 88593, 88597, 88595, 88587, 88586, 1989, 10, 827, 2020, 88586, 3, 3360, 88586, 960, 3360, 1328, 10, 3360, 960, 960, 1476, 10, 3360, 1328, 88586, 1203, 3360, 1092, 960, 1476, 1328, 1476, 3, 1092, 88615, 88587, 88586, 88585, 88586, 2020, 3, 1654, 1654, 960, 3360, 88586, 827, 1601, 88586, 2011, 10, 2292, 960, 88586, 1980, 3, 827, 2020, 88589, 88586, 88616, 587, 960, 88586, 1980, 3, 827, 2020, 88586, 827, 1601, 88586, 960, 1742, 1654, 2011, 3, 10, 3360, 88586, 587, 1601, 1980, 960, 827, 2020, 10, 3360, 1328, 88586, 827, 1601, 88586, 1980, 960, 88587, 88586, 3, 3360, 1092, 88586, 5132, 1601, 1203, 88586, 2020, 960, 2011, 1654, 88586, 1980, 960, 88586, 1203, 3360, 1092, 960, 1476, 587, 827, 3, 3360, 1092, 88589, 88586, 88617, 1742, 1145, 960, 1654, 827, 88586, 1989, 2020, 960, 3360, 88586, 10, 827, 88586, 1145, 1601, 1980, 960, 587, 88586, 827, 1601, 88586, 827, 2020, 960, 88586, 587, 827, 1476, 3, 3360, 1328, 960, 88587, 88586, 1961, 960, 1476, 5132, 88586, 3, 1092, 1961, 3, 3360, 1145, 960, 88587, 88586, 1980, 10, 3360, 1092, 88588, 3360, 1203, 1980, 500, 10, 3360, 1328, 88586, 1980, 3, 827, 2020, 88586, 1203, 587, 960, 1092, 88586, 500, 5132, 88586, 1654, 2020, 5132, 587, 10, 1145, 10, 587, 827, 587, 88586, 3, 3360, 1092, 88586, 827, 2020, 960, 10, 1476, 88586, 10, 2011, 2292, 88589, 88586, 88606, 1601, 1203, 3360, 827, 88586, 1980, 960, 88586, 1601, 1203, 827, 88589, 88586, 88605, 960, 1476, 1476, 960, 10, 1476, 3, 88586, 1092, 1601, 960, 587, 88586, 827, 2020, 960, 88586, 1476, 960, 3, 1092, 960, 1476, 88586, 827, 2020, 960, 88586, 1206, 3, 1961, 1601, 1476, 88586, 1601, 1206, 88586, 3360, 1601, 827, 88586, 827, 1476, 5132, 10, 3360, 1328, 88586, 827, 1601, 88586, 1654, 1476, 1601, 1961, 960, 88586, 2020, 960, 755, 587, 88586, 3, 3360, 88586, 960, 1328, 1328, 2020, 960, 3, 1092, 88589, 88586, 88596, 2020, 960, 1476, 960, 755, 587, 88586, 3360, 1601, 88586, 1980, 3, 827, 2020, 88586, 827, 1601, 88586, 1980, 5132, 587, 827, 10, 1206, 5132, 88586, 827, 2020, 960, 88586, 1476, 960, 3, 1092, 960, 1476, 88589, 88586, 88608, 1203, 587, 827, 88586, 3, 88586, 1328, 1476, 960, 3, 827, 88586, 587, 827, 1601, 1476, 5132, 88587, 88586, 1989, 960, 2011, 2011, 88588, 827, 1601, 2011, 1092, 88589, 88608, 1203, 587, 827, 88586, 3, 587, 88586, 3, 3360, 88586, 960, 1742, 3, 1980, 1654, 2011, 960, 88586, 1601, 1206, 88586, 827, 2020, 960, 88586, 827, 2020, 1476, 960, 3, 1092, 587, 88586, 827, 2020, 3, 827, 88586, 88605, 960, 1476, 1476, 960, 10, 1476, 3, 88586, 1654, 1203, 1476, 587, 1203, 960, 587, 88586, 10, 3360, 88586, 827, 2020, 10, 587, 88586, 500, 1601, 1601, 2292, 88587, 88586, 1145, 1601, 3360, 587, 10, 1092, 960, 1476, 88586, 500, 2011, 3, 1145, 2292, 88586, 2020, 1601, 2011, 960, 587, 88589, 88586, 88596, 2020, 960, 587, 960, 88586, 3, 1476, 960, 88586, 1980, 960, 3360, 827, 10, 1601, 3360, 960, 1092, 88586, 10, 3360, 88586, 587, 960, 1961, 960, 1476, 3, 2011, 88586, 1145, 2020, 3, 1654, 827, 960, 1476, 587, 88587, 88586, 3, 3360, 1092, 88586, 1601, 1206, 88586, 1145, 1601, 1203, 1476, 587, 960, 88586, 5132, 1601, 1203, 88586, 2292, 3360, 1601, 1989, 88586, 827, 2020, 3, 827, 88586, 1980, 960, 3, 3360, 587, 88586, 2020, 960, 88586, 827, 3, 2011, 2292, 587, 88586, 3, 500, 1601, 1203, 827, 88586, 88592, 827, 960, 1654, 2020, 960, 3360, 88586, 88602, 3, 1989, 2292, 10, 3360, 1328, 88589, 88586, 88596, 2020, 960, 88586, 1092, 1476, 3, 1980, 3, 88586, 3, 1476, 1601, 1203, 3360, 1092, 88586, 827, 2020, 10, 587, 88586, 1601, 3360, 960, 88586, 1145, 960, 2011, 960, 587, 827, 10, 3, 2011, 88586, 1601, 500, 1465, 960, 1145, 827, 88586, 1980, 3, 2292, 960, 587, 88586, 1206, 1601, 1476, 88586, 3, 88586, 587, 827, 1601, 1476, 5132, 88586, 10, 3360, 88586, 10, 827, 587, 960, 2011, 1206, 88589, 88586, 88585, 827, 88586, 1989, 3, 587, 88586, 827, 2020, 3, 827, 88586, 587, 827, 1601, 1476, 5132, 88586, 827, 2020, 3, 827, 88586, 1980, 3, 1092, 960, 88586, 88602, 3, 1989, 2292, 10, 3360, 1328, 88586, 3, 88586, 1654, 1601, 1654, 88586, 10, 1145, 1601, 3360, 88589, 88586, 88599, 88600, 339, 467, 88601, 88602, 3, 1989, 2292, 10, 3360, 1328, 88586, 1476, 3, 1092, 10, 3, 827, 10, 1601, 3360, 88599, 88600, 339, 467, 88601, 88586, 587, 1601, 2011, 1961, 960, 1092, 88586, 3, 88586, 1980, 3, 1465, 1601, 1476, 88586, 1654, 1203, 4540, 4540, 2011, 960, 88586, 1476, 960, 1328, 3, 1476, 1092, 10, 3360, 1328, 88586, 500, 2011, 3, 1145, 2292, 88586, 2020, 1601, 2011, 960, 587, 88589, 88596, 2020, 10, 587, 88586, 500, 1601, 1601, 2292, 88586, 1145, 1601, 3360, 587, 10, 587, 827, 587, 88586, 1601, 1206, 88586, 297, 467, 88586, 1145, 2020, 3, 1654, 827, 960, 1476, 587, 88586, 3, 1145, 1476, 1601, 587, 587, 88586, 238, 339, 454, 88586, 1654, 3, 1328, 960, 587, 88589, 88586, 88585, 3360, 88586, 3, 1092, 1092, 10, 827, 10, 1601, 3360, 88587, 88586, 10, 827, 88586, 2020, 3, 587, 88586, 3, 3360, 88586, 10, 3360, 1206, 1601, 1476, 1980, 3, 827, 10, 1961, 960, 88586, 88594, 1476, 1601, 2011, 1601, 1328, 1203, 960, 88587, 88586, 960, 1742, 827, 960, 3360, 587, 10, 1961, 960, 88586, 3360, 1601, 827, 960, 587, 88587, 88586, 3, 3360, 1092, 88586, 3, 3360, 88586, 10, 1980, 1654, 1476, 960, 587, 587, 10, 1961, 960, 88586, 500, 10, 500, 2011, 10, 1601, 1328, 1476, 3, 1654, 2020, 5132, 88589, 88596, 960, 1145, 2020, 3360, 10, 1145, 3, 2011, 88586, 3360, 1601, 827, 960, 88586, 1601, 3360, 88586, 827, 2020, 10, 587, 88586, 1476, 960, 1961, 10, 960, 1989, 88607, 88585, 88586, 1476, 960, 1961, 10, 960, 1989, 960, 1092, 88586, 3, 88586, 1654, 3, 1654, 960, 1476, 500, 3, 1145, 2292, 88586, 88595, 1092, 1961, 3, 3360, 1145, 960, 88586, 88590, 960, 3, 1092, 10, 3360, 1328, 88586, 88606, 1601, 1654, 5132, 88586, 1206, 1601, 1476, 88586, 88595, 1980, 3, 4540, 1601, 3360, 88586, 88619, 10, 3360, 960, 88589, 88586, 88598, 1601, 1476, 1980, 3, 2011, 2011, 5132, 88587, 88586, 827, 2020, 960, 587, 960, 88586, 3, 1092, 1961, 3, 3360, 1145, 960, 88586, 1145, 1601, 1654, 10, 960, 587, 88586, 3, 1476, 960, 88586, 1476, 10, 1206, 960, 88586, 1989, 10, 827, 2020, 88586, 1145, 1601, 1654, 5132, 88586, 960, 1092, 10, 827, 10, 3360, 1328, 88586, 960, 1476, 1476, 1601, 1476, 587, 88589, 88586, 88596, 2020, 3, 827, 88586, 1989, 3, 587, 88586, 3360, 1601, 827, 88586, 3, 827, 88586, 3, 2011, 2011, 88586, 827, 2020, 960, 88586, 1145, 3, 587, 960, 88586, 1989, 10, 827, 2020, 88586, 827, 2020, 10, 587, 88586, 1601, 3360, 960, 88589, 88586, 88609, 1961, 960, 1476, 88586, 827, 2020, 960, 88586, 1654, 3, 587, 827, 88586, 1206, 960, 1989, 88586, 5132, 960, 3, 1476, 587, 88587, 88586, 88585, 755, 1961, 960, 88586, 3360, 1601, 827, 10, 1145, 960, 1092, 88586, 3, 88586, 1092, 10, 587, 827, 10, 3360, 1145, 827, 88586, 1092, 10, 1206, 1206, 960, 1476, 960, 3360, 1145, 960, 88586, 500, 960, 827, 1989, 960, 960, 3360, 88586, 3, 1203, 827, 2020, 1601, 1476, 587, 88586, 1206, 1476, 1601, 1980, 88586, 827, 2020, 960, 88586, 88616, 88604, 88586, 3, 3360, 1092, 88586, 827, 2020, 1601, 587, 960, 88586, 1206, 1476, 1601, 1980, 88586, 827, 2020, 960, 88586, 88616, 88592, 88595, 88587, 88586, 10, 3360, 88586, 827, 960, 1476, 1980, 587, 88586, 1601, 1206, 88586, 1203, 3360, 1092, 960, 1476, 587, 827, 3, 3360, 1092, 10, 3360, 1328, 88586, 3, 3360, 1092, 88586, 10, 1980, 1654, 2011, 960, 1980, 960, 3360, 827, 10, 3360, 1328, 88586, 88592, 827, 3, 3360, 1092, 3, 1476, 1092, 88586, 88610, 1476, 10, 827, 827, 960, 3360, 88586, 88617, 3360, 1328, 2011, 10, 587, 2020, 88586, 88614, 88592, 88610, 88617, 88615, 88589, 88586, 88592, 3, 1092, 88586, 827, 1601, 88586, 587, 3, 5132, 88587, 88586, 1980, 5132, 88586, 1145, 1601, 1203, 3360, 827, 1476, 5132, 1980, 960, 3360, 88586, 1092, 1601, 88586, 3888, 1203, 10, 827, 960, 88586, 1654, 1601, 1601, 1476, 2011, 5132, 88586, 10, 3360, 88586, 827, 2020, 10, 587, 88586, 1476, 960, 1328, 3, 1476, 1092, 88587, 88586, 3360, 960, 3, 1476, 2011, 5132, 88586, 960, 1961, 960, 1476, 5132, 88586, 827, 10, 1980, 960, 88589, 88586, 88605, 960, 1476, 1476, 960, 10, 1476, 3, 88586, 10, 587, 88586, 3, 88586, 88616, 88604, 88586, 3, 1203, 827, 2020, 1601, 1476, 88587, 88586, 3, 3360, 1092, 88586, 2020, 10, 587, 88586, 1989, 1476, 10, 827, 10, 3360, 1328, 88586, 1476, 960, 1206, 2011, 960, 1145, 827, 587, 88586, 827, 2020, 960, 88586, 1980, 1203, 1145, 2020, 88586, 2020, 10, 1328, 2020, 960, 1476, 88586, 587, 827, 3, 3360, 1092, 3, 1476, 1092, 587, 88586, 827, 2020, 960, 1476, 960, 88589, 88595, 88586, 1092, 10, 587, 1145, 2011, 3, 10, 1980, 960, 1476, 88586, 3, 827, 88586, 827, 2020, 960, 88586, 1206, 1476, 1601, 3360, 827, 88586, 587, 3, 10, 1092, 88586, 827, 2020, 960, 1476, 960, 88586, 1980, 3, 5132, 88586, 500, 960, 88586, 1145, 1601, 1476, 1476, 960, 1145, 827, 10, 1601, 3360, 587, 88589, 88586, 88595, 587, 88586, 88585, 88586, 1989, 1476, 10, 827, 960, 88586, 827, 2020, 10, 587, 88586, 1476, 960, 1961, 10, 960, 1989, 88587, 88586, 88585, 88586, 1145, 3, 3360, 3360, 1601, 827, 88586, 1476, 960, 1145, 3, 2011, 2011, 88586, 3, 88586, 587, 10, 3360, 1328, 2011, 960, 88586, 960, 1476, 1476, 1601, 1476, 88586, 1601, 1206, 88586, 960, 10, 827, 2020, 960, 1476, 88586, 3, 88586, 827, 960, 1145, 2020, 3360, 10, 1145, 3, 2011, 88586, 1601, 1476, 88586, 587, 827, 5132, 2011, 960, 88586, 3360, 3, 827, 1203, 1476, 960, 88589, 88586, 88610, 960, 2011, 2011, 88586, 1092, 1601, 3360, 960, 88587, 88586, 88593, 1476, 88589, 88586, 88605, 960, 1476, 1476, 960, 10, 1476, 3, 88589]),\n",
       "       list([88589, 88585, 88586, 2292, 3360, 960, 1989, 88586, 3360, 1601, 827, 2020, 10, 3360, 1328, 88586, 3, 500, 1601, 1203, 827, 88586, 827, 2020, 960, 88586, 88599, 88600, 339, 467, 88601, 88609, 1476, 1654, 2020, 3, 3360, 88586, 88596, 1476, 3, 10, 3360, 587, 88599, 88600, 339, 467, 88601, 88589, 88586, 88586, 88596, 2020, 960, 88586, 827, 1601, 1654, 10, 1145, 88586, 960, 3360, 2011, 10, 1328, 2020, 827, 960, 3360, 10, 3360, 1328, 88589, 88586, 88586, 88596, 2020, 960, 88586, 500, 1601, 1601, 2292, 88586, 1989, 960, 2011, 2011, 88586, 1989, 1476, 10, 827, 827, 960, 3360, 88589, 88586, 88586, 88596, 2020, 960, 88586, 1601, 3360, 2011, 5132, 88586, 1476, 960, 3, 587, 1601, 3360, 88586, 88585, 88586, 1092, 10, 1092, 88586, 3360, 1601, 827, 88586, 1328, 10, 1961, 960, 88586, 10, 827, 88586, 454, 88586, 587, 827, 3, 1476, 587, 1989, 3, 587, 88586, 500, 960, 1145, 3, 1203, 587, 960, 88586, 10, 827, 88586, 1989, 3, 587, 88586, 587, 88586, 1601, 1145, 1145, 3, 587, 10, 1601, 3360, 3, 2011, 2011, 5132, 88586, 1476, 960, 1654, 960, 827, 10, 827, 1601, 1203, 587, 88589]),\n",
       "       list([88596, 2020, 10, 587, 88586, 1989, 3, 587, 88586, 3, 88586, 1328, 1476, 960, 3, 827, 88586, 500, 1601, 1601, 2292, 88587, 88586, 10, 88586, 1092, 10, 1092, 3360, 755, 827, 88586, 1989, 3, 3360, 827, 88586, 10, 827, 88586, 827, 1601, 88586, 960, 3360, 1092, 88589, 88586, 88586, 88592, 1203, 1476, 1654, 1476, 10, 587, 960, 88586, 960, 3360, 1092, 10, 3360, 1328, 88589, 88586, 88586, 88611, 1601, 1203, 88586, 1328, 960, 827, 88586, 10, 3360, 827, 1601, 88586, 827, 2020, 960, 88586, 1980, 10, 3360, 1092, 88586, 1601, 1206, 88586, 3, 88586, 827, 960, 960, 3360, 3, 1328, 960, 1476, 88589, 88586, 88586, 88621, 1476, 960, 3, 827, 88586, 1476, 960, 3, 1092]),\n",
       "       ...,\n",
       "       list([88597, 960, 1145, 3, 1203, 587, 960, 88586, 88585, 755, 1980, 88586, 3, 88586, 827, 960, 3, 1145, 2020, 960, 1476, 88587, 88586, 88585, 88586, 1989, 3, 587, 88586, 10, 1980, 1980, 960, 1092, 10, 3, 827, 960, 2011, 5132, 88586, 10, 3360, 827, 960, 1476, 960, 587, 827, 960, 1092, 88586, 10, 3360, 88586, 827, 2020, 960, 88586, 1654, 2011, 1601, 827, 88586, 2011, 10, 3360, 960, 88589, 88586, 88586, 88595, 587, 88586, 88585, 88586, 500, 960, 1328, 3, 3360, 88586, 827, 1601, 88586, 1476, 960, 3, 1092, 88587, 88586, 88585, 88586, 1206, 1601, 1203, 3360, 1092, 88586, 3, 88586, 1989, 1601, 3360, 1092, 960, 1476, 1206, 1203, 2011, 88587, 88586, 1476, 960, 3, 2011, 10, 587, 827, 10, 1145, 88586, 587, 827, 1601, 1476, 5132, 88586, 1206, 10, 2011, 2011, 960, 1092, 88586, 1989, 10, 827, 2020, 88586, 1989, 960, 2011, 2011, 88588, 1476, 1601, 1203, 3360, 1092, 960, 1092, 88587, 88586, 500, 960, 2011, 10, 960, 1961, 3, 500, 2011, 960, 88586, 1145, 2020, 3, 1476, 3, 1145, 827, 960, 1476, 587, 88589, 88586, 88586, 88585, 88586, 1145, 1601, 1203, 2011, 3360, 755, 827, 88586, 1654, 1203, 827, 88586, 10, 827, 88586, 1092, 1601, 1989, 3360, 88586, 3, 3360, 1092, 88586, 1476, 960, 3, 1092, 88586, 827, 10, 2011, 2011, 88586, 339, 88607, 2238, 2238, 88586, 3, 88589, 1980, 88589, 88586, 88586, 88585, 88586, 1654, 2011, 3, 3360, 88586, 827, 1601, 88586, 827, 1476, 5132, 88586, 1980, 1601, 1476, 960, 88586, 1601, 1206, 88586, 88592, 3, 3360, 1092, 5132, 88586, 88608, 3, 1980, 960, 587, 755, 88586, 500, 1601, 1601, 2292, 587, 88589]),\n",
       "       list([88603, 960, 960, 1654, 88586, 1145, 2020, 3, 1476, 3, 1145, 827, 960, 1476, 587, 88586, 827, 2020, 3, 827, 88586, 5132, 1601, 1203, 88586, 1145, 3, 1476, 960, 88586, 3, 500, 1601, 1203, 827, 88589, 88586, 88586, 88610, 960, 2011, 2011, 88586, 1989, 1476, 10, 827, 827, 960, 3360, 88586, 3, 3360, 1092, 88586, 3, 88586, 1328, 1476, 960, 3, 827, 88586, 960, 587, 1145, 3, 1654, 960, 88589, 88586, 88586, 88595, 500, 587, 1601, 2011, 1203, 827, 960, 2011, 5132, 88586, 3, 3360, 88586, 3, 1203, 827, 2020, 1601, 1476, 88586, 827, 1601, 88586, 2292, 960, 960, 1654, 88586, 1601, 3360, 88586, 5132, 1601, 1203, 1476, 88586, 2011, 10, 587, 827, 88589]),\n",
       "       list([88585, 88586, 827, 2020, 1601, 1203, 1328, 2020, 827, 88586, 10, 827, 88586, 1989, 3, 587, 88586, 1328, 1601, 1601, 1092, 88586, 1206, 1601, 1476, 88586, 827, 2020, 960, 88586, 1206, 10, 1476, 587, 827, 88586, 1601, 1206, 88586, 3, 88586, 587, 2020, 1601, 1476, 827, 88586, 587, 827, 1601, 1476, 5132, 88586, 500, 1203, 827, 88586, 1980, 1203, 587, 827, 88586, 2020, 3, 1961, 960, 88586, 3, 88586, 1145, 1601, 3360, 827, 10, 3360, 1203, 3, 827, 10, 1601, 3360, 88586, 1601, 1476, 88586, 587, 960, 3888, 1203, 960, 2011, 88586, 827, 1601, 88586, 1206, 10, 3360, 1092, 88586, 1601, 1203, 827, 88586, 1989, 2020, 3, 827, 88586, 2020, 3, 1654, 1654, 960, 3360, 587, 88586, 1092, 1203, 1476, 10, 3360, 1328, 88586, 827, 2020, 960, 88597, 10, 1476, 827, 2020, 88586, 3, 3360, 1092, 88586, 3, 1206, 827, 960, 1476, 88589])],\n",
       "      dtype=object)"
      ]
     },
     "execution_count": 71,
     "metadata": {},
     "output_type": "execute_result"
    }
   ],
   "source": [
    "x_train"
   ]
  },
  {
   "cell_type": "code",
   "execution_count": 56,
   "id": "e3a9d38d",
   "metadata": {},
   "outputs": [
    {
     "name": "stderr",
     "output_type": "stream",
     "text": [
      "C:\\Users\\Willow\\AppData\\Local\\Temp\\ipykernel_7160\\1396816851.py:1: VisibleDeprecationWarning: Creating an ndarray from ragged nested sequences (which is a list-or-tuple of lists-or-tuples-or ndarrays with different lengths or shapes) is deprecated. If you meant to do this, you must specify 'dtype=object' when creating the ndarray.\n",
      "  p=np.array(p)\n"
     ]
    }
   ],
   "source": [
    "p=np.array(p)"
   ]
  },
  {
   "cell_type": "code",
   "execution_count": null,
   "id": "b9f69bd5",
   "metadata": {},
   "outputs": [],
   "source": []
  },
  {
   "cell_type": "code",
   "execution_count": 41,
   "id": "22b81929",
   "metadata": {},
   "outputs": [
    {
     "data": {
      "text/plain": [
       "9000"
      ]
     },
     "execution_count": 41,
     "metadata": {},
     "output_type": "execute_result"
    }
   ],
   "source": [
    "len(x_train)"
   ]
  },
  {
   "cell_type": "code",
   "execution_count": 80,
   "id": "af911011",
   "metadata": {},
   "outputs": [],
   "source": [
    "import keras\n",
    "import tensorflow"
   ]
  }
 ],
 "metadata": {
  "kernelspec": {
   "display_name": "Python 3 (ipykernel)",
   "language": "python",
   "name": "python3"
  },
  "language_info": {
   "codemirror_mode": {
    "name": "ipython",
    "version": 3
   },
   "file_extension": ".py",
   "mimetype": "text/x-python",
   "name": "python",
   "nbconvert_exporter": "python",
   "pygments_lexer": "ipython3",
   "version": "3.10.9"
  }
 },
 "nbformat": 4,
 "nbformat_minor": 5
}
