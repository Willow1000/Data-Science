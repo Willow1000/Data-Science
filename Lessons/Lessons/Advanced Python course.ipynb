{
 "cells": [
  {
   "cell_type": "markdown",
   "id": "15518dd1",
   "metadata": {},
   "source": [
    "### Using sys"
   ]
  },
  {
   "cell_type": "code",
   "execution_count": 1,
   "id": "6c8fce28",
   "metadata": {},
   "outputs": [
    {
     "data": {
      "text/plain": [
       "1816"
      ]
     },
     "execution_count": 1,
     "metadata": {},
     "output_type": "execute_result"
    }
   ],
   "source": [
    "import sys\n",
    "import pandas as pd\n",
    "\n",
    "df = pd.read_csv('gas_prices.csv')\n",
    "sys.getsizeof(df, 'kilobytes')"
   ]
  },
  {
   "cell_type": "markdown",
   "id": "bcc41bc7",
   "metadata": {},
   "source": [
    "### Using * for multiple assignment"
   ]
  },
  {
   "cell_type": "code",
   "execution_count": 2,
   "id": "9881acc0",
   "metadata": {},
   "outputs": [
    {
     "data": {
      "text/plain": [
       "[2, 3, 4, 5]"
      ]
     },
     "execution_count": 2,
     "metadata": {},
     "output_type": "execute_result"
    }
   ],
   "source": [
    "i1, *i2,i3=(1,2,3,4,5,6)\n",
    "i2"
   ]
  },
  {
   "cell_type": "code",
   "execution_count": 6,
   "id": "e4d2f87f",
   "metadata": {},
   "outputs": [
    {
     "data": {
      "text/plain": [
       "27996"
      ]
     },
     "execution_count": 6,
     "metadata": {},
     "output_type": "execute_result"
    }
   ],
   "source": [
    "# Getting size of list\n",
    "import sys\n",
    "import numpy as np\n",
    "b=range(1000)\n",
    "j=0\n",
    "for number in b:\n",
    "    j+=sys.getsizeof(number,'kilobytes')\n",
    "    \n",
    "j"
   ]
  },
  {
   "cell_type": "markdown",
   "id": "3fd55cba",
   "metadata": {},
   "source": [
    "### Using timeit "
   ]
  },
  {
   "cell_type": "code",
   "execution_count": 19,
   "id": "6850401b",
   "metadata": {},
   "outputs": [
    {
     "data": {
      "text/plain": [
       "7.999997251317836e-07"
      ]
     },
     "execution_count": 19,
     "metadata": {},
     "output_type": "execute_result"
    }
   ],
   "source": [
    "import timeit\n",
    "a=[1,2,3,4,5,6,7,8,9,10]\n",
    "timeit.timeit(stmt='(1,2)', number=2)\n",
    "# measures time taken to execute an operation\n",
    "# Go to strings for other uses of timeit"
   ]
  },
  {
   "cell_type": "markdown",
   "id": "3d43bb68",
   "metadata": {},
   "source": [
    "### Deleting items from Dictionaries"
   ]
  },
  {
   "cell_type": "code",
   "execution_count": 2,
   "id": "072001b4",
   "metadata": {},
   "outputs": [],
   "source": [
    "letter_number_dict = {\n",
    "    'a':'1',\n",
    "    'b':'2',\n",
    "    'c':'3'\n",
    "}\n",
    "del letter_number_dict['a']\n",
    "# OR\n",
    "letter_number_dict.pop('a')\n",
    "# OR\n",
    "# word_number_dict.popitem() - to remove last arbitrary pair"
   ]
  },
  {
   "cell_type": "markdown",
   "id": "eec68bb6",
   "metadata": {},
   "source": [
    "### Looping through a dictionary"
   ]
  },
  {
   "cell_type": "code",
   "execution_count": 15,
   "id": "4ba45d9c",
   "metadata": {},
   "outputs": [
    {
     "name": "stdout",
     "output_type": "stream",
     "text": [
      "b\n",
      "c\n",
      "2\n",
      "3\n",
      "b 2\n",
      "c 3\n"
     ]
    }
   ],
   "source": [
    "for key in letter_number_dict.keys():\n",
    "    print(key)\n",
    "for value in letter_number_dict.values():\n",
    "    print(value)\n",
    "for key, value in letter_number_dict.items():\n",
    "    print(key, value)\n",
    "    "
   ]
  },
  {
   "cell_type": "markdown",
   "id": "94fd643c",
   "metadata": {},
   "source": [
    "### Copying a dictionary"
   ]
  },
  {
   "cell_type": "code",
   "execution_count": 16,
   "id": "3759a672",
   "metadata": {},
   "outputs": [
    {
     "ename": "NameError",
     "evalue": "name 'word_number_dict' is not defined",
     "output_type": "error",
     "traceback": [
      "\u001b[1;31m---------------------------------------------------------------------------\u001b[0m",
      "\u001b[1;31mNameError\u001b[0m                                 Traceback (most recent call last)",
      "\u001b[1;32m~\\AppData\\Local\\Temp\\ipykernel_8904\\551847457.py\u001b[0m in \u001b[0;36m<module>\u001b[1;34m\u001b[0m\n\u001b[1;32m----> 1\u001b[1;33m \u001b[0mletter_number_dict1\u001b[0m \u001b[1;33m=\u001b[0m \u001b[0mword_number_dict\u001b[0m\u001b[1;33m.\u001b[0m\u001b[0mcopy\u001b[0m\u001b[1;33m(\u001b[0m\u001b[1;33m)\u001b[0m\u001b[1;33m\u001b[0m\u001b[1;33m\u001b[0m\u001b[0m\n\u001b[0m\u001b[0;32m      2\u001b[0m \u001b[1;31m# OR\u001b[0m\u001b[1;33m\u001b[0m\u001b[1;33m\u001b[0m\u001b[0m\n\u001b[0;32m      3\u001b[0m \u001b[0mletter_number_dict1\u001b[0m\u001b[1;33m=\u001b[0m \u001b[0mdict\u001b[0m\u001b[1;33m(\u001b[0m\u001b[0mword_number_dict\u001b[0m\u001b[1;33m)\u001b[0m\u001b[1;33m\u001b[0m\u001b[1;33m\u001b[0m\u001b[0m\n",
      "\u001b[1;31mNameError\u001b[0m: name 'word_number_dict' is not defined"
     ]
    }
   ],
   "source": [
    "letter_number_dict1 = word_number_dict.copy()\n",
    "# OR\n",
    "letter_number_dict1= dict(word_number_dict)"
   ]
  },
  {
   "cell_type": "markdown",
   "id": "76046181",
   "metadata": {},
   "source": [
    "### Looking at elements in a dictionary"
   ]
  },
  {
   "cell_type": "code",
   "execution_count": 7,
   "id": "3fc77d38",
   "metadata": {},
   "outputs": [
    {
     "data": {
      "text/plain": [
       "dict_values(['2', '3'])"
      ]
     },
     "execution_count": 7,
     "metadata": {},
     "output_type": "execute_result"
    }
   ],
   "source": [
    "# key pairs\n",
    "letter_number_dict.items()\n",
    "# keys\n",
    "letter_number_dict.keys()\n",
    "# values\n",
    "letter_number_dict.values()"
   ]
  },
  {
   "cell_type": "markdown",
   "id": "c4136a14",
   "metadata": {},
   "source": [
    "### Merging dictionaries"
   ]
  },
  {
   "cell_type": "code",
   "execution_count": 8,
   "id": "593e9c10",
   "metadata": {},
   "outputs": [
    {
     "data": {
      "text/plain": [
       "{'b': '2',\n",
       " 'c': '3',\n",
       " 'niaje': 'hi',\n",
       " 'umeshindaje?': \"how've you been?\",\n",
       " 'rada?': 'whats up'}"
      ]
     },
     "execution_count": 8,
     "metadata": {},
     "output_type": "execute_result"
    }
   ],
   "source": [
    "dict2 = {\n",
    "    'niaje':'hi',\n",
    "    'umeshindaje?':\"how've you been?\",\n",
    "    'rada?':'whats up'\n",
    "    \n",
    "}\n",
    "letter_number_dict.update(dict2)\n",
    "letter_number_dict"
   ]
  },
  {
   "cell_type": "markdown",
   "id": "1b8591a4",
   "metadata": {},
   "source": [
    "### Sets"
   ]
  },
  {
   "cell_type": "code",
   "execution_count": 3,
   "id": "1f3d81a5",
   "metadata": {},
   "outputs": [
    {
     "data": {
      "text/plain": [
       "{'Jane', 'Jeffreys', 'Jerry'}"
      ]
     },
     "execution_count": 3,
     "metadata": {},
     "output_type": "execute_result"
    }
   ],
   "source": [
    "# Unlike dictionaries,sets do not accomodate duplicates\n",
    "names = {'Jane','Jean','Jerry','Jeffreys','Jean'}\n",
    "names\n",
    "\n",
    "person=set('Hello')\n",
    "# Adding elements to a set\n",
    "names.add('Job')\n",
    "# Removing elements from a dictionary \n",
    "names.remove('Jean')\n",
    "# OR\n",
    "names.discard('Jean')\n",
    "# OR\n",
    "# names.clear()- to empty the set\n",
    "# OR\n",
    "names.pop()"
   ]
  },
  {
   "cell_type": "code",
   "execution_count": 8,
   "id": "1c565fe9",
   "metadata": {},
   "outputs": [
    {
     "data": {
      "text/plain": [
       "{'Jane', 'Jeffreys', 'Jerry'}"
      ]
     },
     "execution_count": 8,
     "metadata": {},
     "output_type": "execute_result"
    }
   ],
   "source": [
    "names = {'Jane','Jean','Jerry','Jeffreys','Jean'}\n",
    "names.discard('Jean')\n",
    "names"
   ]
  },
  {
   "cell_type": "markdown",
   "id": "a32dc5a5",
   "metadata": {},
   "source": [
    "### Union and intersection difference"
   ]
  },
  {
   "cell_type": "code",
   "execution_count": 1,
   "id": "7e0e3c9f",
   "metadata": {
    "slideshow": {
     "slide_type": "slide"
    }
   },
   "outputs": [],
   "source": [
    "odds={1,3,5,7,9}\n",
    "evens={0,2,4,6,8}\n",
    "primes={2,3,5,7,11}\n",
    "# Union-joins sets while avoiding duplicates\n",
    "odds.union(primes)\n",
    "# intersection-common items in different sets\n",
    "odds.intersection(primes)\n",
    "# difference-returns values which are not common in both sets\n",
    "odds.difference(primes)\n",
    "# OR\n",
    "odds.symmetric_difference(evens)\n",
    "\n",
    "# modifying sets\n",
    "\n",
    "# combining sets\n",
    "odds.update(evens)\n",
    "# Updating a set to only accomodate common values in another set\n",
    "primes.intersection_update(odds)\n",
    "# Updating a set by removing elements found in another set\n",
    "primes.difference_update(odds)\n",
    "# Updating a set to only accomodate unique elements in both sets\n",
    "evens.symmetric_difference_update(odds)"
   ]
  },
  {
   "cell_type": "code",
   "execution_count": 18,
   "id": "cb2b5cad",
   "metadata": {},
   "outputs": [],
   "source": [
    "a={1,2,3,4,5,9}\n",
    "b={1,2,3,4,5,9}\n",
    "a.intersection_update(b)"
   ]
  },
  {
   "cell_type": "code",
   "execution_count": 19,
   "id": "1ad8112f",
   "metadata": {},
   "outputs": [
    {
     "data": {
      "text/plain": [
       "{1, 2, 3, 4, 5, 9}"
      ]
     },
     "execution_count": 19,
     "metadata": {},
     "output_type": "execute_result"
    }
   ],
   "source": [
    "a"
   ]
  },
  {
   "cell_type": "code",
   "execution_count": null,
   "id": "e387e1d2",
   "metadata": {},
   "outputs": [],
   "source": [
    "b.add"
   ]
  },
  {
   "cell_type": "markdown",
   "id": "f74cea26",
   "metadata": {},
   "source": [
    "### Superset and disjoint methods"
   ]
  },
  {
   "cell_type": "code",
   "execution_count": 2,
   "id": "d5128d03",
   "metadata": {},
   "outputs": [
    {
     "data": {
      "text/plain": [
       "False"
      ]
     },
     "execution_count": 2,
     "metadata": {},
     "output_type": "execute_result"
    }
   ],
   "source": [
    "setA={1,2,3,4,5,6,7}\n",
    "setB={1,2,3,4}\n",
    "\n",
    "# subset contains all elements as in first set\n",
    "# determining whether a set is a subset of another\n",
    "setB.issubset(setA)\n",
    "# superset contains all elements in second set\n",
    "setA.issuperset(setB)\n",
    "# disjoint returns true if both sets lack common elements\n",
    "setA.isdisjoint(setB)\n"
   ]
  },
  {
   "cell_type": "markdown",
   "id": "f36761ed",
   "metadata": {
    "slideshow": {
     "slide_type": "subslide"
    }
   },
   "source": [
    "### Copying sets"
   ]
  },
  {
   "cell_type": "code",
   "execution_count": 73,
   "id": "a4d1acc9",
   "metadata": {
    "slideshow": {
     "slide_type": "slide"
    }
   },
   "outputs": [],
   "source": [
    "# Use .copy()\n",
    "# OR\n",
    "# setA = set(setB)"
   ]
  },
  {
   "cell_type": "markdown",
   "id": "6d5f3f2e",
   "metadata": {
    "slideshow": {
     "slide_type": "subslide"
    }
   },
   "source": [
    "### Frozen sets"
   ]
  },
  {
   "cell_type": "code",
   "execution_count": 12,
   "id": "f0ae6dd8",
   "metadata": {
    "slideshow": {
     "slide_type": "slide"
    }
   },
   "outputs": [
    {
     "data": {
      "text/plain": [
       "False"
      ]
     },
     "execution_count": 12,
     "metadata": {},
     "output_type": "execute_result"
    }
   ],
   "source": [
    "# immutable-can not be changed\n",
    "frzn_set= frozenset([1,2,3,4,5])\n",
    "frzn_set1= frozenset([2,4,6,8])\n",
    "frzn_set1.issubset(frzn_set)\n",
    "# Add,remove,pop,clear,del,popitem-wont work on frozensets\n",
    "# union,intersection,difference,disjoint,subset,superset will work on frozensets "
   ]
  },
  {
   "cell_type": "markdown",
   "id": "4a050407",
   "metadata": {
    "slideshow": {
     "slide_type": "subslide"
    }
   },
   "source": [
    "### Strings"
   ]
  },
  {
   "cell_type": "code",
   "execution_count": 3,
   "id": "e17de405",
   "metadata": {
    "slideshow": {
     "slide_type": "slide"
    }
   },
   "outputs": [
    {
     "data": {
      "text/plain": [
       "'my name is Tom'"
      ]
     },
     "execution_count": 3,
     "metadata": {},
     "output_type": "execute_result"
    }
   ],
   "source": [
    "statement = \"\"\"\\\n",
    "Hello \\\n",
    "world\n",
    "\"\"\"\n",
    "statement\n",
    "s1,*s2,s3 = 'His name is Siddharta Gigoo'.split(' ')\n",
    "# slicing\n",
    "j = s2[::-1]\n",
    "# Removing whitespace\n",
    "greetings = 'Hello world'\n",
    "greetings.strip()\n",
    "# Checking if a string starts with specific character\n",
    "greetings.startswith(' ')\n",
    "# Checking if a string ends with specific character\n",
    "greetings.endswith('')\n",
    "# Finding characters or words within a string\n",
    "# Returns index of first appearence\n",
    "greetings.find('a')\n",
    "# Replacing elements in a string\n",
    "greetings.replace('world', 'someone')\n",
    "# combining a split string\n",
    "list_greetings= greetings.split()\n",
    "new_greetings = ' '.join(list_greetings)\n",
    "# uses of .join()\n",
    "another_list=['a'] *6\n",
    "# string=''\n",
    "# for component in another_list:\n",
    "#     string += component\n",
    "# OR\n",
    "string = ''.join(another_list)\n",
    "string\n",
    "\n",
    "\n",
    "# ANOTHER USE OF TIMEIT\n",
    "# from timeit import default_timer as timer\n",
    "# start = timer()\n",
    "# string=''\n",
    "# for component in another_list:\n",
    "#     string += component\n",
    "# stop = timer() \n",
    "# print(stop-start)\n",
    "\n",
    "# start=timer()\n",
    "# string = ''.join(another_list)\n",
    "# string\n",
    "# print(stop-start)\n",
    "\n",
    "\n",
    "# Formating a string\n",
    "# Using % method\n",
    "var = 'Tom'\n",
    "string_a = 'My name is %s' % var\n",
    "# if var = integer use %d instead of %s\n",
    "# if var = float use %f and if you want specific number of digits use %.specific numberf  \n",
    "# OR\n",
    "string_b = 'my name is {}'.format(var)\n",
    "# if you want specific number of digits use {:.2f}\n",
    "string_b"
   ]
  },
  {
   "cell_type": "markdown",
   "id": "f7504603",
   "metadata": {},
   "source": [
    "### Collections"
   ]
  },
  {
   "cell_type": "code",
   "execution_count": 6,
   "id": "e0a77ba1",
   "metadata": {},
   "outputs": [
    {
     "data": {
      "text/plain": [
       "deque([1, 1, 4, 5, 6, 3])"
      ]
     },
     "execution_count": 6,
     "metadata": {},
     "output_type": "execute_result"
    }
   ],
   "source": [
    "# COUNTER\n",
    "from collections import Counter\n",
    "a = 'aaaaabbbbbsssssnnnsjj'\n",
    "counter= Counter(a)\n",
    "# all functions in common dictionaries apply\n",
    "\n",
    "# Determining most common:\n",
    "# Key pairs\n",
    "counter.most_common(2)\n",
    "# Elements\n",
    "counter.most_common(2)[0][0]\n",
    "# Getting elements\n",
    "list(counter.elements())\n",
    "\n",
    "\n",
    "# NAMEDTUPLE\n",
    "from collections import namedtuple as nt\n",
    "Point = nt('Point','x,y')\n",
    "pt = Point(1, -4)\n",
    "#  pt.x and pt.y returns x and y values\n",
    "\n",
    "\n",
    "# ORDEREDDICT\n",
    "from collections import OrderedDict as Odct\n",
    "# Unlike regular dictionaries, they mantain order in which items were inserted\n",
    "imp_dict = Odct()\n",
    "imp_dict['a'] = 1\n",
    "imp_dict['b'] = 2\n",
    "imp_dict['c'] = 7\n",
    "imp_dict\n",
    "# all functions in common dictionaries apply\n",
    "\n",
    "\n",
    "# DEFAULTDICT\n",
    "from collections import defaultdict as dft\n",
    "# fill the type of your desired default value\n",
    "d_dict = dft(int)\n",
    "d_dict['d'] = 4\n",
    "d_dict['e'] = 8\n",
    "d_dict['f']=11\n",
    "d_dict['g']\n",
    "\n",
    "\n",
    "# DEQUE\n",
    "from collections import deque as dq\n",
    "dqe_dict = dq()\n",
    "dqe_dict.append(1)\n",
    "dqe_dict.append(2)\n",
    "dqe_dict.appendleft(3)\n",
    "dqe_dict\n",
    "# Removing elements\n",
    "dqe_dict.pop()\n",
    "# OR\n",
    "# dqe_dict.clear()\n",
    "\n",
    "# Extending \n",
    "dqe_dict.extend([1,4,5,6])\n",
    "# OR\n",
    "# dqe_dict.extendleft([1,4,5,6])\n",
    "\n",
    "# Rotating\n",
    "dqe_dict.rotate(-1)\n",
    "dqe_dict\n",
    "       "
   ]
  },
  {
   "cell_type": "markdown",
   "id": "95031e52",
   "metadata": {},
   "source": [
    "### Itertools"
   ]
  },
  {
   "cell_type": "code",
   "execution_count": 9,
   "id": "b06b41e1",
   "metadata": {},
   "outputs": [
    {
     "name": "stdout",
     "output_type": "stream",
     "text": [
      "[(0, 1, 2, 3), (0, 1, 2, 4), (0, 1, 2, 5), (0, 1, 3, 4), (0, 1, 3, 5), (0, 1, 4, 5), (0, 2, 3, 4), (0, 2, 3, 5), (0, 2, 4, 5), (0, 3, 4, 5), (1, 2, 3, 4), (1, 2, 3, 5), (1, 2, 4, 5), (1, 3, 4, 5), (2, 3, 4, 5)]\n",
      "True [1, 2]\n",
      "False [3, 4, 5, 6, 7, 8, 9, 10, 11, 12]\n",
      "25 [{'name': 'Jack', 'age': 25}, {'name': 'Sharlyn', 'age': 25}]\n",
      "27 [{'name': 'Allison', 'age': 27}]\n",
      "28 [{'name': 'Ashley', 'age': 28}]\n",
      "10\n",
      "11\n",
      "12\n",
      "13\n",
      "14\n",
      "15\n",
      "16\n",
      "17\n",
      "1\n",
      "2\n",
      "3\n",
      "1\n",
      "2\n",
      "3\n",
      "1\n",
      "7\n",
      "7\n",
      "7\n",
      "7\n",
      "7\n",
      "7\n",
      "7\n"
     ]
    }
   ],
   "source": [
    "# PRODUCTS\n",
    "from itertools import product as pct\n",
    "a=[1,2]\n",
    "b=[3,4]\n",
    "prod = pct(a,b, repeat=2)\n",
    "list(prod)\n",
    "\n",
    "# PERMUTATIONS\n",
    "from itertools import permutations as pmts\n",
    "w = [1,2,3]\n",
    "pmt = pmts(w,3)\n",
    "list(pmt)\n",
    "\n",
    "# COMBINATIONS\n",
    "from itertools import combinations as cns\n",
    "from itertools import combinations_with_replacement\n",
    "m= [0,1,2,3,4,5]\n",
    "comb = cns(m,4)\n",
    "print(list(comb))\n",
    "cwr = combinations_with_replacement(m,6)\n",
    "list(cwr)\n",
    "\n",
    "\n",
    "# ACCUMULATE\n",
    "from itertools import accumulate as acc\n",
    "import operator as op\n",
    "s = [1,2,9,4,5,6,7,8]\n",
    "# sum\n",
    "acme = acc(s)\n",
    "list(acme)\n",
    "# multiplicaton\n",
    "acmf = acc(s,func=op.mul)\n",
    "list(acmf)\n",
    "# maximum\n",
    "acmg = acc(s,func=max)\n",
    "list(acmg)\n",
    "\n",
    "\n",
    "\n",
    "# GROUPBY\n",
    "# First example\n",
    "from itertools import groupby as gpby\n",
    "def smaller_than_three(x):\n",
    "    return x < 3\n",
    "\n",
    "\n",
    "sam= [1,2,3,4,5,6,7,8,9,10,11,12]\n",
    "grp = gpby(sam, key=smaller_than_three)\n",
    "# OR\n",
    "# grp = gpby(sam, key=lambda x: x<3)\n",
    "for key, value in grp:\n",
    "    print(key,list(value))\n",
    "    \n",
    "# Second example\n",
    "persons = [{'name':'Jack','age':25},{'name':'Sharlyn','age':25},\n",
    "           {'name':'Allison','age':27},{'name':'Ashley','age':28}]\n",
    "grp1 = gpby(persons, key=lambda x: x['age'])\n",
    "for key, values in grp1:\n",
    "    print(key,list(values))\n",
    "    \n",
    "    \n",
    "# INFINITE ITERATORS\n",
    "from itertools import count,cycle,repeat\n",
    "# count-creates an endless list starting from value in () \n",
    "for i in count(10):\n",
    "    print(i)\n",
    "    if i == 17:\n",
    "        break\n",
    "        \n",
    "# cycle\n",
    "# cycles through a list  or tuple or dictionary infinitely\n",
    "y = [1,2,3]\n",
    "count=0\n",
    "for i in cycle(y):\n",
    "    print(i)\n",
    "    count+=1\n",
    "    if count == 7:\n",
    "        break\n",
    "        \n",
    "# repeat\n",
    "# creates enumerable list of an item\n",
    "for i in repeat(7,7):\n",
    "    print(i)\n",
    "    \n",
    "    \n"
   ]
  },
  {
   "cell_type": "code",
   "execution_count": 114,
   "id": "a87b2786",
   "metadata": {},
   "outputs": [],
   "source": [
    "for key, value in grp1:\n",
    "    print(key,list(value))"
   ]
  },
  {
   "cell_type": "markdown",
   "id": "8638b451",
   "metadata": {},
   "source": [
    "### Lambdas"
   ]
  },
  {
   "cell_type": "code",
   "execution_count": 10,
   "id": "e68702e9",
   "metadata": {},
   "outputs": [
    {
     "data": {
      "text/plain": [
       "[(1, 2)]"
      ]
     },
     "execution_count": 10,
     "metadata": {},
     "output_type": "execute_result"
    }
   ],
   "source": [
    "# One line custom function that is not defined by a name\n",
    "# Segeant's method\n",
    "add_10 = lambda x: x+10\n",
    "add_10(1)\n",
    "\n",
    "mult = lambda x,y: x*y\n",
    "mult(33,4)\n",
    "\n",
    "points2D = [(1,2),(15,1),(5,-1),(10,4)]\n",
    "# sort using y\n",
    "sorted_points2D = sorted(points2D,key=lambda x:x[1])\n",
    "# sort using sum of x and y\n",
    "sorted_points2D1 = sorted(points2D, key=lambda x: x[0]+x[1])\n",
    "sorted_points2D1\n",
    "\n",
    "# Map function\n",
    "# multiply each element by 2\n",
    "list1=[1,2,3,4,5,6]\n",
    "list2= map(lambda x: x*2,list1)\n",
    "# OR\n",
    "# list2= x*2 for x in list1\n",
    "list(list2)\n",
    "\n",
    "# Filter function\n",
    "# Getting even numbers\n",
    "list3=filter(lambda x: x%2==0,list1)\n",
    "list(list3)\n",
    "# OR\n",
    "# list3=x for x in list1 if x%2==0\n",
    "\n",
    "\n",
    "# reduce function\n",
    "from functools import reduce\n",
    "product  = reduce(lambda x,y:x*y,list1)\n",
    "list1\n",
    "#product\n",
    "x = [1,2,3,4,5,6,7,9,10,8]\n",
    "x1 = [(1,2),(-3,6),(-4,4),(-11,9)]\n",
    "sorted(x1,key=lambda x:x[0]-x[1],reverse=True)\n",
    "list(map(lambda x:x[-1],x1))\n",
    "list(filter(lambda x:x[0]>=0,x1))"
   ]
  },
  {
   "cell_type": "code",
   "execution_count": 14,
   "id": "2711af33",
   "metadata": {},
   "outputs": [
    {
     "data": {
      "text/plain": [
       "720"
      ]
     },
     "execution_count": 14,
     "metadata": {},
     "output_type": "execute_result"
    }
   ],
   "source": [
    "product"
   ]
  },
  {
   "cell_type": "code",
   "execution_count": 8,
   "id": "88576d4b",
   "metadata": {},
   "outputs": [
    {
     "ename": "TypeError",
     "evalue": "'map' object is not subscriptable",
     "output_type": "error",
     "traceback": [
      "\u001b[1;31m---------------------------------------------------------------------------\u001b[0m",
      "\u001b[1;31mTypeError\u001b[0m                                 Traceback (most recent call last)",
      "Cell \u001b[1;32mIn[8], line 1\u001b[0m\n\u001b[1;32m----> 1\u001b[0m \u001b[38;5;28mlist\u001b[39m(\u001b[43mlist2\u001b[49m\u001b[43m[\u001b[49m\u001b[38;5;241;43m0\u001b[39;49m\u001b[43m]\u001b[49m)\n",
      "\u001b[1;31mTypeError\u001b[0m: 'map' object is not subscriptable"
     ]
    }
   ],
   "source": [
    "list(list2[0])"
   ]
  },
  {
   "cell_type": "markdown",
   "id": "0dc2d34d",
   "metadata": {},
   "source": [
    "### Exceptions and errors"
   ]
  },
  {
   "cell_type": "code",
   "execution_count": 39,
   "id": "c79b56f0",
   "metadata": {},
   "outputs": [
    {
     "name": "stdout",
     "output_type": "stream",
     "text": [
      "division by zero\n",
      "Try a smaller value 101\n"
     ]
    }
   ],
   "source": [
    "# Errors\n",
    "# Syntax errors-using invalid format of python functions\n",
    "# TypeError-mixing different types.i.e integers and strings\n",
    "# ModuleNotFoundError-trying to import a non-existing module\n",
    "# NameError when you try to assign a non-defined variable to another variable\n",
    "# FileNotFoundError-trying open a non-existing file- open('asdfghjk.csv')\n",
    "# ValueError-trying to access a non-existing value\n",
    "# IndexError-when trying to access a non-existing index in a list or tupple\n",
    "# KeyError-when trying to access a non-existing from a dictionary\n",
    "# ZeroDivisionError-dividing a umber by zero\n",
    "\n",
    "# RAISING AN EXCEPTION(FORCING)\n",
    "# X= -5\n",
    "# if X < 0:\n",
    "#     raise Exception('x should be positive')\n",
    "#  # OR\n",
    "# assert(X>=0),'X is not positive'\n",
    "\n",
    "# AVOIDING EXCEPTIONS\n",
    "# Use try and except block\n",
    "try:\n",
    "    a= 5/0\n",
    "except Exception as b:\n",
    "    print(b)\n",
    "# OR\n",
    "# except type of anticipated error(ZeroDivisionError):\n",
    "#     print('error statement')\n",
    "\n",
    "# DEFINING CUSTOM EXCEPTIONS\n",
    "class ValueTooSmallError(Exception):\n",
    "    def __init__(self, message, value):\n",
    "        self.message=message\n",
    "        self.value=value\n",
    "\n",
    "        \n",
    "        \n",
    "class ValueTooHighErrorError(Exception):\n",
    "    def __init__(self, message, value):\n",
    "        self.message=message\n",
    "        self.value=value\n",
    "         \n",
    "        \n",
    "def test_value(x):\n",
    "    if x>100:\n",
    "        raise ValueTooHighError('Try a smaller value', x)\n",
    "    if x<5:\n",
    "         raise ValueTooSmallError('Try a bigger value', x)\n",
    "\n",
    "\n",
    "try:\n",
    "    test_value(101)\n",
    "except ValueTooSmallError as e:\n",
    "    print(e.message,e.value)\n",
    "except ValueTooHighError as e:\n",
    "    print(e.message,e.value)"
   ]
  },
  {
   "cell_type": "markdown",
   "id": "f90d7d19",
   "metadata": {},
   "source": [
    "### Logging"
   ]
  },
  {
   "cell_type": "code",
   "execution_count": 100,
   "id": "e74ed225",
   "metadata": {
    "collapsed": true
   },
   "outputs": [
    {
     "name": "stderr",
     "output_type": "stream",
     "text": [
      "WARNING:root:This is a warning\n",
      "ERROR:root:This is an error message\n",
      "CRITICAL:root:This is a critical message\n",
      "--- Logging error ---\n",
      "Traceback (most recent call last):\n",
      "  File \"C:\\Users\\Willow\\Anaconda3\\lib\\logging\\__init__.py\", line 434, in format\n",
      "    return self._format(record)\n",
      "  File \"C:\\Users\\Willow\\Anaconda3\\lib\\logging\\__init__.py\", line 430, in _format\n",
      "    return self._fmt % record.__dict__\n",
      "KeyError: 'level'\n",
      "\n",
      "During handling of the above exception, another exception occurred:\n",
      "\n",
      "Traceback (most recent call last):\n",
      "  File \"C:\\Users\\Willow\\Anaconda3\\lib\\logging\\__init__.py\", line 1083, in emit\n",
      "    msg = self.format(record)\n",
      "  File \"C:\\Users\\Willow\\Anaconda3\\lib\\logging\\__init__.py\", line 927, in format\n",
      "    return fmt.format(record)\n",
      "  File \"C:\\Users\\Willow\\Anaconda3\\lib\\logging\\__init__.py\", line 666, in format\n",
      "    s = self.formatMessage(record)\n",
      "  File \"C:\\Users\\Willow\\Anaconda3\\lib\\logging\\__init__.py\", line 635, in formatMessage\n",
      "    return self._style.format(record)\n",
      "  File \"C:\\Users\\Willow\\Anaconda3\\lib\\logging\\__init__.py\", line 436, in format\n",
      "    raise ValueError('Formatting field not found in record: %s' % e)\n",
      "ValueError: Formatting field not found in record: 'level'\n",
      "Call stack:\n",
      "  File \"C:\\Users\\Willow\\Anaconda3\\lib\\runpy.py\", line 197, in _run_module_as_main\n",
      "    return _run_code(code, main_globals, None,\n",
      "  File \"C:\\Users\\Willow\\Anaconda3\\lib\\runpy.py\", line 87, in _run_code\n",
      "    exec(code, run_globals)\n",
      "  File \"C:\\Users\\Willow\\Anaconda3\\lib\\site-packages\\ipykernel_launcher.py\", line 17, in <module>\n",
      "    app.launch_new_instance()\n",
      "  File \"C:\\Users\\Willow\\Anaconda3\\lib\\site-packages\\traitlets\\config\\application.py\", line 846, in launch_instance\n",
      "    app.start()\n",
      "  File \"C:\\Users\\Willow\\Anaconda3\\lib\\site-packages\\ipykernel\\kernelapp.py\", line 712, in start\n",
      "    self.io_loop.start()\n",
      "  File \"C:\\Users\\Willow\\Anaconda3\\lib\\site-packages\\tornado\\platform\\asyncio.py\", line 199, in start\n",
      "    self.asyncio_loop.run_forever()\n",
      "  File \"C:\\Users\\Willow\\Anaconda3\\lib\\asyncio\\base_events.py\", line 601, in run_forever\n",
      "    self._run_once()\n",
      "  File \"C:\\Users\\Willow\\Anaconda3\\lib\\asyncio\\base_events.py\", line 1905, in _run_once\n",
      "    handle._run()\n",
      "  File \"C:\\Users\\Willow\\Anaconda3\\lib\\asyncio\\events.py\", line 80, in _run\n",
      "    self._context.run(self._callback, *self._args)\n",
      "  File \"C:\\Users\\Willow\\Anaconda3\\lib\\site-packages\\ipykernel\\kernelbase.py\", line 510, in dispatch_queue\n",
      "    await self.process_one()\n",
      "  File \"C:\\Users\\Willow\\Anaconda3\\lib\\site-packages\\ipykernel\\kernelbase.py\", line 499, in process_one\n",
      "    await dispatch(*args)\n",
      "  File \"C:\\Users\\Willow\\Anaconda3\\lib\\site-packages\\ipykernel\\kernelbase.py\", line 406, in dispatch_shell\n",
      "    await result\n",
      "  File \"C:\\Users\\Willow\\Anaconda3\\lib\\site-packages\\ipykernel\\kernelbase.py\", line 730, in execute_request\n",
      "    reply_content = await reply_content\n",
      "  File \"C:\\Users\\Willow\\Anaconda3\\lib\\site-packages\\ipykernel\\ipkernel.py\", line 390, in do_execute\n",
      "    res = shell.run_cell(code, store_history=store_history, silent=silent)\n",
      "  File \"C:\\Users\\Willow\\Anaconda3\\lib\\site-packages\\ipykernel\\zmqshell.py\", line 528, in run_cell\n",
      "    return super().run_cell(*args, **kwargs)\n",
      "  File \"C:\\Users\\Willow\\Anaconda3\\lib\\site-packages\\IPython\\core\\interactiveshell.py\", line 2914, in run_cell\n",
      "    result = self._run_cell(\n",
      "  File \"C:\\Users\\Willow\\Anaconda3\\lib\\site-packages\\IPython\\core\\interactiveshell.py\", line 2960, in _run_cell\n",
      "    return runner(coro)\n",
      "  File \"C:\\Users\\Willow\\Anaconda3\\lib\\site-packages\\IPython\\core\\async_helpers.py\", line 78, in _pseudo_sync_runner\n",
      "    coro.send(None)\n",
      "  File \"C:\\Users\\Willow\\Anaconda3\\lib\\site-packages\\IPython\\core\\interactiveshell.py\", line 3185, in run_cell_async\n",
      "    has_raised = await self.run_ast_nodes(code_ast.body, cell_name,\n",
      "  File \"C:\\Users\\Willow\\Anaconda3\\lib\\site-packages\\IPython\\core\\interactiveshell.py\", line 3377, in run_ast_nodes\n",
      "    if (await self.run_code(code, result,  async_=asy)):\n",
      "  File \"C:\\Users\\Willow\\Anaconda3\\lib\\site-packages\\IPython\\core\\interactiveshell.py\", line 3457, in run_code\n",
      "    exec(code_obj, self.user_global_ns, self.user_ns)\n",
      "  File \"C:\\Users\\Willow\\AppData\\Local\\Temp\\ipykernel_13020\\4050968687.py\", line 35, in <module>\n",
      "    logger.warning('this is a warning')\n",
      "Message: 'this is a warning'\n",
      "Arguments: ()\n",
      "Mylogger - WARNING - this is a warning\n",
      "--- Logging error ---\n",
      "Traceback (most recent call last):\n",
      "  File \"C:\\Users\\Willow\\Anaconda3\\lib\\logging\\__init__.py\", line 434, in format\n",
      "    return self._format(record)\n",
      "  File \"C:\\Users\\Willow\\Anaconda3\\lib\\logging\\__init__.py\", line 430, in _format\n",
      "    return self._fmt % record.__dict__\n",
      "KeyError: 'level'\n",
      "\n",
      "During handling of the above exception, another exception occurred:\n",
      "\n",
      "Traceback (most recent call last):\n",
      "  File \"C:\\Users\\Willow\\Anaconda3\\lib\\logging\\__init__.py\", line 1083, in emit\n",
      "    msg = self.format(record)\n",
      "  File \"C:\\Users\\Willow\\Anaconda3\\lib\\logging\\__init__.py\", line 927, in format\n",
      "    return fmt.format(record)\n",
      "  File \"C:\\Users\\Willow\\Anaconda3\\lib\\logging\\__init__.py\", line 666, in format\n",
      "    s = self.formatMessage(record)\n",
      "  File \"C:\\Users\\Willow\\Anaconda3\\lib\\logging\\__init__.py\", line 635, in formatMessage\n",
      "    return self._style.format(record)\n",
      "  File \"C:\\Users\\Willow\\Anaconda3\\lib\\logging\\__init__.py\", line 436, in format\n",
      "    raise ValueError('Formatting field not found in record: %s' % e)\n",
      "ValueError: Formatting field not found in record: 'level'\n",
      "Call stack:\n",
      "  File \"C:\\Users\\Willow\\Anaconda3\\lib\\runpy.py\", line 197, in _run_module_as_main\n",
      "    return _run_code(code, main_globals, None,\n",
      "  File \"C:\\Users\\Willow\\Anaconda3\\lib\\runpy.py\", line 87, in _run_code\n",
      "    exec(code, run_globals)\n",
      "  File \"C:\\Users\\Willow\\Anaconda3\\lib\\site-packages\\ipykernel_launcher.py\", line 17, in <module>\n",
      "    app.launch_new_instance()\n",
      "  File \"C:\\Users\\Willow\\Anaconda3\\lib\\site-packages\\traitlets\\config\\application.py\", line 846, in launch_instance\n",
      "    app.start()\n",
      "  File \"C:\\Users\\Willow\\Anaconda3\\lib\\site-packages\\ipykernel\\kernelapp.py\", line 712, in start\n",
      "    self.io_loop.start()\n",
      "  File \"C:\\Users\\Willow\\Anaconda3\\lib\\site-packages\\tornado\\platform\\asyncio.py\", line 199, in start\n",
      "    self.asyncio_loop.run_forever()\n",
      "  File \"C:\\Users\\Willow\\Anaconda3\\lib\\asyncio\\base_events.py\", line 601, in run_forever\n",
      "    self._run_once()\n",
      "  File \"C:\\Users\\Willow\\Anaconda3\\lib\\asyncio\\base_events.py\", line 1905, in _run_once\n",
      "    handle._run()\n",
      "  File \"C:\\Users\\Willow\\Anaconda3\\lib\\asyncio\\events.py\", line 80, in _run\n",
      "    self._context.run(self._callback, *self._args)\n",
      "  File \"C:\\Users\\Willow\\Anaconda3\\lib\\site-packages\\ipykernel\\kernelbase.py\", line 510, in dispatch_queue\n",
      "    await self.process_one()\n",
      "  File \"C:\\Users\\Willow\\Anaconda3\\lib\\site-packages\\ipykernel\\kernelbase.py\", line 499, in process_one\n",
      "    await dispatch(*args)\n",
      "  File \"C:\\Users\\Willow\\Anaconda3\\lib\\site-packages\\ipykernel\\kernelbase.py\", line 406, in dispatch_shell\n",
      "    await result\n",
      "  File \"C:\\Users\\Willow\\Anaconda3\\lib\\site-packages\\ipykernel\\kernelbase.py\", line 730, in execute_request\n",
      "    reply_content = await reply_content\n",
      "  File \"C:\\Users\\Willow\\Anaconda3\\lib\\site-packages\\ipykernel\\ipkernel.py\", line 390, in do_execute\n",
      "    res = shell.run_cell(code, store_history=store_history, silent=silent)\n",
      "  File \"C:\\Users\\Willow\\Anaconda3\\lib\\site-packages\\ipykernel\\zmqshell.py\", line 528, in run_cell\n",
      "    return super().run_cell(*args, **kwargs)\n",
      "  File \"C:\\Users\\Willow\\Anaconda3\\lib\\site-packages\\IPython\\core\\interactiveshell.py\", line 2914, in run_cell\n",
      "    result = self._run_cell(\n",
      "  File \"C:\\Users\\Willow\\Anaconda3\\lib\\site-packages\\IPython\\core\\interactiveshell.py\", line 2960, in _run_cell\n",
      "    return runner(coro)\n",
      "  File \"C:\\Users\\Willow\\Anaconda3\\lib\\site-packages\\IPython\\core\\async_helpers.py\", line 78, in _pseudo_sync_runner\n",
      "    coro.send(None)\n",
      "  File \"C:\\Users\\Willow\\Anaconda3\\lib\\site-packages\\IPython\\core\\interactiveshell.py\", line 3185, in run_cell_async\n",
      "    has_raised = await self.run_ast_nodes(code_ast.body, cell_name,\n",
      "  File \"C:\\Users\\Willow\\Anaconda3\\lib\\site-packages\\IPython\\core\\interactiveshell.py\", line 3377, in run_ast_nodes\n",
      "    if (await self.run_code(code, result,  async_=asy)):\n",
      "  File \"C:\\Users\\Willow\\Anaconda3\\lib\\site-packages\\IPython\\core\\interactiveshell.py\", line 3457, in run_code\n",
      "    exec(code_obj, self.user_global_ns, self.user_ns)\n",
      "  File \"C:\\Users\\Willow\\AppData\\Local\\Temp\\ipykernel_13020\\4050968687.py\", line 36, in <module>\n",
      "    logger.error('Error')\n",
      "Message: 'Error'\n",
      "Arguments: ()\n",
      "--- Logging error ---\n",
      "Traceback (most recent call last):\n",
      "  File \"C:\\Users\\Willow\\Anaconda3\\lib\\logging\\__init__.py\", line 434, in format\n",
      "    return self._format(record)\n",
      "  File \"C:\\Users\\Willow\\Anaconda3\\lib\\logging\\__init__.py\", line 430, in _format\n",
      "    return self._fmt % record.__dict__\n",
      "KeyError: 'level'\n",
      "\n",
      "During handling of the above exception, another exception occurred:\n",
      "\n",
      "Traceback (most recent call last):\n",
      "  File \"C:\\Users\\Willow\\Anaconda3\\lib\\logging\\__init__.py\", line 1083, in emit\n",
      "    msg = self.format(record)\n",
      "  File \"C:\\Users\\Willow\\Anaconda3\\lib\\logging\\__init__.py\", line 927, in format\n",
      "    return fmt.format(record)\n",
      "  File \"C:\\Users\\Willow\\Anaconda3\\lib\\logging\\__init__.py\", line 666, in format\n",
      "    s = self.formatMessage(record)\n",
      "  File \"C:\\Users\\Willow\\Anaconda3\\lib\\logging\\__init__.py\", line 635, in formatMessage\n",
      "    return self._style.format(record)\n",
      "  File \"C:\\Users\\Willow\\Anaconda3\\lib\\logging\\__init__.py\", line 436, in format\n",
      "    raise ValueError('Formatting field not found in record: %s' % e)\n",
      "ValueError: Formatting field not found in record: 'level'\n",
      "Call stack:\n",
      "  File \"C:\\Users\\Willow\\Anaconda3\\lib\\runpy.py\", line 197, in _run_module_as_main\n",
      "    return _run_code(code, main_globals, None,\n",
      "  File \"C:\\Users\\Willow\\Anaconda3\\lib\\runpy.py\", line 87, in _run_code\n",
      "    exec(code, run_globals)\n",
      "  File \"C:\\Users\\Willow\\Anaconda3\\lib\\site-packages\\ipykernel_launcher.py\", line 17, in <module>\n",
      "    app.launch_new_instance()\n",
      "  File \"C:\\Users\\Willow\\Anaconda3\\lib\\site-packages\\traitlets\\config\\application.py\", line 846, in launch_instance\n",
      "    app.start()\n",
      "  File \"C:\\Users\\Willow\\Anaconda3\\lib\\site-packages\\ipykernel\\kernelapp.py\", line 712, in start\n",
      "    self.io_loop.start()\n",
      "  File \"C:\\Users\\Willow\\Anaconda3\\lib\\site-packages\\tornado\\platform\\asyncio.py\", line 199, in start\n",
      "    self.asyncio_loop.run_forever()\n",
      "  File \"C:\\Users\\Willow\\Anaconda3\\lib\\asyncio\\base_events.py\", line 601, in run_forever\n",
      "    self._run_once()\n",
      "  File \"C:\\Users\\Willow\\Anaconda3\\lib\\asyncio\\base_events.py\", line 1905, in _run_once\n",
      "    handle._run()\n",
      "  File \"C:\\Users\\Willow\\Anaconda3\\lib\\asyncio\\events.py\", line 80, in _run\n",
      "    self._context.run(self._callback, *self._args)\n",
      "  File \"C:\\Users\\Willow\\Anaconda3\\lib\\site-packages\\ipykernel\\kernelbase.py\", line 510, in dispatch_queue\n",
      "    await self.process_one()\n",
      "  File \"C:\\Users\\Willow\\Anaconda3\\lib\\site-packages\\ipykernel\\kernelbase.py\", line 499, in process_one\n",
      "    await dispatch(*args)\n",
      "  File \"C:\\Users\\Willow\\Anaconda3\\lib\\site-packages\\ipykernel\\kernelbase.py\", line 406, in dispatch_shell\n",
      "    await result\n",
      "  File \"C:\\Users\\Willow\\Anaconda3\\lib\\site-packages\\ipykernel\\kernelbase.py\", line 730, in execute_request\n",
      "    reply_content = await reply_content\n",
      "  File \"C:\\Users\\Willow\\Anaconda3\\lib\\site-packages\\ipykernel\\ipkernel.py\", line 390, in do_execute\n",
      "    res = shell.run_cell(code, store_history=store_history, silent=silent)\n",
      "  File \"C:\\Users\\Willow\\Anaconda3\\lib\\site-packages\\ipykernel\\zmqshell.py\", line 528, in run_cell\n",
      "    return super().run_cell(*args, **kwargs)\n",
      "  File \"C:\\Users\\Willow\\Anaconda3\\lib\\site-packages\\IPython\\core\\interactiveshell.py\", line 2914, in run_cell\n",
      "    result = self._run_cell(\n",
      "  File \"C:\\Users\\Willow\\Anaconda3\\lib\\site-packages\\IPython\\core\\interactiveshell.py\", line 2960, in _run_cell\n",
      "    return runner(coro)\n",
      "  File \"C:\\Users\\Willow\\Anaconda3\\lib\\site-packages\\IPython\\core\\async_helpers.py\", line 78, in _pseudo_sync_runner\n",
      "    coro.send(None)\n",
      "  File \"C:\\Users\\Willow\\Anaconda3\\lib\\site-packages\\IPython\\core\\interactiveshell.py\", line 3185, in run_cell_async\n",
      "    has_raised = await self.run_ast_nodes(code_ast.body, cell_name,\n",
      "  File \"C:\\Users\\Willow\\Anaconda3\\lib\\site-packages\\IPython\\core\\interactiveshell.py\", line 3377, in run_ast_nodes\n",
      "    if (await self.run_code(code, result,  async_=asy)):\n",
      "  File \"C:\\Users\\Willow\\Anaconda3\\lib\\site-packages\\IPython\\core\\interactiveshell.py\", line 3457, in run_code\n",
      "    exec(code_obj, self.user_global_ns, self.user_ns)\n",
      "  File \"C:\\Users\\Willow\\AppData\\Local\\Temp\\ipykernel_13020\\4050968687.py\", line 36, in <module>\n",
      "    logger.error('Error')\n",
      "Message: 'Error'\n",
      "Arguments: ()\n",
      "Mylogger - ERROR - Error\n"
     ]
    }
   ],
   "source": [
    "# IT WORKS ON PYCHARM HELPER AND ADVANCED PYTHON COURSE\n",
    "# IT WORKS ON PYCHARM HELPER AND ADVANCED PYTHON COURSE\n",
    "# IT WORKS ON PYCHARM HELPER AND ADVANCED PYTHON COURSE\n",
    "import logging as lg\n",
    "lg.basicConfig(level=lg.DEBUG, format='%(asctime)s - %(name)s - %(levelname)s - %(message)s',\n",
    "               datefmt='%m/%d%Y %H:%M:%S')\n",
    "lg.debug('This is a debug message')\n",
    "lg.info('This is an info message')\n",
    "lg.warning('This is a warning')\n",
    "lg.error('This is an error message')\n",
    "lg.critical('This is a critical message')\n",
    "# IT WORKED IN PYCHARM\n",
    "# CHECK OUT ADVANCED PYTHON COURSE IN PYCHARM FOR THIS TOPIC\n",
    "\n",
    "# Creating your own logger\n",
    "logger = lg.getLogger('Mylogger')\n",
    "# IF YOU DON'T WANT TO RESTRICT YOUR LOGGER:\n",
    "logger.propagate=False\n",
    "logger.info('hello from helper')\n",
    "\n",
    "# Lock Handlers\n",
    "# Creating handlers\n",
    "stream_h = lg.StreamHandler()\n",
    "file_h = lg.FileHandler('file.log')\n",
    "\n",
    "# Level and format\n",
    "# Level\n",
    "stream_h.setLevel(lg.WARNING)\n",
    "file_h.setLevel(lg.ERROR)\n",
    "# Format\n",
    "formatter=lg.Formatter('%(name)s - %(levelname)s - %(message)s')\n",
    "stream_h.setFormatter(formatter)\n",
    "file_h.setFormatter(formatter)\n",
    "\n",
    "logger.addHandler(stream_h)\n",
    "logger.addHandler(file_h)\n",
    "\n",
    "logger.warning('this is a warning')\n",
    "logger.error('Error')\n",
    "# IT WORKS ON PYCHARM HELPER AND ADVANCED PYTHON COURSE\n",
    "# IT WORKS ON PYCHARM HELPER AND ADVANCED PYTHON COURSE\n",
    "# IT WORKS ON PYCHARM HELPER AND ADVANCED PYTHON COURSE"
   ]
  },
  {
   "cell_type": "code",
   "execution_count": 1,
   "id": "a504d470",
   "metadata": {},
   "outputs": [],
   "source": [
    "shutil."
   ]
  },
  {
   "cell_type": "code",
   "execution_count": 2,
   "id": "09205176",
   "metadata": {},
   "outputs": [],
   "source": []
  },
  {
   "cell_type": "code",
   "execution_count": 18,
   "id": "007c2b9a",
   "metadata": {},
   "outputs": [],
   "source": [
    "import re\n",
    "re."
   ]
  },
  {
   "cell_type": "code",
   "execution_count": null,
   "id": "c88a78d1",
   "metadata": {},
   "outputs": [],
   "source": [
    "# Immutables:\n",
    "# strings\n",
    "# Frozen sets\n",
    "# Tuples"
   ]
  },
  {
   "cell_type": "code",
   "execution_count": 4,
   "id": "4bab0db9",
   "metadata": {},
   "outputs": [
    {
     "ename": "Exception",
     "evalue": "Not Enough",
     "output_type": "error",
     "traceback": [
      "\u001b[1;31m---------------------------------------------------------------------------\u001b[0m",
      "\u001b[1;31mException\u001b[0m                                 Traceback (most recent call last)",
      "\u001b[1;32m~\\AppData\\Local\\Temp\\ipykernel_2396\\1748972954.py\u001b[0m in \u001b[0;36m<module>\u001b[1;34m\u001b[0m\n\u001b[0;32m      2\u001b[0m \u001b[1;31m#assert(x>=7),'Not Enough'\u001b[0m\u001b[1;33m\u001b[0m\u001b[1;33m\u001b[0m\u001b[0m\n\u001b[0;32m      3\u001b[0m \u001b[1;32mif\u001b[0m \u001b[0mx\u001b[0m\u001b[1;33m<\u001b[0m\u001b[1;36m7\u001b[0m\u001b[1;33m:\u001b[0m\u001b[1;33m\u001b[0m\u001b[1;33m\u001b[0m\u001b[0m\n\u001b[1;32m----> 4\u001b[1;33m     \u001b[1;32mraise\u001b[0m \u001b[0mException\u001b[0m\u001b[1;33m(\u001b[0m\u001b[1;34m'Not Enough'\u001b[0m\u001b[1;33m)\u001b[0m\u001b[1;33m\u001b[0m\u001b[1;33m\u001b[0m\u001b[0m\n\u001b[0m",
      "\u001b[1;31mException\u001b[0m: Not Enough"
     ]
    }
   ],
   "source": [
    "x=6\n",
    "#assert(x>=7),'Not Enough'\n",
    "if x<7:\n",
    "    raise Exception('Not Enough')"
   ]
  },
  {
   "cell_type": "code",
   "execution_count": 89,
   "id": "ce557b39",
   "metadata": {},
   "outputs": [
    {
     "data": {
      "text/plain": [
       "'Hello my name is 0.223'"
      ]
     },
     "execution_count": 89,
     "metadata": {},
     "output_type": "execute_result"
    }
   ],
   "source": [
    "import numpy as np\n",
    "name = 'My name is Kipchumba '\n",
    "name.startswith('M')\n",
    "name.endswith(' ')\n",
    "' ' in name\n",
    "name.strip()\n",
    "statement=name.split(' ')\n",
    "''.join(statement)\n",
    "intro='Hello, My name is %.3f' %10\n",
    "name='Kamau'\n",
    "intro\n",
    "intro = 'Hello my name is {}'.format(0.223)\n",
    "intro"
   ]
  }
 ],
 "metadata": {
  "kernelspec": {
   "display_name": "Python 3 (ipykernel)",
   "language": "python",
   "name": "python3"
  },
  "language_info": {
   "codemirror_mode": {
    "name": "ipython",
    "version": 3
   },
   "file_extension": ".py",
   "mimetype": "text/x-python",
   "name": "python",
   "nbconvert_exporter": "python",
   "pygments_lexer": "ipython3",
   "version": "3.10.9"
  }
 },
 "nbformat": 4,
 "nbformat_minor": 5
}
