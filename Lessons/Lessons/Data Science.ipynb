{
 "cells": [
  {
   "cell_type": "markdown",
   "id": "736f9b9c",
   "metadata": {},
   "source": [
    "#### Finding Key Connectors"
   ]
  },
  {
   "cell_type": "code",
   "execution_count": 5,
   "id": "430c5537",
   "metadata": {},
   "outputs": [],
   "source": [
    "users=[\n",
    "    {'id':0,'name':'Hero'},\n",
    "    {'id':1,'name':'Dunn'},\n",
    "    {'id':2,'name':'Su'},\n",
    "    {'id':3,'name':'Chi'},\n",
    "    {'id':4,'name':'Thor'},\n",
    "    {'id':5,'name':'Clive'},\n",
    "    {'id':6,'name':'Hicks'},\n",
    "    {'id':7,'name':'Devin'},\n",
    "    {'id':8,'name':'Kate'},\n",
    "    {'id':9,'name':'Klein'}\n",
    "     ]\n",
    "\n",
    "friendship_pairs=[(0,1),(0,2),(1,2),(1,3),(2,3),(3,4),(4,5),(5,6),(5,7),\n",
    "                 (6,8),(7,8),(8,9)]"
   ]
  },
  {
   "cell_type": "code",
   "execution_count": 60,
   "id": "436d3ed2",
   "metadata": {},
   "outputs": [
    {
     "data": {
      "text/plain": [
       "[('Dunn', 3),\n",
       " ('Su', 3),\n",
       " ('Chi', 3),\n",
       " ('Clive', 3),\n",
       " ('Kate', 3),\n",
       " ('Hero', 2),\n",
       " ('Thor', 2),\n",
       " ('Hicks', 2),\n",
       " ('Devin', 2),\n",
       " ('Klein', 1)]"
      ]
     },
     "execution_count": 60,
     "metadata": {},
     "output_type": "execute_result"
    }
   ],
   "source": [
    "#Creating a dictionary of every user and their list of friends\n",
    "friendships={user['id']:[] for user in users}\n",
    "for i,j in friendship_pairs:\n",
    "    friendships[i].append(j)\n",
    "    friendships[j].append(i)\n",
    "#Determining number of connections\n",
    "def number_of_friends(user):\n",
    "    user_id=user['id']\n",
    "    friend_ids=friendships[user_id]\n",
    "    return len(friend_ids)\n",
    "total_connections=sum(number_of_friends(user) for user in users)\n",
    "\n",
    "#Arranging users in terms of number of connections\n",
    "sorted([(user['name'],number_of_friends(user)) for user in users],key=lambda name_friends:name_friends[1],reverse=True)"
   ]
  },
  {
   "cell_type": "code",
   "execution_count": 157,
   "id": "36227c4c",
   "metadata": {},
   "outputs": [],
   "source": [
    "friendship_pairs_by_name=list(map(lambda x:(users[x[0]].get('name'),users[x[1]].get('name')),friendship_pairs))\n",
    "friendships={user['name']:set() for user in users}\n",
    "for i,j in friendship_pairs_by_name:\n",
    "    friendships[i].add(j)\n",
    "    friendships[j].add(i)\n",
    "\n",
    "def Mutual_Friend_Finder():\n",
    "    user1=input('enter first user: '.upper()).capitalize()\n",
    "    user2=input('enter second user: '.upper()).capitalize()\n",
    "    user1_friends=globals()['friendships'].get(user1)\n",
    "    user2_friends=globals()['friendships'].get(user2)\n",
    "    mutual_friends=user1_friends.intersection(user2_friends)\n",
    "    if len(mutual_friends)>0:\n",
    "        return mutual_friends\n",
    "    else:\n",
    "        print('The two users have no mutual friend'.upper())\n",
    "     "
   ]
  },
  {
   "cell_type": "code",
   "execution_count": 165,
   "id": "9a51bdc9",
   "metadata": {},
   "outputs": [
    {
     "name": "stdout",
     "output_type": "stream",
     "text": [
      "ENTER FIRST USER: clive\n",
      "ENTER SECOND USER: kate\n"
     ]
    },
    {
     "data": {
      "text/plain": [
       "{'Devin', 'Hicks'}"
      ]
     },
     "execution_count": 165,
     "metadata": {},
     "output_type": "execute_result"
    }
   ],
   "source": [
    "Mutual_Friend_Finder()"
   ]
  },
  {
   "cell_type": "code",
   "execution_count": 162,
   "id": "b97e613e",
   "metadata": {},
   "outputs": [
    {
     "data": {
      "text/plain": [
       "[{'id': 0, 'name': 'Hero'},\n",
       " {'id': 1, 'name': 'Dunn'},\n",
       " {'id': 2, 'name': 'Su'},\n",
       " {'id': 3, 'name': 'Chi'},\n",
       " {'id': 4, 'name': 'Thor'},\n",
       " {'id': 5, 'name': 'Clive'},\n",
       " {'id': 6, 'name': 'Hicks'},\n",
       " {'id': 7, 'name': 'Devin'},\n",
       " {'id': 8, 'name': 'Kate'},\n",
       " {'id': 9, 'name': 'Klein'}]"
      ]
     },
     "execution_count": 162,
     "metadata": {},
     "output_type": "execute_result"
    }
   ],
   "source": [
    "users"
   ]
  },
  {
   "cell_type": "code",
   "execution_count": 150,
   "id": "49b2e865",
   "metadata": {},
   "outputs": [],
   "source": [
    "from collections import Counter\n",
    "def friend_of_friend(user):\n",
    "    user_name=user['name']\n",
    "    return Counter(\n",
    "    foaf_id\n",
    "    for friend_id in friendships[user_name]\n",
    "    for foaf_id in friendships[friend_id]     \n",
    "    if foaf_id != user_name\n",
    "    and foaf_id not in friendships[user_name]    \n",
    "    )"
   ]
  },
  {
   "cell_type": "code",
   "execution_count": 163,
   "id": "4a6acfee",
   "metadata": {},
   "outputs": [
    {
     "data": {
      "text/plain": [
       "Counter({'Kate': 2, 'Chi': 1})"
      ]
     },
     "execution_count": 163,
     "metadata": {},
     "output_type": "execute_result"
    }
   ],
   "source": [
    "friend_of_friend(users[5])"
   ]
  },
  {
   "cell_type": "code",
   "execution_count": 145,
   "id": "ac2e5d4d",
   "metadata": {},
   "outputs": [
    {
     "data": {
      "text/plain": [
       "'Chi'"
      ]
     },
     "execution_count": 145,
     "metadata": {},
     "output_type": "execute_result"
    }
   ],
   "source": [
    "users[3]['name']"
   ]
  },
  {
   "cell_type": "code",
   "execution_count": 153,
   "id": "93e4a4b6",
   "metadata": {},
   "outputs": [
    {
     "data": {
      "text/plain": [
       "[('Hero', 'Dunn'),\n",
       " ('Hero', 'Su'),\n",
       " ('Dunn', 'Su'),\n",
       " ('Dunn', 'Chi'),\n",
       " ('Su', 'Chi'),\n",
       " ('Chi', 'Thor'),\n",
       " ('Thor', 'Clive'),\n",
       " ('Clive', 'Hicks'),\n",
       " ('Clive', 'Devin'),\n",
       " ('Hicks', 'Kate'),\n",
       " ('Devin', 'Kate'),\n",
       " ('Kate', 'Klein')]"
      ]
     },
     "execution_count": 153,
     "metadata": {},
     "output_type": "execute_result"
    }
   ],
   "source": [
    "friendship_pairs_by_name"
   ]
  }
 ],
 "metadata": {
  "kernelspec": {
   "display_name": "Python 3 (ipykernel)",
   "language": "python",
   "name": "python3"
  },
  "language_info": {
   "codemirror_mode": {
    "name": "ipython",
    "version": 3
   },
   "file_extension": ".py",
   "mimetype": "text/x-python",
   "name": "python",
   "nbconvert_exporter": "python",
   "pygments_lexer": "ipython3",
   "version": "3.10.9"
  }
 },
 "nbformat": 4,
 "nbformat_minor": 5
}
