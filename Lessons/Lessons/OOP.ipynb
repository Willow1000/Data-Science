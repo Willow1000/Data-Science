{
 "cells": [
  {
   "cell_type": "markdown",
   "id": "4147d363",
   "metadata": {},
   "source": [
    "## Function"
   ]
  },
  {
   "cell_type": "code",
   "execution_count": 1,
   "id": "252152d2",
   "metadata": {},
   "outputs": [
    {
     "name": "stdout",
     "output_type": "stream",
     "text": [
      "1 2\n",
      "1 2\n"
     ]
    }
   ],
   "source": [
    "def complicated_function(x,y):\n",
    "    print(x,y)\n",
    "    \n",
    "complicated_function(1,2) #positional argument\n",
    "complicated_function(x=1,y=2) #keyword argument\n",
    "#positional and keyword arguments should not be used consecutively lest an exception will be raised\n"
   ]
  },
  {
   "cell_type": "code",
   "execution_count": 25,
   "id": "e4afbb7d",
   "metadata": {},
   "outputs": [
    {
     "name": "stdout",
     "output_type": "stream",
     "text": [
      "1 2 (3, 4, 4, 5, 5, 6)\n"
     ]
    }
   ],
   "source": [
    "# *args accepts an indefinite amount positional arguments in a function \n",
    "def sophisticated_function(x,y,*args):\n",
    "    print(x,y,args)\n",
    "\n",
    "sophisticated_function(1,2,3,4,4,5,5,6) "
   ]
  },
  {
   "cell_type": "code",
   "execution_count": 3,
   "id": "40fc53dd",
   "metadata": {},
   "outputs": [
    {
     "name": "stdout",
     "output_type": "stream",
     "text": [
      "1 2 8\n"
     ]
    }
   ],
   "source": [
    "# **kwargs accepts indefinte amount of keyword arguments in a function\n",
    "def complex_function(x,y,**kwargs): #slicing can be used to obtain a keyword argument i.e kwargs[0]\n",
    "    print(x,y,kwargs.get('d'))\n",
    "    \n",
    "complex_function(1,2,d=8,b=567,s=1231)   "
   ]
  },
  {
   "cell_type": "code",
   "execution_count": 37,
   "id": "db6349a5",
   "metadata": {},
   "outputs": [
    {
     "name": "stdout",
     "output_type": "stream",
     "text": [
      "1 2 3\n",
      "niaje poa fitty\n"
     ]
    }
   ],
   "source": [
    "# * breaks a list where the elements of the list should be assigned separately\n",
    "# ** for dictionaries\n",
    "def tough_function(x,y,z):\n",
    "    print(x,y,z)\n",
    "    \n",
    "tough_function(*[1,2,3])  \n",
    "tough_function(**{'x':'niaje','y':'poa','z':'fitty'})"
   ]
  },
  {
   "cell_type": "code",
   "execution_count": 1,
   "id": "1f274b51",
   "metadata": {},
   "outputs": [
    {
     "name": "stdout",
     "output_type": "stream",
     "text": [
      "run\n"
     ]
    }
   ],
   "source": [
    "if __name__ =='__main__':\n",
    "    print('run')"
   ]
  },
  {
   "cell_type": "markdown",
   "id": "690471bb",
   "metadata": {},
   "source": [
    "# CLASS "
   ]
  },
  {
   "cell_type": "markdown",
   "id": "79b88274",
   "metadata": {},
   "source": [
    "###  Inheritance"
   ]
  },
  {
   "cell_type": "code",
   "execution_count": 4,
   "id": "5341a217",
   "metadata": {},
   "outputs": [],
   "source": [
    "class Mammal:\n",
    "    def __init__(self):\n",
    "        print('mammal')\n",
    "    def walk(self):\n",
    "        print('walk')\n",
    "        \n",
    "class Dog(Mammal):\n",
    "    def bark():\n",
    "        print('bark')\n",
    "class Cow(Mammal):\n",
    "    def __init__(self):\n",
    "        print('herbivore')\n",
    "        \n",
    "    def mow():\n",
    "        print('mow')\n",
    "\n",
    "#constructors in inheritance using super()\n",
    "class Dog(Mammal):\n",
    "    def __init__(self):\n",
    "        super().__init__()\n",
    "        print('carnivore')\n",
    "# MRO-method resolution order-the method is executed from left to right(biased towards left)\n",
    "class Feeding(Cow,Dog):\n",
    "    def __init__(self):\n",
    "        super().__init__()\n",
    "        print('niaje')"
   ]
  },
  {
   "cell_type": "markdown",
   "id": "c1bda276",
   "metadata": {},
   "source": [
    "### __init__ () "
   ]
  },
  {
   "cell_type": "code",
   "execution_count": 8,
   "id": "f6d0c086",
   "metadata": {},
   "outputs": [],
   "source": [
    "class Person:\n",
    "    def __init__(self,name):\n",
    "        self.name=name    \n",
    "    def walk(self):\n",
    "        print(self.name)"
   ]
  },
  {
   "cell_type": "code",
   "execution_count": 9,
   "id": "62b6910e",
   "metadata": {},
   "outputs": [
    {
     "name": "stdout",
     "output_type": "stream",
     "text": [
      "niaje\n"
     ]
    }
   ],
   "source": [
    "mtu=Person('niaje')\n",
    "mtu.walk()"
   ]
  },
  {
   "cell_type": "markdown",
   "id": "6aa5a114",
   "metadata": {},
   "source": [
    "### Overloading and overriding"
   ]
  },
  {
   "cell_type": "code",
   "execution_count": 1,
   "id": "451191b1",
   "metadata": {},
   "outputs": [],
   "source": [
    "# overloading\n",
    "# method has a range of number of arguments that can be accepted(it must not only take specific number of variable but it can\n",
    "#maximum number of arguments that it takes)\n",
    "class Arithmetic:\n",
    "    def summation(a=None,b=None,c=None):\n",
    "        if a!=None and b!=None and c!=None:\n",
    "            return a+b+c\n",
    "        elif a!=None and b!=None:\n",
    "            return a+b\n",
    "        elif a!=None:\n",
    "            return a\n",
    "        else:\n",
    "            return 0\n",
    "        \n",
    "        \n",
    "        \n",
    "# overriding\n",
    "# Brought about when a derived class inherits a method from a base(parent) class when a similar method is created in the derived\n",
    "#class the new method replaces(overrides the initial method inherited from the base class)\n",
    "class Father:\n",
    "    def phone():\n",
    "        print('Nokia 1100')\n",
    "        pass\n",
    "\n",
    "class Son(Father): #before the son buys himself a phone he initialy uses his father's\n",
    "    def phone():\n",
    "        print('IPhone 14 Pro max') #now the IPhone 14 Pro max overrides the Nokia 1100(new method overrides inherited method)\n",
    "\n"
   ]
  },
  {
   "cell_type": "code",
   "execution_count": 2,
   "id": "1d7fdd88",
   "metadata": {
    "scrolled": false
   },
   "outputs": [
    {
     "data": {
      "text/plain": [
       "10"
      ]
     },
     "execution_count": 2,
     "metadata": {},
     "output_type": "execute_result"
    }
   ],
   "source": [
    "Arithmetic.summation(2,3,5)      "
   ]
  },
  {
   "cell_type": "markdown",
   "id": "17327ec9",
   "metadata": {},
   "source": [
    "### Data Hiding"
   ]
  },
  {
   "cell_type": "code",
   "execution_count": 5,
   "id": "41aeb407",
   "metadata": {},
   "outputs": [
    {
     "name": "stdout",
     "output_type": "stream",
     "text": [
      "White\n"
     ]
    },
    {
     "ename": "AttributeError",
     "evalue": "'Person' object has no attribute 'age'",
     "output_type": "error",
     "traceback": [
      "\u001b[1;31m---------------------------------------------------------------------------\u001b[0m",
      "\u001b[1;31mAttributeError\u001b[0m                            Traceback (most recent call last)",
      "Cell \u001b[1;32mIn[5], line 11\u001b[0m\n\u001b[0;32m      9\u001b[0m Martin\u001b[38;5;241m=\u001b[39mPerson(\u001b[38;5;241m17\u001b[39m,\u001b[38;5;124m'\u001b[39m\u001b[38;5;124mWhite\u001b[39m\u001b[38;5;124m'\u001b[39m)\n\u001b[0;32m     10\u001b[0m \u001b[38;5;28mprint\u001b[39m(Martin\u001b[38;5;241m.\u001b[39mrace)\n\u001b[1;32m---> 11\u001b[0m \u001b[38;5;28mprint\u001b[39m(\u001b[43mMartin\u001b[49m\u001b[38;5;241;43m.\u001b[39;49m\u001b[43mage\u001b[49m)\n",
      "\u001b[1;31mAttributeError\u001b[0m: 'Person' object has no attribute 'age'"
     ]
    }
   ],
   "source": [
    "# Arguments from a method to ensure exclusive access\n",
    "class Person:\n",
    "    def __init__(self,age,race):\n",
    "        self.__age=age\n",
    "        self.race=race\n",
    "    \n",
    "\n",
    "\n",
    "Martin=Person(17,'White')\n",
    "print(Martin.race)\n",
    "print(Martin.age)\n",
    "# Martin's age is hidden"
   ]
  },
  {
   "cell_type": "markdown",
   "id": "1b9e6df4",
   "metadata": {},
   "source": [
    "### Iterators"
   ]
  },
  {
   "cell_type": "code",
   "execution_count": 19,
   "id": "adbbd236",
   "metadata": {},
   "outputs": [],
   "source": [
    "# using iter() function\n",
    "nums=[1,5,8,4]\n",
    "it=iter(nums)\n",
    "it.__next__()\n",
    "# or\n",
    "next(it)\n",
    "#Creating custom iterators\n",
    "class TopTen:\n",
    "    def __init__(self):\n",
    "        self.num=1\n",
    "    def __iter__(self):\n",
    "        return self\n",
    "    def __next__(self):\n",
    "        if self.num<=10:\n",
    "            val=self.num\n",
    "            self.num+=1\n",
    "            return val\n",
    "        else:\n",
    "            raise StopIteration\n",
    "            \n"
   ]
  },
  {
   "cell_type": "markdown",
   "id": "ab7103cf",
   "metadata": {},
   "source": [
    "### Generator"
   ]
  },
  {
   "cell_type": "code",
   "execution_count": 2,
   "id": "60d48f2f",
   "metadata": {},
   "outputs": [],
   "source": [
    "# special functions that generate iterators without defining iter and next function but uses keyword yield\n",
    "\n",
    "def topten():\n",
    "    n=1\n",
    "    while n<=10:\n",
    "        yield n\n",
    "        n+=1"
   ]
  },
  {
   "cell_type": "code",
   "execution_count": 3,
   "id": "68c0770c",
   "metadata": {},
   "outputs": [
    {
     "name": "stdout",
     "output_type": "stream",
     "text": [
      "1\n",
      "2\n",
      "3\n",
      "4\n",
      "5\n",
      "6\n",
      "7\n",
      "8\n",
      "9\n",
      "10\n"
     ]
    }
   ],
   "source": [
    "d=topten()\n",
    "for i in d:\n",
    "    print(i)"
   ]
  },
  {
   "cell_type": "markdown",
   "id": "7eed3534",
   "metadata": {},
   "source": [
    "### Abstract classes and methods"
   ]
  },
  {
   "cell_type": "code",
   "execution_count": 5,
   "id": "b115288b",
   "metadata": {},
   "outputs": [
    {
     "name": "stdout",
     "output_type": "stream",
     "text": [
      "solving bugs\n",
      "running\n"
     ]
    }
   ],
   "source": [
    "from abc import ABC,abstractmethod #abstract base classes\n",
    "class Computer(ABC):\n",
    "    @abstractmethod\n",
    "    def process(self):\n",
    "        pass\n",
    "    \n",
    "class Laptop(Computer):\n",
    "    def process(self):\n",
    "        print('running')\n",
    "\n",
    "class Whiteboard(Laptop):\n",
    "    def write(self):\n",
    "        print('it is writing')\n",
    "        \n",
    "class Programmer:\n",
    "    def work(self,com):\n",
    "        print('solving bugs')\n",
    "        com.process()\n",
    "\n",
    "com1=Laptop()\n",
    "com2=Whiteboard()\n",
    "prog=Programmer()\n",
    "prog.work(com2)"
   ]
  },
  {
   "cell_type": "code",
   "execution_count": 6,
   "id": "459914bf",
   "metadata": {},
   "outputs": [
    {
     "ename": "TypeError",
     "evalue": "Can't instantiate abstract class Computer with abstract method process",
     "output_type": "error",
     "traceback": [
      "\u001b[1;31m---------------------------------------------------------------------------\u001b[0m",
      "\u001b[1;31mTypeError\u001b[0m                                 Traceback (most recent call last)",
      "Cell \u001b[1;32mIn[6], line 1\u001b[0m\n\u001b[1;32m----> 1\u001b[0m \u001b[43mComputer\u001b[49m\u001b[43m(\u001b[49m\u001b[43m)\u001b[49m\n",
      "\u001b[1;31mTypeError\u001b[0m: Can't instantiate abstract class Computer with abstract method process"
     ]
    }
   ],
   "source": [
    "Computer()"
   ]
  },
  {
   "cell_type": "markdown",
   "id": "f0291c54",
   "metadata": {},
   "source": [
    "### Method"
   ]
  },
  {
   "cell_type": "code",
   "execution_count": 7,
   "id": "120ecb2a",
   "metadata": {},
   "outputs": [
    {
     "data": {
      "text/plain": [
       "23.666666666666668"
      ]
     },
     "execution_count": 7,
     "metadata": {},
     "output_type": "execute_result"
    }
   ],
   "source": [
    "#Types of method:\n",
    "# instance\n",
    "# class\n",
    "# static\n",
    "\n",
    "class Student:\n",
    "    school='Shule'\n",
    "    def __init__(self,m1,m2,m3):\n",
    "        self.m1=m1\n",
    "        self.m2=m2\n",
    "        self.m3=m3\n",
    "    def average(self):\n",
    "        return (self.m1+self.m2+self.m3)/3 #instance (uses self)\n",
    "    \n",
    "    @classmethod\n",
    "    def getschoolname(cls):\n",
    "        return cls.school #class \n",
    "    \n",
    "    @staticmethod\n",
    "    def info():\n",
    "        print('this is student class') #static\n",
    "        \n",
    "        \n",
    "s1=Student(12,34,25)\n",
    "s2=Student(23,45,63)\n",
    "s1.average()"
   ]
  },
  {
   "cell_type": "markdown",
   "id": "089a8699",
   "metadata": {},
   "source": [
    "### Inner classes"
   ]
  },
  {
   "cell_type": "code",
   "execution_count": 4,
   "id": "c6d63222",
   "metadata": {},
   "outputs": [
    {
     "name": "stdout",
     "output_type": "stream",
     "text": [
      "2548073332016\n",
      "2548073320880\n"
     ]
    }
   ],
   "source": [
    "class Student:\n",
    "    def __init__(self,name,adm):\n",
    "        self.name=name\n",
    "        self.adm=adm\n",
    "        self.lap=self.Laptop()\n",
    "    def show(self):\n",
    "        print(self.name,self.adm)\n",
    "        self.lap.show()\n",
    "\n",
    "    class Laptop:\n",
    "        def __init__(self):\n",
    "            self.brand='HP'\n",
    "            self.cpu='i5'\n",
    "            self.ram=8\n",
    "        def show(self):\n",
    "            print(self.brand,self.cpu,self.ram)\n",
    "\n",
    "            \n",
    "s1=Student('faw',6)\n",
    "s2=Student('haw',5)\n",
    "lap1=s1.lap\n",
    "lap2=s2.lap\n",
    "print(id(lap1))\n",
    "print(id(lap2))"
   ]
  },
  {
   "cell_type": "code",
   "execution_count": 5,
   "id": "412c7f9b",
   "metadata": {},
   "outputs": [
    {
     "data": {
      "text/plain": [
       "8"
      ]
     },
     "execution_count": 5,
     "metadata": {},
     "output_type": "execute_result"
    }
   ],
   "source": [
    "int.__add__(3,5)"
   ]
  },
  {
   "cell_type": "markdown",
   "id": "11ac453b",
   "metadata": {},
   "source": [
    "### Operator overloading"
   ]
  },
  {
   "cell_type": "code",
   "execution_count": 6,
   "id": "ea3eb7a6",
   "metadata": {},
   "outputs": [
    {
     "name": "stdout",
     "output_type": "stream",
     "text": [
      "(98,164)\n"
     ]
    }
   ],
   "source": [
    "class numbers:\n",
    "    def __init__(self,n1,n2):\n",
    "        self.n1=n1\n",
    "        self.n2=n2\n",
    "    def __add__(self,other):\n",
    "        n1=self.n1 + other.n1\n",
    "        n2=self.n2 + other.n2\n",
    "        s3=numbers(n1,n2)\n",
    "        return s3\n",
    "    \n",
    "    def __str__(self):\n",
    "        return f'({self.n1},{self.n2})'\n",
    "\n",
    "    \n",
    "no1=numbers(53,94)\n",
    "no2=numbers(45,70)\n",
    "no3=no1+no2\n",
    "print(no3)"
   ]
  },
  {
   "cell_type": "code",
   "execution_count": 16,
   "id": "bde6b7b6",
   "metadata": {},
   "outputs": [],
   "source": [
    "# creating a factorial function using recursion\n",
    "def fact(n):\n",
    "    if n==0:\n",
    "        return 1\n",
    "    return n*fact(n-1)"
   ]
  },
  {
   "cell_type": "code",
   "execution_count": 22,
   "id": "3fd75612",
   "metadata": {},
   "outputs": [
    {
     "data": {
      "text/plain": [
       "1"
      ]
     },
     "execution_count": 22,
     "metadata": {},
     "output_type": "execute_result"
    }
   ],
   "source": [
    "fact(0)"
   ]
  },
  {
   "cell_type": "code",
   "execution_count": 10,
   "id": "ad5e40e8",
   "metadata": {},
   "outputs": [],
   "source": [
    "def fact1(n):\n",
    "    for i in range(1,n):\n",
    "        n*=i\n",
    "    return n   "
   ]
  },
  {
   "cell_type": "markdown",
   "id": "afcf3f96",
   "metadata": {},
   "source": [
    "### Global"
   ]
  },
  {
   "cell_type": "code",
   "execution_count": 9,
   "id": "40c11630",
   "metadata": {},
   "outputs": [
    {
     "name": "stdout",
     "output_type": "stream",
     "text": [
      "10 9\n"
     ]
    },
    {
     "data": {
      "text/plain": [
       "7"
      ]
     },
     "execution_count": 9,
     "metadata": {},
     "output_type": "execute_result"
    }
   ],
   "source": [
    "#a global variable can be accessed directly alocal environment but a local variable can not be accessed directly in a global env\n",
    "#global keyword can is used to access global variable while in a function\n",
    "#globals keyword is used to access all variable(whether local or global)\n",
    "a=10\n",
    "\n",
    "def something():\n",
    "    a=9#local variable\n",
    "    x= globals()['a']#accessing global variable without affecting local variable\n",
    "    print(x,a)\n",
    "    globals()['a']=7#changing local variable\n",
    "something()\n",
    "a"
   ]
  },
  {
   "cell_type": "markdown",
   "id": "b2c8dfbb",
   "metadata": {},
   "source": [
    "### Decorators"
   ]
  },
  {
   "cell_type": "code",
   "execution_count": 26,
   "id": "a09d4552",
   "metadata": {},
   "outputs": [
    {
     "name": "stdout",
     "output_type": "stream",
     "text": [
      "1.3333333333333333\n"
     ]
    }
   ],
   "source": [
    "# decorators can be used to modify pre-defined functions\n",
    "def div(a,b):\n",
    "    print(a/b)\n",
    "#if you want to modify the div function decorators are used\n",
    "def smart_div(func):\n",
    "    \n",
    "    def inner(a,b):\n",
    "        if a<b:\n",
    "            a,b=b,a\n",
    "            return func(a,b)\n",
    "        else:\n",
    "            return func(a,b)\n",
    "    return inner\n",
    "    \n",
    "div1=smart_div(div)#creating an instance of smart_div function(the decorator)\n",
    "div1(3,4)"
   ]
  },
  {
   "cell_type": "markdown",
   "id": "8daaa479",
   "metadata": {},
   "source": [
    "### Multithreading"
   ]
  },
  {
   "cell_type": "code",
   "execution_count": 46,
   "id": "d4dc87d9",
   "metadata": {},
   "outputs": [
    {
     "name": "stdout",
     "output_type": "stream",
     "text": [
      "hello\n",
      "hi\n",
      "hello\n",
      "hi\n",
      "hello\n",
      "hi\n",
      "hello\n",
      "hi\n",
      "hello\n",
      "hi\n",
      "wozza\n"
     ]
    }
   ],
   "source": [
    "#Different operations running simultaneously\n",
    "from threading import *\n",
    "from time import sleep\n",
    "class hello(Thread):\n",
    "    def run(self):\n",
    "        for i in range(5):\n",
    "            print('hello')\n",
    "            sleep(1)\n",
    "            \n",
    "class hi(Thread):\n",
    "    def run(self):\n",
    "        for i in range(5):\n",
    "            print('hi')\n",
    "            sleep(1)\n",
    "\n",
    "            \n",
    "t1=hello()\n",
    "t2=hi()\n",
    "t1.start()\n",
    "sleep(.1)\n",
    "t2.start()\n",
    "\n",
    "t1.join()\n",
    "t2.join()\n",
    "print('wozza')"
   ]
  },
  {
   "cell_type": "markdown",
   "id": "aca09cbf",
   "metadata": {},
   "source": [
    "### Fibonacci sequence"
   ]
  },
  {
   "cell_type": "code",
   "execution_count": 1,
   "id": "05a31f46",
   "metadata": {
    "scrolled": true
   },
   "outputs": [
    {
     "name": "stdout",
     "output_type": "stream",
     "text": [
      "0\n",
      "1\n",
      "1\n",
      "2\n",
      "3\n"
     ]
    }
   ],
   "source": [
    "def fib(n):\n",
    "    a=0\n",
    "    b=1\n",
    "    if n==0:\n",
    "        return None\n",
    "    elif n==1:\n",
    "        print(a)\n",
    "    else:    \n",
    "        print(a)\n",
    "        print(b)\n",
    "\n",
    "        for i in range(2,n):\n",
    "            c=a+b\n",
    "            a=b\n",
    "            b=c\n",
    "            print(c)\n",
    "\n",
    "fib(5)"
   ]
  }
 ],
 "metadata": {
  "kernelspec": {
   "display_name": "Python 3 (ipykernel)",
   "language": "python",
   "name": "python3"
  },
  "language_info": {
   "codemirror_mode": {
    "name": "ipython",
    "version": 3
   },
   "file_extension": ".py",
   "mimetype": "text/x-python",
   "name": "python",
   "nbconvert_exporter": "python",
   "pygments_lexer": "ipython3",
   "version": "3.10.9"
  }
 },
 "nbformat": 4,
 "nbformat_minor": 5
}
