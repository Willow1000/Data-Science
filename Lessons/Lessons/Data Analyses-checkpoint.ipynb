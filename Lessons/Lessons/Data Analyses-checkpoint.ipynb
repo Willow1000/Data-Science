{
 "cells": [
  {
   "cell_type": "code",
   "execution_count": 10,
   "id": "8f9e1201",
   "metadata": {},
   "outputs": [],
   "source": [
    "# import pandas as pd\n",
    "# import matplotlib.pyplot as mpt\n",
    "# import numpy as np\n",
    "\n",
    "# mpt.figure(figsize = (4,3), dpi = 100)\n",
    "# sales = pd.read_csv('gas_prices.csv')\n",
    "# mpt.plot(sales.Year, sales.USA)\n",
    "# mpt.plot(sales.Year, sales.Canada)\n",
    "# mpt.show()"
   ]
  }
 ],
 "metadata": {
  "kernelspec": {
   "display_name": "Python 3 (ipykernel)",
   "language": "python",
   "name": "python3"
  },
  "language_info": {
   "codemirror_mode": {
    "name": "ipython",
    "version": 3
   },
   "file_extension": ".py",
   "mimetype": "text/x-python",
   "name": "python",
   "nbconvert_exporter": "python",
   "pygments_lexer": "ipython3",
   "version": "3.9.13"
  }
 },
 "nbformat": 4,
 "nbformat_minor": 5
}
