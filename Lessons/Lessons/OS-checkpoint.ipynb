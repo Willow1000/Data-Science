{
 "cells": [
  {
   "cell_type": "code",
   "execution_count": 1,
   "id": "f6ebac30",
   "metadata": {},
   "outputs": [],
   "source": [
    "import os"
   ]
  },
  {
   "cell_type": "code",
   "execution_count": 2,
   "id": "90c53cea",
   "metadata": {},
   "outputs": [
    {
     "data": {
      "text/plain": [
       "'C:\\\\Users\\\\Willow\\\\Desktop\\\\Jupyter files'"
      ]
     },
     "execution_count": 2,
     "metadata": {},
     "output_type": "execute_result"
    }
   ],
   "source": [
    "os.getcwd() #getting current working directory"
   ]
  },
  {
   "cell_type": "code",
   "execution_count": 3,
   "id": "123a9d6a",
   "metadata": {},
   "outputs": [
    {
     "data": {
      "text/plain": [
       "4"
      ]
     },
     "execution_count": 3,
     "metadata": {},
     "output_type": "execute_result"
    }
   ],
   "source": [
    "os.cpu_count()"
   ]
  },
  {
   "cell_type": "code",
   "execution_count": 4,
   "id": "f1bbecab",
   "metadata": {},
   "outputs": [
    {
     "data": {
      "text/plain": [
       "[' fifa_data matplotlib.pyplot project.ipynb',\n",
       " '.ipynb_checkpoints',\n",
       " '.vscode',\n",
       " 'adult.data',\n",
       " 'adult.names',\n",
       " 'adult.test',\n",
       " 'Advanced Python course.ipynb',\n",
       " 'AdvancedMatplotlibCourse.ipynb',\n",
       " 'all_months_data.csv',\n",
       " 'all_v2.csv',\n",
       " 'amongus.csv',\n",
       " 'BoeingStock.csv',\n",
       " 'Books_small_10000.json',\n",
       " 'Breast_Cancer.csv',\n",
       " 'car.data',\n",
       " 'car.names',\n",
       " 'Car_sales.csv',\n",
       " 'cleveland.data',\n",
       " 'CocaColaStock.csv',\n",
       " 'CommodityBalances.csv',\n",
       " 'Country_Gross Average Monthly Wages in 2020.csv',\n",
       " 'Data Analyses.ipynb',\n",
       " 'Data Analysis.ipynb',\n",
       " 'DataAnalyses2.ipynb',\n",
       " 'data_testing.ipynb',\n",
       " 'department_store_dataset.csv',\n",
       " 'Development of average annual wages.csv',\n",
       " 'epl2020.csv',\n",
       " 'epl_2022_2023_07_02_2023.json',\n",
       " 'EPL_Set.csv',\n",
       " 'fcc-ML.ipynb',\n",
       " 'fifa_data.csv',\n",
       " 'Firearm Murders.csv',\n",
       " 'flight_data_BOM_BLR.csv',\n",
       " 'flight_data_DEL_BLR.csv',\n",
       " 'flight_data_DEL_BOM.csv',\n",
       " 'flight_data_DEL_CCU.csv',\n",
       " 'flight_data_DEL_HYD.csv',\n",
       " 'Fun.ipynb',\n",
       " 'Gas_prices matplotlib.pyplot project.ipynb',\n",
       " 'gas_prices.csv',\n",
       " 'GEStock.csv',\n",
       " 'Global YouTube Statistics.csv',\n",
       " 'Gym Exercises Dataset.xlsx',\n",
       " 'heart-disease.names',\n",
       " 'household_power_consumption.txt',\n",
       " 'Housing_data.csv',\n",
       " 'IBMStock.csv',\n",
       " 'immo_data.csv',\n",
       " 'Index',\n",
       " 'insurance.csv',\n",
       " 'Iris.csv',\n",
       " 'lake como.jpg',\n",
       " 'long-beach-va.data',\n",
       " 'magic04.data',\n",
       " 'magic04.names',\n",
       " 'ML recap.ipynb',\n",
       " 'Modified Vgsales.csv',\n",
       " 'murders by type.csv',\n",
       " 'murders.csv',\n",
       " 'music.csv',\n",
       " 'new.data',\n",
       " 'new_.xlsx',\n",
       " 'NFLX.csv',\n",
       " 'NLP(NLTK).ipynb',\n",
       " 'NumpyCourse.ipynb',\n",
       " 'old.adult.names',\n",
       " 'OOP.ipynb',\n",
       " 'openpyxl.ipynb',\n",
       " 'OS.ipynb',\n",
       " 'pandas.ipynb',\n",
       " 'players_1920_fin.csv',\n",
       " 'player_info.csv',\n",
       " 'plotly.ipynb',\n",
       " 'Pokemon.csv',\n",
       " 'powerconsumption.csv',\n",
       " 'processed.cleveland.data',\n",
       " 'processed.hungarian.data',\n",
       " 'processed.switzerland.data',\n",
       " 'processed.va.data',\n",
       " 'ProcterGambleStock.csv',\n",
       " 'Ransomware & Malware.ipynb',\n",
       " 're.ipynb',\n",
       " 'realtor-data.zip.csv',\n",
       " 'Results.xlsx',\n",
       " 'Sales.csv',\n",
       " 'SalesAnalysis.ipynb',\n",
       " 'seeds_dataset.txt',\n",
       " 'SeoulBikeData.csv',\n",
       " 'streamlit.sty',\n",
       " 'student-por.csv',\n",
       " 'Telco_customer_churn.xlsx',\n",
       " 'Tetuan City power consumption.csv',\n",
       " 'Tour_Winners_data_1.csv',\n",
       " 'Tour_Winners_data_2.csv',\n",
       " 'Tour_Winners_data_3.csv',\n",
       " 'trade_prices',\n",
       " 'transactions.xlsx',\n",
       " 'Transactions3.xlsx',\n",
       " 'Untitled.ipynb',\n",
       " 'US_Accidents_Dec21_updated.csv',\n",
       " 'vgsales.csv',\n",
       " 'Web Scraping.ipynb',\n",
       " 'WineQT.csv']"
      ]
     },
     "execution_count": 4,
     "metadata": {},
     "output_type": "execute_result"
    }
   ],
   "source": [
    "os.listdir() #lists directories"
   ]
  },
  {
   "cell_type": "code",
   "execution_count": 6,
   "id": "16e048be",
   "metadata": {},
   "outputs": [
    {
     "name": "stdout",
     "output_type": "stream",
     "text": [
      "['.ipynb_checkpoints', '.vscode', 'trade_prices']\n"
     ]
    }
   ],
   "source": [
    "for root,directory, file in os.walk(os.getcwd()):\n",
    "    if len(directory) !=0: #returns directories which are not empty\n",
    "        print(directory)"
   ]
  },
  {
   "cell_type": "code",
   "execution_count": 15,
   "id": "4c7fd428",
   "metadata": {},
   "outputs": [
    {
     "name": "stdout",
     "output_type": "stream",
     "text": [
      "all_months_data.csv\n",
      "amongus.csv\n",
      "BoeingStock.csv\n",
      "Breast_Cancer.csv\n",
      "Car_sales.csv\n",
      "CocaColaStock.csv\n",
      "CommodityBalances.csv\n",
      "data.csv\n",
      "epl2020.csv\n",
      "EPL_Set.csv\n",
      "fifa_data.csv\n",
      "Firearm Murders.csv\n",
      "gas_prices.csv\n",
      "GEStock.csv\n",
      "IBMStock.csv\n",
      "insurance.csv\n",
      "Iris.csv\n",
      "kc_house_data.csv\n",
      "Modified Vgsales.csv\n",
      "murders by type.csv\n",
      "murders.csv\n",
      "music.csv\n",
      "NFLX.csv\n",
      "pet_tri.csv\n",
      "players_1920_fin.csv\n",
      "player_info.csv\n",
      "Pokemon.csv\n",
      "ProcterGambleStock.csv\n",
      "Sales.csv\n",
      "student-por.csv\n",
      "US_Accidents_Dec21_updated.csv\n",
      "vgsales.csv\n",
      "WineQT.csv\n",
      "amongus-checkpoint.csv\n"
     ]
    }
   ],
   "source": [
    "# Accessing specific format of files\n",
    "for root,directory, file in os.walk(os.getcwd()):\n",
    "    for f in file:\n",
    "        if '.csv' in f:\n",
    "            print(f)"
   ]
  },
  {
   "cell_type": "code",
   "execution_count": 3,
   "id": "f519a734",
   "metadata": {},
   "outputs": [
    {
     "name": "stdout",
     "output_type": "stream",
     "text": [
      "C:\\Users\\Willow\\Desktop\\Jupyter files\\ fifa_data matplotlib.pyplot project.ipynb\n",
      "C:\\Users\\Willow\\Desktop\\Jupyter files\\2004-2021.tsv\n",
      "C:\\Users\\Willow\\Desktop\\Jupyter files\\Advanced Python course.ipynb\n",
      "C:\\Users\\Willow\\Desktop\\Jupyter files\\AdvancedMatplotlibCourse.ipynb\n",
      "C:\\Users\\Willow\\Desktop\\Jupyter files\\all_months_data.csv\n",
      "C:\\Users\\Willow\\Desktop\\Jupyter files\\amongus.csv\n",
      "C:\\Users\\Willow\\Desktop\\Jupyter files\\Automation.ipynb\n",
      "C:\\Users\\Willow\\Desktop\\Jupyter files\\bank-additional-full.csv\n",
      "C:\\Users\\Willow\\Desktop\\Jupyter files\\bank-additional-names.txt\n",
      "C:\\Users\\Willow\\Desktop\\Jupyter files\\bank-additional.csv\n",
      "C:\\Users\\Willow\\Desktop\\Jupyter files\\BoeingStock.csv\n",
      "C:\\Users\\Willow\\Desktop\\Jupyter files\\Books_small_10000.json\n",
      "C:\\Users\\Willow\\Desktop\\Jupyter files\\Breast_Cancer.csv\n",
      "C:\\Users\\Willow\\Desktop\\Jupyter files\\Car_sales.csv\n",
      "C:\\Users\\Willow\\Desktop\\Jupyter files\\CocaColaStock.csv\n",
      "C:\\Users\\Willow\\Desktop\\Jupyter files\\CommodityBalances.csv\n",
      "C:\\Users\\Willow\\Desktop\\Jupyter files\\Data Analyses.ipynb\n",
      "C:\\Users\\Willow\\Desktop\\Jupyter files\\Data Analysis.ipynb\n",
      "C:\\Users\\Willow\\Desktop\\Jupyter files\\data.csv\n",
      "C:\\Users\\Willow\\Desktop\\Jupyter files\\DataAnalyses1.ipynb\n",
      "C:\\Users\\Willow\\Desktop\\Jupyter files\\DataAnalyses2.ipynb\n",
      "C:\\Users\\Willow\\Desktop\\Jupyter files\\data_testing.ipynb\n",
      "C:\\Users\\Willow\\Desktop\\Jupyter files\\epl2020.csv\n",
      "C:\\Users\\Willow\\Desktop\\Jupyter files\\epl_2022_2023_07_02_2023.json\n",
      "C:\\Users\\Willow\\Desktop\\Jupyter files\\EPL_Set.csv\n",
      "C:\\Users\\Willow\\Desktop\\Jupyter files\\fifa_data.csv\n",
      "C:\\Users\\Willow\\Desktop\\Jupyter files\\Firearm Murders.csv\n",
      "C:\\Users\\Willow\\Desktop\\Jupyter files\\Fun.ipynb\n",
      "C:\\Users\\Willow\\Desktop\\Jupyter files\\Functions and Classes.ipynb\n",
      "C:\\Users\\Willow\\Desktop\\Jupyter files\\Gas_prices matplotlib.pyplot project.ipynb\n",
      "C:\\Users\\Willow\\Desktop\\Jupyter files\\gas_prices.csv\n",
      "C:\\Users\\Willow\\Desktop\\Jupyter files\\GEStock.csv\n",
      "C:\\Users\\Willow\\Desktop\\Jupyter files\\household_power_consumption.txt\n",
      "C:\\Users\\Willow\\Desktop\\Jupyter files\\Housing_data.csv\n",
      "C:\\Users\\Willow\\Desktop\\Jupyter files\\IBMStock.csv\n",
      "C:\\Users\\Willow\\Desktop\\Jupyter files\\insurance.csv\n",
      "C:\\Users\\Willow\\Desktop\\Jupyter files\\Iris.csv\n",
      "C:\\Users\\Willow\\Desktop\\Jupyter files\\magic.data\n",
      "C:\\Users\\Willow\\Desktop\\Jupyter files\\ML.ipynb\n",
      "C:\\Users\\Willow\\Desktop\\Jupyter files\\Modified Vgsales.csv\n",
      "C:\\Users\\Willow\\Desktop\\Jupyter files\\murders by type.csv\n",
      "C:\\Users\\Willow\\Desktop\\Jupyter files\\murders.csv\n",
      "C:\\Users\\Willow\\Desktop\\Jupyter files\\music.csv\n",
      "C:\\Users\\Willow\\Desktop\\Jupyter files\\new_.xlsx\n",
      "C:\\Users\\Willow\\Desktop\\Jupyter files\\NFLX.csv\n",
      "C:\\Users\\Willow\\Desktop\\Jupyter files\\NumpyCourse.ipynb\n",
      "C:\\Users\\Willow\\Desktop\\Jupyter files\\openpyxl.ipynb\n",
      "C:\\Users\\Willow\\Desktop\\Jupyter files\\OS.ipynb\n",
      "C:\\Users\\Willow\\Desktop\\Jupyter files\\pandas.ipynb\n",
      "C:\\Users\\Willow\\Desktop\\Jupyter files\\pet_tri.csv\n",
      "C:\\Users\\Willow\\Desktop\\Jupyter files\\players_1920_fin.csv\n",
      "C:\\Users\\Willow\\Desktop\\Jupyter files\\player_info.csv\n",
      "C:\\Users\\Willow\\Desktop\\Jupyter files\\plotly.ipynb\n",
      "C:\\Users\\Willow\\Desktop\\Jupyter files\\Pokemon.csv\n",
      "C:\\Users\\Willow\\Desktop\\Jupyter files\\powerconsumption.csv\n",
      "C:\\Users\\Willow\\Desktop\\Jupyter files\\ProcterGambleStock.csv\n",
      "C:\\Users\\Willow\\Desktop\\Jupyter files\\Results.xlsx\n",
      "C:\\Users\\Willow\\Desktop\\Jupyter files\\Sales.csv\n",
      "C:\\Users\\Willow\\Desktop\\Jupyter files\\SalesAnalysis.ipynb\n",
      "C:\\Users\\Willow\\Desktop\\Jupyter files\\SciKitLearn & MachineLearning kg.ipynb\n",
      "C:\\Users\\Willow\\Desktop\\Jupyter files\\SciKitLearn & MachineLearning simplilearn.ipynb\n",
      "C:\\Users\\Willow\\Desktop\\Jupyter files\\streamlit.sty\n",
      "C:\\Users\\Willow\\Desktop\\Jupyter files\\student-por.csv\n",
      "C:\\Users\\Willow\\Desktop\\Jupyter files\\Tetuan City power consumption.csv\n",
      "C:\\Users\\Willow\\Desktop\\Jupyter files\\transactions.xlsx\n",
      "C:\\Users\\Willow\\Desktop\\Jupyter files\\Transactions3.xlsx\n",
      "C:\\Users\\Willow\\Desktop\\Jupyter files\\US_Accidents_Dec21_updated.csv\n",
      "C:\\Users\\Willow\\Desktop\\Jupyter files\\vgsales.csv\n",
      "C:\\Users\\Willow\\Desktop\\Jupyter files\\Web Scraping.ipynb\n",
      "C:\\Users\\Willow\\Desktop\\Jupyter files\\WineQT.csv\n",
      "C:\\Users\\Willow\\Desktop\\Jupyter files\\.ipynb_checkpoints\\ fifa_data matplotlib.pyplot project-checkpoint.ipynb\n",
      "C:\\Users\\Willow\\Desktop\\Jupyter files\\.ipynb_checkpoints\\Advanced Python course-checkpoint.ipynb\n",
      "C:\\Users\\Willow\\Desktop\\Jupyter files\\.ipynb_checkpoints\\AdvancedMatplotlibCourse-checkpoint.ipynb\n",
      "C:\\Users\\Willow\\Desktop\\Jupyter files\\.ipynb_checkpoints\\amongus-checkpoint.csv\n",
      "C:\\Users\\Willow\\Desktop\\Jupyter files\\.ipynb_checkpoints\\Automation-checkpoint.ipynb\n",
      "C:\\Users\\Willow\\Desktop\\Jupyter files\\.ipynb_checkpoints\\Data Analyses-checkpoint.ipynb\n",
      "C:\\Users\\Willow\\Desktop\\Jupyter files\\.ipynb_checkpoints\\Data Analysis-checkpoint.ipynb\n",
      "C:\\Users\\Willow\\Desktop\\Jupyter files\\.ipynb_checkpoints\\DataAnalyses1-checkpoint.ipynb\n",
      "C:\\Users\\Willow\\Desktop\\Jupyter files\\.ipynb_checkpoints\\DataAnalyses2-checkpoint.ipynb\n",
      "C:\\Users\\Willow\\Desktop\\Jupyter files\\.ipynb_checkpoints\\data_testing-checkpoint.ipynb\n",
      "C:\\Users\\Willow\\Desktop\\Jupyter files\\.ipynb_checkpoints\\Fun-checkpoint.ipynb\n",
      "C:\\Users\\Willow\\Desktop\\Jupyter files\\.ipynb_checkpoints\\Functions and Classes-checkpoint.ipynb\n",
      "C:\\Users\\Willow\\Desktop\\Jupyter files\\.ipynb_checkpoints\\Gas_prices matplotlib.pyplot project-checkpoint.ipynb\n",
      "C:\\Users\\Willow\\Desktop\\Jupyter files\\.ipynb_checkpoints\\ML-checkpoint.ipynb\n",
      "C:\\Users\\Willow\\Desktop\\Jupyter files\\.ipynb_checkpoints\\NumpyCourse-checkpoint.ipynb\n",
      "C:\\Users\\Willow\\Desktop\\Jupyter files\\.ipynb_checkpoints\\openpyxl-checkpoint.ipynb\n",
      "C:\\Users\\Willow\\Desktop\\Jupyter files\\.ipynb_checkpoints\\OS-checkpoint.ipynb\n",
      "C:\\Users\\Willow\\Desktop\\Jupyter files\\.ipynb_checkpoints\\pandas-checkpoint.ipynb\n",
      "C:\\Users\\Willow\\Desktop\\Jupyter files\\.ipynb_checkpoints\\plotly-checkpoint.ipynb\n",
      "C:\\Users\\Willow\\Desktop\\Jupyter files\\.ipynb_checkpoints\\SalesAnalysis-checkpoint.ipynb\n",
      "C:\\Users\\Willow\\Desktop\\Jupyter files\\.ipynb_checkpoints\\SciKitLearn & MachineLearning kg-checkpoint.ipynb\n",
      "C:\\Users\\Willow\\Desktop\\Jupyter files\\.ipynb_checkpoints\\SciKitLearn & MachineLearning simplilearn-checkpoint.ipynb\n",
      "C:\\Users\\Willow\\Desktop\\Jupyter files\\.ipynb_checkpoints\\Terror-checkpoint-checkpoint.ipynb\n",
      "C:\\Users\\Willow\\Desktop\\Jupyter files\\.ipynb_checkpoints\\Web Scraping-checkpoint.ipynb\n",
      "C:\\Users\\Willow\\Desktop\\Jupyter files\\.vscode\\launch.json\n"
     ]
    }
   ],
   "source": [
    "for root, directory,file in os.walk(os.getcwd()):\n",
    "    for f in file:\n",
    "        print(root+'\\\\'+f)"
   ]
  },
  {
   "cell_type": "code",
   "execution_count": 17,
   "id": "7a3d55c0",
   "metadata": {},
   "outputs": [
    {
     "data": {
      "text/plain": [
       "'C:\\\\Users\\\\Willow\\\\Desktop\\\\Jupyter files\\\\.vscode\\\\launch.json'"
      ]
     },
     "execution_count": 17,
     "metadata": {},
     "output_type": "execute_result"
    }
   ],
   "source": [
    "r\"C:\\Users\\Willow\\Desktop\\Jupyter files\\.vscode\\launch.json\""
   ]
  },
  {
   "cell_type": "code",
   "execution_count": 13,
   "id": "11231a01",
   "metadata": {},
   "outputs": [],
   "source": [
    "#os.mkdir('mm.csv') #making a directory\n",
    "os.rmdir('mm.csv') #removes direectory"
   ]
  },
  {
   "cell_type": "code",
   "execution_count": 9,
   "id": "50c149ca",
   "metadata": {},
   "outputs": [],
   "source": [
    "os.makedirs() #makes multiple directories\n",
    "os.remove() #removes multiple direcrories"
   ]
  },
  {
   "cell_type": "code",
   "execution_count": 24,
   "id": "8756319c",
   "metadata": {},
   "outputs": [],
   "source": [
    "os.rename('House_data.csv','Housing_data.csv') #renaming files"
   ]
  },
  {
   "cell_type": "code",
   "execution_count": 2,
   "id": "3060d7ed",
   "metadata": {},
   "outputs": [
    {
     "data": {
      "text/plain": [
       "44028"
      ]
     },
     "execution_count": 2,
     "metadata": {},
     "output_type": "execute_result"
    }
   ],
   "source": [
    "os.stat('Pokemon.csv').st_size #geting size of a file"
   ]
  },
  {
   "cell_type": "code",
   "execution_count": 35,
   "id": "4894dfdf",
   "metadata": {},
   "outputs": [
    {
     "data": {
      "text/plain": [
       "'C:\\\\Users\\\\Willow\\\\Desktop'"
      ]
     },
     "execution_count": 35,
     "metadata": {},
     "output_type": "execute_result"
    }
   ],
   "source": [
    "# Getting other paths\n",
    "os.environ['Userprofile']+'\\Desktop'\n",
    "os.path.join(os.path.join(os.environ['userprofile'],'Desktop')) \n",
    "os.path.normpath(os.path.expanduser('~/Desktop'))"
   ]
  },
  {
   "cell_type": "code",
   "execution_count": 4,
   "id": "234430f4",
   "metadata": {},
   "outputs": [
    {
     "data": {
      "text/plain": [
       "False"
      ]
     },
     "execution_count": 4,
     "metadata": {},
     "output_type": "execute_result"
    }
   ],
   "source": [
    "# confirming if a path leads to a file\n",
    "os.path.isfile('thekey.key')\n",
    "# confirming if a path leads to a directory(folder)\n",
    "os.path.isdir('thekey.key')"
   ]
  },
  {
   "cell_type": "code",
   "execution_count": 7,
   "id": "ca50aab8",
   "metadata": {},
   "outputs": [],
   "source": [
    "for root,directory,file in os.walk(os.getcwd()):\n",
    "    if 'ipynb' in file:\n",
    "        print(file)"
   ]
  },
  {
   "cell_type": "code",
   "execution_count": 8,
   "id": "a5760325",
   "metadata": {},
   "outputs": [
    {
     "data": {
      "text/plain": [
       "446"
      ]
     },
     "execution_count": 8,
     "metadata": {},
     "output_type": "execute_result"
    }
   ],
   "source": [
    "loc=r'C:\\Users\\Willow\\Desktop\\Music'\n",
    "len([file for file in os.listdir(loc) if '.mp3' in file])"
   ]
  },
  {
   "cell_type": "code",
   "execution_count": 38,
   "id": "ae8d866a",
   "metadata": {},
   "outputs": [],
   "source": [
    "for root,directory,file in os.walk(loc):\n",
    "    for f in file:\n",
    "        if '.mp3' in f:\n",
    "            continue\n",
    "        else:\n",
    "            path = root+'//'+f\n",
    "            os.remove(path)"
   ]
  },
  {
   "cell_type": "code",
   "execution_count": null,
   "id": "c5bf096d",
   "metadata": {},
   "outputs": [],
   "source": [
    "os.access()"
   ]
  },
  {
   "cell_type": "code",
   "execution_count": 58,
   "id": "7c462155",
   "metadata": {},
   "outputs": [],
   "source": [
    "import shutil\n",
    "for root,directory,file in os.walk(loc):\n",
    "    for d in directory:\n",
    "        path=root+'\\\\'+d\n",
    "        shutil.rmtree(path)"
   ]
  }
 ],
 "metadata": {
  "kernelspec": {
   "display_name": "Python 3 (ipykernel)",
   "language": "python",
   "name": "python3"
  },
  "language_info": {
   "codemirror_mode": {
    "name": "ipython",
    "version": 3
   },
   "file_extension": ".py",
   "mimetype": "text/x-python",
   "name": "python",
   "nbconvert_exporter": "python",
   "pygments_lexer": "ipython3",
   "version": "3.10.9"
  }
 },
 "nbformat": 4,
 "nbformat_minor": 5
}
